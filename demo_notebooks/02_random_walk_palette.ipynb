{
 "cells": [
  {
   "cell_type": "code",
   "execution_count": 1,
   "metadata": {},
   "outputs": [
    {
     "data": {
      "application/vnd.jupyter.widget-view+json": {
       "model_id": "cf6480d2d1974f3384fa3359b4ad8b78",
       "version_major": 2,
       "version_minor": 0
      },
      "text/plain": [
       "HBox(children=(Dropdown(description='Mode:', options=(('HSL', 0), ('HSV', 1), ('RGB', 2)), value=0), Checkbox(…"
      ]
     },
     "metadata": {},
     "output_type": "display_data"
    },
    {
     "data": {
      "application/vnd.jupyter.widget-view+json": {
       "model_id": "a683e620abed4d119bafad224a32cffa",
       "version_major": 2,
       "version_minor": 0
      },
      "text/plain": [
       "HBox(children=(IntSlider(value=6, description='Colors', max=250, min=1), FloatRangeSlider(value=(0.0, 0.1), de…"
      ]
     },
     "metadata": {},
     "output_type": "display_data"
    },
    {
     "data": {
      "application/vnd.jupyter.widget-view+json": {
       "model_id": "e69038ba8b5f4c58a9a022b8a7385e94",
       "version_major": 2,
       "version_minor": 0
      },
      "text/plain": [
       "Button(description='Randomize', style=ButtonStyle())"
      ]
     },
     "metadata": {},
     "output_type": "display_data"
    },
    {
     "data": {
      "application/vnd.jupyter.widget-view+json": {
       "model_id": "b66123302cbc4095b77c70700b70d659",
       "version_major": 2,
       "version_minor": 0
      },
      "text/plain": [
       "Canvas(height=200, width=720)"
      ]
     },
     "metadata": {},
     "output_type": "display_data"
    }
   ],
   "source": [
    "%run 'init_notebook.py'\n",
    "%run '02_RandomWalkPaletteDemo.py'\n",
    "demo = RandomWalkPaletteDemo()\n",
    "demo.draw()"
   ]
  },
  {
   "cell_type": "code",
   "execution_count": 2,
   "metadata": {},
   "outputs": [
    {
     "name": "stdout",
     "output_type": "stream",
     "text": [
      "['#E1BA6E', '#D95C54', '#E5E177', '#D6754E', '#E89660', '#D98E48']\n"
     ]
    }
   ],
   "source": [
    "if demo.mode.value == 0:\n",
    "    print([hsl2hex(c) for c in demo.palette])\n",
    "elif demo.mode.value == 1:\n",
    "    print([hsl2hex(c) for c in demo.palette])\n",
    "elif demo.mode.value == 2:\n",
    "    print([rgb2hex(c) for c in demo.palette])"
   ]
  },
  {
   "cell_type": "code",
   "execution_count": 18,
   "metadata": {},
   "outputs": [
    {
     "data": {
      "application/vnd.jupyter.widget-view+json": {
       "model_id": "9cfaa18dae23445b8f98874be68f55d1",
       "version_major": 2,
       "version_minor": 0
      },
      "text/plain": [
       "Canvas(height=200, width=720)"
      ]
     },
     "metadata": {},
     "output_type": "display_data"
    }
   ],
   "source": [
    "#show_palette(sort_palette_by_h(rgb2hsl(demo.palette))) # for RGB mode\n",
    "#show_palette(sort_palette_by_h(hsv2hsl(demo.palette))) # for HSV mode\n",
    "show_palette(sort_palette_by_h(demo.palette)) # for HSL mode (default)"
   ]
  },
  {
   "cell_type": "code",
   "execution_count": 21,
   "metadata": {},
   "outputs": [
    {
     "data": {
      "application/vnd.jupyter.widget-view+json": {
       "model_id": "0d930e132c694d96b8334163f675ca56",
       "version_major": 2,
       "version_minor": 0
      },
      "text/plain": [
       "Canvas(height=200, width=720)"
      ]
     },
     "metadata": {},
     "output_type": "display_data"
    }
   ],
   "source": [
    "#random_walk_palette(n, vec3, minimum, maximum)\n",
    "show_palette(random_walk_palette(10, [.5,.8,.4], .1, .3))\n"
   ]
  },
  {
   "cell_type": "code",
   "execution_count": 23,
   "metadata": {},
   "outputs": [
    {
     "data": {
      "application/vnd.jupyter.widget-view+json": {
       "model_id": "32430697121b49b5be5d4f108ccc501d",
       "version_major": 2,
       "version_minor": 0
      },
      "text/plain": [
       "Canvas(height=200, width=720)"
      ]
     },
     "metadata": {},
     "output_type": "display_data"
    }
   ],
   "source": [
    "#random_walk_reflection_palette(n, vec3, minimum, maximum)\n",
    "show_palette(random_walk_reflection_palette(10, [.2,.9,.1], .5, .8))"
   ]
  },
  {
   "cell_type": "code",
   "execution_count": null,
   "metadata": {},
   "outputs": [],
   "source": []
  }
 ],
 "metadata": {
  "kernelspec": {
   "display_name": "Python 3 (ipykernel)",
   "language": "python",
   "name": "python3"
  },
  "language_info": {
   "codemirror_mode": {
    "name": "ipython",
    "version": 3
   },
   "file_extension": ".py",
   "mimetype": "text/x-python",
   "name": "python",
   "nbconvert_exporter": "python",
   "pygments_lexer": "ipython3",
   "version": "3.9.7"
  }
 },
 "nbformat": 4,
 "nbformat_minor": 4
}

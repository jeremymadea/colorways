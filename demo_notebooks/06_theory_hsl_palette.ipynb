{
 "cells": [
  {
   "cell_type": "code",
   "execution_count": 2,
   "metadata": {},
   "outputs": [
    {
     "data": {
      "application/vnd.jupyter.widget-view+json": {
       "model_id": "bbdfeb5d77bb493884182632f13dcdab",
       "version_major": 2,
       "version_minor": 0
      },
      "text/plain": [
       "Checkbox(value=True, description='Random Sat?')"
      ]
     },
     "metadata": {},
     "output_type": "display_data"
    },
    {
     "data": {
      "application/vnd.jupyter.widget-view+json": {
       "model_id": "289d0b56a8eb4e8cba54aa58298a1cd9",
       "version_major": 2,
       "version_minor": 0
      },
      "text/plain": [
       "Checkbox(value=True, description='Random Lum?')"
      ]
     },
     "metadata": {},
     "output_type": "display_data"
    },
    {
     "data": {
      "application/vnd.jupyter.widget-view+json": {
       "model_id": "03099f7f52884323b4d7336d67fe394b",
       "version_major": 2,
       "version_minor": 0
      },
      "text/plain": [
       "HBox(children=(IntSlider(value=7, description='Colors', max=360, min=1, orientation='vertical'), FloatSlider(v…"
      ]
     },
     "metadata": {},
     "output_type": "display_data"
    },
    {
     "data": {
      "application/vnd.jupyter.widget-view+json": {
       "model_id": "f369df050df740eca5465ee4cc30c6ae",
       "version_major": 2,
       "version_minor": 0
      },
      "text/plain": [
       "Canvas(height=200, width=720)"
      ]
     },
     "metadata": {},
     "output_type": "display_data"
    }
   ],
   "source": [
    "%run '06_TheoryPaletteDemo.py'\n",
    "demo = TheoryPaletteDemo()\n",
    "demo.draw()"
   ]
  },
  {
   "cell_type": "code",
   "execution_count": 3,
   "metadata": {},
   "outputs": [
    {
     "name": "stdout",
     "output_type": "stream",
     "text": [
      "['#3EB34E', '#3EB355', '#3EB35D', '#3EB365', '#3EB36D', '#3EB374', '#3EB37C', '#3EB384', '#3EB38C', '#3EB393', '#3EB39B', '#3EB3A3', '#3EB3AB', '#3EB3B2', '#3EACB3', '#3EA4B3', '#3E9CB3', '#3E94B3', '#3E8DB3', '#3E85B3', '#3E7DB3', '#3E75B3', '#3E6EB3', '#3E66B3', '#3E5EB3', '#3E56B3', '#3E4FB3', '#3E47B3', '#3E3FB3', '#453EB3', '#4D3EB3', '#543EB3', '#5C3EB3', '#643EB3', '#6C3EB3', '#733EB3', '#7B3EB3', '#833EB3', '#8B3EB3', '#923EB3', '#9A3EB3', '#A23EB3', '#AA3EB3', '#B13EB3', '#B33EAD', '#B33EA5', '#B33E9D', '#B33E95', '#B33E8E', '#B33E86', '#B33E88', '#B33E80', '#B33E78', '#B33E71', '#B33E69', '#B33E61', '#B33E59', '#B33E52', '#B33E4A', '#B33E42', '#B3423E', '#B34A3E', '#B3513E', '#B3593E', '#B3613E', '#B3693E', '#B3703E', '#B3783E', '#B3803E', '#B3883E', '#B38F3E', '#B3973E', '#B39F3E', '#B3A73E', '#B3AE3E', '#B0B33E', '#A8B33E', '#A0B33E', '#98B33E', '#91B33E', '#89B33E', '#81B33E', '#79B33E', '#72B33E', '#6AB33E', '#62B33E', '#5AB33E', '#53B33E', '#4BB33E', '#43B33E', '#3EB341', '#3EB349', '#3EB350', '#3EB358', '#3EB360', '#3EB368', '#3EB36F', '#3EB377', '#3EB37F', '#3EB387', '#3EB38E', '#3EB396', '#3EB39E', '#3EB3A6', '#3EB3AD', '#3EB1B3', '#3EA9B3', '#3EA1B3', '#3E99B3', '#3E92B3', '#3E8AB3', '#B33E4E', '#B33E46', '#B33E3E', '#B3463E', '#B34E3E', '#B3553E', '#B35D3E', '#B3653E', '#B36D3E', '#B3743E', '#B37C3E', '#B3843E', '#B38C3E', '#B3933E', '#B39B3E', '#B3A33E', '#B3AB3E', '#B3B23E', '#ACB33E', '#A4B33E', '#9CB33E', '#94B33E', '#8DB33E', '#85B33E', '#7DB33E', '#75B33E', '#6EB33E', '#66B33E', '#5EB33E', '#56B33E', '#4FB33E', '#47B33E', '#3FB33E', '#3EB345', '#3EB34D', '#3EB354', '#3EB35C', '#3EB364', '#3EB36C', '#3EB373', '#3EB37B', '#3EB383', '#3EB38B', '#3EB392', '#3EB39A', '#3EB3A2', '#3EB3AA', '#3EB3B1', '#3EADB3', '#3EA5B3', '#3E9DB3', '#3E95B3', '#3E8EB3', '#3E86B3', '#3E7EB3', '#3E76B3', '#3E6FB3', '#3E67B3', '#3E5FB3']\n"
     ]
    }
   ],
   "source": [
    "print([hsl2hex(c) for c in demo.palette])"
   ]
  },
  {
   "cell_type": "markdown",
   "metadata": {},
   "source": [
    "\n",
    "Analogous: RA2 = 0, RA3 = 0\n",
    "\n",
    "Complementary: OA1 = 180, RA3 = 0\n",
    "\n",
    "Split Complementary: Choose offset angles 180 +/- a small angle. The second and third ranges must be smaller than the difference between the two offset angles.\n",
    "\n",
    "Triad: OA1 = 120, OA2 = 240"
   ]
  },
  {
   "cell_type": "code",
   "execution_count": null,
   "metadata": {},
   "outputs": [],
   "source": []
  }
 ],
 "metadata": {
  "kernelspec": {
   "display_name": "Python 3",
   "language": "python",
   "name": "python3"
  },
  "language_info": {
   "codemirror_mode": {
    "name": "ipython",
    "version": 3
   },
   "file_extension": ".py",
   "mimetype": "text/x-python",
   "name": "python",
   "nbconvert_exporter": "python",
   "pygments_lexer": "ipython3",
   "version": "3.6.10"
  }
 },
 "nbformat": 4,
 "nbformat_minor": 4
}

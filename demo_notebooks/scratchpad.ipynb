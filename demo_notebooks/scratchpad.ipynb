{
 "cells": [
  {
   "cell_type": "code",
   "execution_count": 1,
   "metadata": {},
   "outputs": [],
   "source": [
    "%run 'init_notebook.py'\n",
    "#from colorways.css import * \n",
    "from colorways.blend import *\n",
    "from colorways.vars import * \n"
   ]
  },
  {
   "cell_type": "code",
   "execution_count": 2,
   "metadata": {},
   "outputs": [],
   "source": [
    "# this creates best-fit pure power law function \n",
    "#  Inspired by wikipedia - http://en.wikipedia.org/wiki/Lightness\n",
    "#l2=linspace(1,power(100,0.42),256); \n",
    "#L2=(power(l2,1/0.42))'; \n",
    "# this makes cielab real cube function spiral \n",
    "#radius = 50; \n",
    "#theta = linspace(0.6*pi, 2*pi, 256).'; \n",
    "#a = radius * sin(theta); b = radius * cos(theta); \n",
    "#Lab1 = [L2, a, b]; RGB_realcube=colorspace('RGB<-Lab',(Lab1));\n",
    "\n",
    "#l2 = lspace(1,100**0.42,256)"
   ]
  },
  {
   "cell_type": "code",
   "execution_count": 3,
   "metadata": {},
   "outputs": [
    {
     "data": {
      "application/vnd.jupyter.widget-view+json": {
       "model_id": "5f3990995dd24633a09b7310353c4e7f",
       "version_major": 2,
       "version_minor": 0
      },
      "text/plain": [
       "Canvas(height=200, width=720)"
      ]
     },
     "metadata": {},
     "output_type": "display_data"
    }
   ],
   "source": [
    "show_palette(rgb2hsl(gradient_palette([[0,0,0], hex2rgb('#7f8c8d')], [200])))"
   ]
  },
  {
   "cell_type": "code",
   "execution_count": 4,
   "metadata": {},
   "outputs": [
    {
     "data": {
      "application/vnd.jupyter.widget-view+json": {
       "model_id": "a5b99ae5ee224e7285d69821357834ef",
       "version_major": 2,
       "version_minor": 0
      },
      "text/plain": [
       "Canvas(height=200, width=720)"
      ]
     },
     "metadata": {},
     "output_type": "display_data"
    }
   ],
   "source": [
    "show_palette(rgb2hsl(gradient_palette([hex2rgb('#2d3436'), hex2rgb('#d3d3d3')], [200])))"
   ]
  },
  {
   "cell_type": "code",
   "execution_count": 5,
   "metadata": {},
   "outputs": [
    {
     "data": {
      "application/vnd.jupyter.widget-view+json": {
       "model_id": "e86c655c6898480e9c3f3fd67b5a9f0c",
       "version_major": 2,
       "version_minor": 0
      },
      "text/plain": [
       "Canvas(height=200, width=720)"
      ]
     },
     "metadata": {},
     "output_type": "display_data"
    }
   ],
   "source": [
    "show_palette(rgb2hsl(gradient_palette([hex2rgb('#000000'), hex2rgb('#ffffff')], [200])))"
   ]
  },
  {
   "cell_type": "code",
   "execution_count": 6,
   "metadata": {},
   "outputs": [
    {
     "data": {
      "application/vnd.jupyter.widget-view+json": {
       "model_id": "7de62853e09e48689abe9eb7bcd3ac04",
       "version_major": 2,
       "version_minor": 0
      },
      "text/plain": [
       "Canvas(height=200, width=720)"
      ]
     },
     "metadata": {},
     "output_type": "display_data"
    }
   ],
   "source": [
    "show_palette(rgb2hsl(gradient_palette([hex2rgb('#000000'), hex2rgb('#414141'), hex2rgb('#414141')], [150,50])))"
   ]
  },
  {
   "cell_type": "code",
   "execution_count": 7,
   "metadata": {},
   "outputs": [
    {
     "data": {
      "application/vnd.jupyter.widget-view+json": {
       "model_id": "0894b034d497480db33b943e8706d999",
       "version_major": 2,
       "version_minor": 0
      },
      "text/plain": [
       "Canvas(height=200, width=720)"
      ]
     },
     "metadata": {},
     "output_type": "display_data"
    }
   ],
   "source": [
    "show_palette(rgb2hsl(gradient_palette([hex2rgb('#abe9cd'), hex2rgb('#3eadcf')], [200])))"
   ]
  },
  {
   "cell_type": "code",
   "execution_count": 8,
   "metadata": {},
   "outputs": [],
   "source": [
    "\n",
    "#show_palette(rgb2hsl(gradient_palette([[0,0,0], hex2rgb('#7f8c8d')], [50,150])))\n",
    "\n",
    "#background-image linear-gradient(315deg, #000000 0%, #7f8c8d 74%);\n",
    "\n",
    "\n",
    "#background-image: linear-gradient(315deg, #2d3436 0%, #d3d3d3 74%);\n",
    "\n",
    "#background-image: linear-gradient(315deg, #000000 0%, #ffffff 74%);\n",
    "\n",
    "#background-image linear-gradient(315deg, #000000 0%, #7f8c8d 74%);\n",
    "\n",
    "#background-image: linear-gradient(315deg, #000000 0%, #414141 74%);\n",
    "                                  \n",
    "\n",
    "#background-image: linear-gradient(315deg, #abe9cd 0%, #3eadcf 74%);\n",
    "\n",
    "#background: linear-gradient(315deg, #bdd4e7 0%, #8693ab 74%);                                 \n",
    "#background: linear-gradient(to right, #0066eb 41%, #ff8ab3 22%);\n",
    "#background: linear-gradient(to right, #0066eb 21%, #ff8ab3 22%);\n",
    "#    \n",
    "def _cubic(t, a, b):\n",
    "    weight = t * t * (3 - 2*t)\n",
    "    return a + weight * (b - a)\n",
    "\n",
    "def ryb_to_rgb(r, y, b): # Assumption: r, y, b in [0, 1]\n",
    "    # red\n",
    "    x0, x1 = _cubic(b, 1.0, 0.163), _cubic(b, 1.0, 0.0)\n",
    "    x2, x3 = _cubic(b, 1.0, 0.5), _cubic(b, 1.0, 0.2)\n",
    "    y0, y1 = _cubic(y, x0, x1), _cubic(y, x2, x3)\n",
    "    red = _cubic(r, y0, y1)\n",
    "\n",
    "    # green\n",
    "    x0, x1 = _cubic(b, 1.0, 0.373), _cubic(b, 1.0, 0.66)\n",
    "    x2, x3 = _cubic(b, 0., 0.), _cubic(b, 0.5, 0.094)\n",
    "    y0, y1 = _cubic(y, x0, x1), _cubic(y, x2, x3)\n",
    "    green = _cubic(r, y0, y1)\n",
    "\n",
    "    # blue\n",
    "    x0, x1 = _cubic(b, 1.0, 0.6), _cubic(b, 0.0, 0.2)\n",
    "    x2, x3 = _cubic(b, 0.0, 0.5), _cubic(b, 0.0, 0.0)\n",
    "    y0, y1 = _cubic(y, x0, x1), _cubic(y, x2, x3)\n",
    "    blue = _cubic(r, y0, y1)\n",
    "\n",
    "    return (red, green, blue)"
   ]
  },
  {
   "cell_type": "code",
   "execution_count": 9,
   "metadata": {},
   "outputs": [
    {
     "data": {
      "application/vnd.jupyter.widget-view+json": {
       "model_id": "f6892017dd0d453a8642749d8011ca1f",
       "version_major": 2,
       "version_minor": 0
      },
      "text/plain": [
       "Canvas(height=100, width=100)"
      ]
     },
     "metadata": {},
     "output_type": "display_data"
    }
   ],
   "source": [
    "show_color(rgb2hex([.7,.3,.5]))"
   ]
  },
  {
   "cell_type": "code",
   "execution_count": 10,
   "metadata": {},
   "outputs": [
    {
     "data": {
      "application/vnd.jupyter.widget-view+json": {
       "model_id": "88a1a09663c346b2938de1972a8f6ee3",
       "version_major": 2,
       "version_minor": 0
      },
      "text/plain": [
       "Canvas(height=100, width=100)"
      ]
     },
     "metadata": {},
     "output_type": "display_data"
    }
   ],
   "source": [
    "show_color(rgb2hex([.3,.7,.5]))"
   ]
  },
  {
   "cell_type": "code",
   "execution_count": 11,
   "metadata": {},
   "outputs": [
    {
     "data": {
      "application/vnd.jupyter.widget-view+json": {
       "model_id": "ff789965a8d5444a842fb8701a1c8d90",
       "version_major": 2,
       "version_minor": 0
      },
      "text/plain": [
       "Canvas(height=200, width=720)"
      ]
     },
     "metadata": {},
     "output_type": "display_data"
    }
   ],
   "source": [
    "#show_color(rgb2hex(complement([.6,.8,.2])))\n",
    "show_color(hsl2hex([.6,.8,.4]))\n",
    "show_palette(\n",
    "    [[(.42-(1/3.0))%1, .8, .4], \n",
    "     [(.42+(0/3.0))%1, .2, .4],\n",
    "     [(.42+(1/3.0))%1, .8, .6]\n",
    "    ]\n",
    ")"
   ]
  },
  {
   "cell_type": "code",
   "execution_count": 12,
   "metadata": {},
   "outputs": [
    {
     "data": {
      "application/vnd.jupyter.widget-view+json": {
       "model_id": "1f424522574d4600b16ad7d08d806d79",
       "version_major": 2,
       "version_minor": 0
      },
      "text/plain": [
       "Canvas(height=200, width=720)"
      ]
     },
     "metadata": {},
     "output_type": "display_data"
    }
   ],
   "source": [
    "from colorways.theory import * \n",
    "show_palette(hxx_triad([.99,.3,.4]))"
   ]
  },
  {
   "cell_type": "code",
   "execution_count": 13,
   "metadata": {},
   "outputs": [
    {
     "data": {
      "application/vnd.jupyter.widget-view+json": {
       "model_id": "c18b07d7cc434d57b469912f5cedd252",
       "version_major": 2,
       "version_minor": 0
      },
      "text/plain": [
       "Canvas(height=200, width=720)"
      ]
     },
     "metadata": {},
     "output_type": "display_data"
    }
   ],
   "source": [
    "clr_hsl = rgb2hsl([.7,.8,.2])\n",
    "#show_palette([\n",
    "#    clr_hsl,\n",
    "#    rgb2hsl(complement([0.7, 0.8, 0.2])),\n",
    "#    ]\n",
    "#)\n",
    "show_palette(hxx_complementary_pair(clr_hsl))\n"
   ]
  },
  {
   "cell_type": "code",
   "execution_count": 14,
   "metadata": {},
   "outputs": [],
   "source": [
    "from colorways.theory import *"
   ]
  },
  {
   "cell_type": "code",
   "execution_count": 15,
   "metadata": {},
   "outputs": [
    {
     "data": {
      "application/vnd.jupyter.widget-view+json": {
       "model_id": "91bafa910f514d2e9fb899da21177b6f",
       "version_major": 2,
       "version_minor": 0
      },
      "text/plain": [
       "Canvas(height=200, width=720)"
      ]
     },
     "metadata": {},
     "output_type": "display_data"
    }
   ],
   "source": [
    "show_palette(hxx_square(clr_hsl))"
   ]
  },
  {
   "cell_type": "code",
   "execution_count": 16,
   "metadata": {},
   "outputs": [
    {
     "data": {
      "application/vnd.jupyter.widget-view+json": {
       "model_id": "7224bc5cdce44ab494a70dd947b4b7fd",
       "version_major": 2,
       "version_minor": 0
      },
      "text/plain": [
       "Canvas(height=200, width=720)"
      ]
     },
     "metadata": {},
     "output_type": "display_data"
    }
   ],
   "source": [
    "show_palette(split_palette([0,.8,.8], [1/6.0, 1/9.0]))"
   ]
  },
  {
   "cell_type": "code",
   "execution_count": 17,
   "metadata": {},
   "outputs": [
    {
     "data": {
      "application/vnd.jupyter.widget-view+json": {
       "model_id": "63b20c7886774aaeb91ea4e7429ea07a",
       "version_major": 2,
       "version_minor": 0
      },
      "text/plain": [
       "Canvas(height=200, width=720)"
      ]
     },
     "metadata": {},
     "output_type": "display_data"
    }
   ],
   "source": [
    "show_palette(hxx_triad([0, 0.8, 0.8]))"
   ]
  },
  {
   "cell_type": "code",
   "execution_count": 18,
   "metadata": {},
   "outputs": [
    {
     "data": {
      "application/vnd.jupyter.widget-view+json": {
       "model_id": "63c4a5e02af441a5af830cd27a569f0b",
       "version_major": 2,
       "version_minor": 0
      },
      "text/plain": [
       "Canvas(height=200, width=720)"
      ]
     },
     "metadata": {},
     "output_type": "display_data"
    }
   ],
   "source": [
    "show_palette(split_palette([0, 0.8, 0.8], [1/3]))"
   ]
  },
  {
   "cell_type": "code",
   "execution_count": 19,
   "metadata": {},
   "outputs": [
    {
     "data": {
      "application/vnd.jupyter.widget-view+json": {
       "model_id": "899fde7930384d608467dc01b76dd03b",
       "version_major": 2,
       "version_minor": 0
      },
      "text/plain": [
       "Canvas(height=200, width=720)"
      ]
     },
     "metadata": {},
     "output_type": "display_data"
    }
   ],
   "source": [
    "show_palette(tetradic_palette([0, 0.8, 0.8], [1/3, 2/3]))"
   ]
  },
  {
   "cell_type": "code",
   "execution_count": 20,
   "metadata": {},
   "outputs": [
    {
     "data": {
      "text/plain": [
       "255.0"
      ]
     },
     "execution_count": 20,
     "metadata": {},
     "output_type": "execute_result"
    }
   ],
   "source": [
    "def linmap(s, a, b):\n",
    "    return b[0] + ((s-a[0])*(b[1]-b[0]))/(a[1]-a[0])\n",
    "linmap((255/255.0), [0,1], [0,255])"
   ]
  },
  {
   "cell_type": "code",
   "execution_count": 21,
   "metadata": {},
   "outputs": [
    {
     "data": {
      "text/plain": [
       "0.0"
      ]
     },
     "execution_count": 21,
     "metadata": {},
     "output_type": "execute_result"
    }
   ],
   "source": [
    "linmap(0, [0,255], [0,1])"
   ]
  },
  {
   "cell_type": "code",
   "execution_count": 22,
   "metadata": {},
   "outputs": [],
   "source": [
    "def cnv01_to_bytes(n):\n",
    "    return n*256\n",
    "\n",
    "def cnvbytes_to_01(n):\n",
    "    return n/255\n",
    "\n",
    "def rand01():\n",
    "    return (255*random())/255.0"
   ]
  },
  {
   "cell_type": "code",
   "execution_count": 23,
   "metadata": {},
   "outputs": [
    {
     "name": "stdout",
     "output_type": "stream",
     "text": [
      "[415, 406, 379, 355, 359, 387, 380, 376, 418, 388, 390, 387, 378, 406, 415, 436, 408, 412, 378, 340, 424, 379, 382, 406, 417, 401, 380, 439, 419, 394, 375, 435, 391, 393, 374, 385, 356, 398, 395, 420, 398, 366, 377, 408, 403, 400, 422, 421, 400, 364, 374, 369, 415, 413, 385, 382, 390, 412, 408, 414, 346, 390, 394, 379, 363, 384, 420, 366, 428, 431, 430, 395, 394, 420, 370, 401, 395, 390, 391, 384, 373, 389, 362, 419, 362, 380, 399, 381, 409, 368, 401, 380, 431, 407, 399, 402, 402, 376, 377, 386, 379, 387, 392, 417, 405, 386, 382, 395, 414, 377, 412, 370, 396, 416, 357, 406, 364, 400, 398, 428, 399, 396, 360, 388, 375, 382, 400, 371, 388, 381, 369, 383, 410, 409, 382, 377, 399, 381, 408, 378, 347, 377, 389, 430, 387, 391, 430, 400, 398, 402, 384, 390, 410, 416, 406, 358, 406, 371, 394, 403, 393, 415, 434, 385, 397, 383, 370, 393, 361, 382, 377, 387, 431, 399, 384, 380, 377, 349, 367, 352, 399, 371, 371, 407, 382, 359, 363, 428, 386, 400, 406, 397, 352, 395, 377, 385, 355, 364, 361, 356, 389, 352, 394, 392, 368, 400, 373, 391, 394, 404, 393, 357, 404, 357, 412, 373, 399, 353, 395, 395, 409, 377, 400, 364, 389, 382, 427, 403, 389, 381, 440, 359, 395, 382, 384, 409, 405, 326, 402, 387, 358, 401, 395, 384, 413, 378, 404, 406, 388, 392, 417, 388, 379, 407, 393, 385]\n"
     ]
    }
   ],
   "source": [
    "hist = [0] * 256\n",
    "for n in range(100000):\n",
    "    #hist[round(cnv01_to_bytes(-0.5+random()))] += 1\n",
    "    hist[int(cnv01_to_bytes(rand01()))] += 1\n",
    "print(hist)\n"
   ]
  },
  {
   "cell_type": "code",
   "execution_count": 24,
   "metadata": {},
   "outputs": [
    {
     "name": "stdout",
     "output_type": "stream",
     "text": [
      "[415, 406, 379, 355, 359, 387, 380, 376, 418, 388, 390, 387, 378, 406, 415, 436, 408, 412, 378, 340, 424, 379, 382, 406, 417, 401, 380, 439, 419, 394, 375, 435, 391, 393, 374, 385, 356, 398, 395, 420, 398, 366, 377, 408, 403, 400, 422, 421, 400, 364, 374, 369, 415, 413, 385, 382, 390, 412, 408, 414, 346, 390, 394, 379, 363, 384, 420, 366, 428, 431, 430, 395, 394, 420, 370, 401, 395, 390, 391, 384, 373, 389, 362, 419, 362, 380, 399, 381, 409, 368, 401, 380, 431, 407, 399, 402, 402, 376, 377, 386, 379, 387, 392, 417, 405, 386, 382, 395, 414, 377, 412, 370, 396, 416, 357, 406, 364, 400, 398, 428, 399, 396, 360, 388, 375, 382, 400, 371, 388, 381, 369, 383, 410, 409, 382, 377, 399, 381, 408, 378, 347, 377, 389, 430, 387, 391, 430, 400, 398, 402, 384, 390, 410, 416, 406, 358, 406, 371, 394, 403, 393, 415, 434, 385, 397, 383, 370, 393, 361, 382, 377, 387, 431, 399, 384, 380, 377, 349, 367, 352, 399, 371, 371, 407, 382, 359, 363, 428, 386, 400, 406, 397, 352, 395, 377, 385, 355, 364, 361, 356, 389, 352, 394, 392, 368, 400, 373, 391, 394, 404, 393, 357, 404, 357, 412, 373, 399, 353, 395, 395, 409, 377, 400, 364, 389, 382, 427, 403, 389, 381, 440, 359, 395, 382, 384, 409, 405, 326, 402, 387, 358, 401, 395, 384, 413, 378, 404, 406, 388, 392, 417, 388, 379, 407, 393, 385]\n"
     ]
    }
   ],
   "source": [
    "print(hist)"
   ]
  },
  {
   "cell_type": "code",
   "execution_count": 25,
   "metadata": {},
   "outputs": [],
   "source": [
    "def _ufwa(_function):\n",
    "    def ufwa_closure(base, *args, **kwargs):\n",
    "        if type(base[0]) is list:\n",
    "            return [ _function(a, *args, **kwargs) for a in base ]\n",
    "        else:\n",
    "            return _function(base, *args, **kwargs)\n",
    "    if _function.__name__[0] == '_':\n",
    "        ufwa_closure.__name__ = _function.__name__[1:]\n",
    "        ufwa_closure.__doc__ = _function.__doc__\n",
    "    return ufwa_closure"
   ]
  },
  {
   "cell_type": "code",
   "execution_count": 26,
   "metadata": {},
   "outputs": [],
   "source": [
    "def _foofoo(base, a, b):\n",
    "    \"\"\"This is foofoo!\"\"\"\n",
    "    return [\n",
    "        [(base[0]-b)%1.0, base[1], base[2]],\n",
    "        [(base[0]-a)%1.0, base[1], base[2]],\n",
    "        list(base),\n",
    "        [(base[0]+a)%1.0, base[1], base[2]],\n",
    "        [(base[0]+b)%1.0, base[1], base[2]],\n",
    "    ]\n",
    "\n",
    "def _split_complementary_palette(base, angles):\n",
    "    \"\"\"This is foofoo!\"\"\"\n",
    "    \n",
    "    return [[(base[0]-a)%1.0, base[1], base[2]] for a in angles \n",
    "           ] + [list(base)] + [ \n",
    "            [(base[0]+a)%1.0, base[1], base[2]] for a in angles]\n"
   ]
  },
  {
   "cell_type": "code",
   "execution_count": 27,
   "metadata": {},
   "outputs": [],
   "source": [
    "foofoo = _ufwa(_foofoo)"
   ]
  },
  {
   "cell_type": "code",
   "execution_count": 28,
   "metadata": {},
   "outputs": [
    {
     "data": {
      "application/vnd.jupyter.widget-view+json": {
       "model_id": "5d23b5e8cff94ceaa79b6fc646be034a",
       "version_major": 2,
       "version_minor": 0
      },
      "text/plain": [
       "Canvas(height=200, width=720)"
      ]
     },
     "metadata": {},
     "output_type": "display_data"
    }
   ],
   "source": [
    "show_palette(foofoo(clr_hsl,1/3.0,1/2.0))"
   ]
  },
  {
   "cell_type": "code",
   "execution_count": 29,
   "metadata": {},
   "outputs": [],
   "source": [
    "split_complementary_palette = _ufwa(_split_complementary_palette)"
   ]
  },
  {
   "cell_type": "code",
   "execution_count": 30,
   "metadata": {},
   "outputs": [
    {
     "data": {
      "application/vnd.jupyter.widget-view+json": {
       "model_id": "b51169ea01b7496f9f58486967f9e8b1",
       "version_major": 2,
       "version_minor": 0
      },
      "text/plain": [
       "Canvas(height=200, width=720)"
      ]
     },
     "metadata": {},
     "output_type": "display_data"
    }
   ],
   "source": [
    "show_palette( split_complementary_palette(clr_hsl, [1/30.0, 1/15.0]))"
   ]
  },
  {
   "cell_type": "code",
   "execution_count": 31,
   "metadata": {},
   "outputs": [],
   "source": [
    "from colorways.theory import *"
   ]
  },
  {
   "cell_type": "code",
   "execution_count": 32,
   "metadata": {},
   "outputs": [
    {
     "data": {
      "application/vnd.jupyter.widget-view+json": {
       "model_id": "ad963df9d4ec4d95886527933a2b0d1f",
       "version_major": 2,
       "version_minor": 0
      },
      "text/plain": [
       "Canvas(height=200, width=720)"
      ]
     },
     "metadata": {},
     "output_type": "display_data"
    }
   ],
   "source": [
    "show_palette( split_complementary_palette(clr_hsl, [1/30.0, 1/15.0]))"
   ]
  },
  {
   "cell_type": "code",
   "execution_count": 33,
   "metadata": {},
   "outputs": [],
   "source": [
    "?split_complementary_palette"
   ]
  },
  {
   "cell_type": "code",
   "execution_count": 34,
   "metadata": {},
   "outputs": [
    {
     "data": {
      "text/plain": [
       "'This is foofoo!'"
      ]
     },
     "execution_count": 34,
     "metadata": {},
     "output_type": "execute_result"
    }
   ],
   "source": [
    "split_complementary_palette.__doc__"
   ]
  },
  {
   "cell_type": "code",
   "execution_count": 35,
   "metadata": {},
   "outputs": [
    {
     "data": {
      "application/vnd.jupyter.widget-view+json": {
       "model_id": "10774d5ca41542d09005c121f1d80b07",
       "version_major": 2,
       "version_minor": 0
      },
      "text/plain": [
       "Canvas(height=100, width=100)"
      ]
     },
     "metadata": {},
     "output_type": "display_data"
    }
   ],
   "source": [
    "show_color(lab2hex([41.77, 83.70, -91.84]))"
   ]
  },
  {
   "cell_type": "code",
   "execution_count": 36,
   "metadata": {},
   "outputs": [
    {
     "data": {
      "text/plain": [
       "0.2857142857142857"
      ]
     },
     "execution_count": 36,
     "metadata": {},
     "output_type": "execute_result"
    }
   ],
   "source": [
    "1 - (1 - .5) / .7"
   ]
  },
  {
   "cell_type": "code",
   "execution_count": 37,
   "metadata": {},
   "outputs": [],
   "source": [
    "from colorways.ryb import * "
   ]
  },
  {
   "cell_type": "code",
   "execution_count": 38,
   "metadata": {},
   "outputs": [],
   "source": [
    "from colorways.theory import * "
   ]
  },
  {
   "cell_type": "code",
   "execution_count": 39,
   "metadata": {},
   "outputs": [
    {
     "data": {
      "text/plain": [
       "[0.5, 1.0, 0.5]"
      ]
     },
     "execution_count": 39,
     "metadata": {},
     "output_type": "execute_result"
    }
   ],
   "source": [
    "rgb2ryb([1.0, 1.0, 0.5])"
   ]
  },
  {
   "cell_type": "code",
   "execution_count": 40,
   "metadata": {},
   "outputs": [
    {
     "data": {
      "application/vnd.jupyter.widget-view+json": {
       "model_id": "be7ef48681b54d009194aecf76e76587",
       "version_major": 2,
       "version_minor": 0
      },
      "text/plain": [
       "Canvas(height=200, width=720)"
      ]
     },
     "metadata": {},
     "output_type": "display_data"
    }
   ],
   "source": [
    "show_palette( rgb2hsl(rgb2ryb(hsl2rgb(tetradic_palette([.9, 1.0, 0.5], [1/3, 2/3])))))"
   ]
  },
  {
   "cell_type": "code",
   "execution_count": 41,
   "metadata": {},
   "outputs": [
    {
     "data": {
      "application/vnd.jupyter.widget-view+json": {
       "model_id": "bd3634da0f674db2b35f6ae2c46dbdf4",
       "version_major": 2,
       "version_minor": 0
      },
      "text/plain": [
       "Canvas(height=200, width=720)"
      ]
     },
     "metadata": {},
     "output_type": "display_data"
    }
   ],
   "source": [
    "show_palette(tetradic_palette([.9, 1.0, 0.5], [1/3, 2/3]))"
   ]
  },
  {
   "cell_type": "code",
   "execution_count": 42,
   "metadata": {},
   "outputs": [
    {
     "data": {
      "application/vnd.jupyter.widget-view+json": {
       "model_id": "67a166011c684e65a1b062ec26589838",
       "version_major": 2,
       "version_minor": 0
      },
      "text/plain": [
       "Canvas(height=100, width=100)"
      ]
     },
     "metadata": {},
     "output_type": "display_data"
    }
   ],
   "source": [
    "show_color(rgb2hex(ryb2rgb([.8, .7, 0.5])))"
   ]
  },
  {
   "cell_type": "code",
   "execution_count": 43,
   "metadata": {},
   "outputs": [
    {
     "data": {
      "application/vnd.jupyter.widget-view+json": {
       "model_id": "254a2cf2c2914ea5bc48e91db07e012d",
       "version_major": 2,
       "version_minor": 0
      },
      "text/plain": [
       "Canvas(height=200, width=720)"
      ]
     },
     "metadata": {},
     "output_type": "display_data"
    }
   ],
   "source": [
    "show_palette(hue_gradient_palette([[0,0,0], [0,1,.5], [1,1,.5]], [40,360]))"
   ]
  },
  {
   "cell_type": "code",
   "execution_count": 46,
   "metadata": {},
   "outputs": [
    {
     "ename": "ImportError",
     "evalue": "cannot import name 'wavelen2rgb' from 'colorways.spectra' (/Users/jeremy/Projects/Colorways/colorways/colorways/spectra/__init__.py)",
     "output_type": "error",
     "traceback": [
      "\u001b[0;31m---------------------------------------------------------------------------\u001b[0m",
      "\u001b[0;31mImportError\u001b[0m                               Traceback (most recent call last)",
      "\u001b[0;32m/var/folders/br/_6t379450pj681z8v514zxxh0000gp/T/ipykernel_89083/3072093029.py\u001b[0m in \u001b[0;36m<module>\u001b[0;34m\u001b[0m\n\u001b[0;32m----> 1\u001b[0;31m \u001b[0;32mfrom\u001b[0m \u001b[0mcolorways\u001b[0m\u001b[0;34m.\u001b[0m\u001b[0mspectra\u001b[0m \u001b[0;32mimport\u001b[0m \u001b[0mwavelen2rgb\u001b[0m\u001b[0;34m\u001b[0m\u001b[0;34m\u001b[0m\u001b[0m\n\u001b[0m",
      "\u001b[0;31mImportError\u001b[0m: cannot import name 'wavelen2rgb' from 'colorways.spectra' (/Users/jeremy/Projects/Colorways/colorways/colorways/spectra/__init__.py)"
     ]
    }
   ],
   "source": [
    "from colorways.spectra import wavelen2rgb"
   ]
  },
  {
   "cell_type": "code",
   "execution_count": 47,
   "metadata": {},
   "outputs": [
    {
     "ename": "NameError",
     "evalue": "name 'wavelen2rgb' is not defined",
     "output_type": "error",
     "traceback": [
      "\u001b[0;31m---------------------------------------------------------------------------\u001b[0m",
      "\u001b[0;31mNameError\u001b[0m                                 Traceback (most recent call last)",
      "\u001b[0;32m/var/folders/br/_6t379450pj681z8v514zxxh0000gp/T/ipykernel_89083/3464906946.py\u001b[0m in \u001b[0;36m<module>\u001b[0;34m\u001b[0m\n\u001b[0;32m----> 1\u001b[0;31m \u001b[0mspectrum\u001b[0m \u001b[0;34m=\u001b[0m \u001b[0;34m[\u001b[0m\u001b[0mwavelen2rgb\u001b[0m\u001b[0;34m(\u001b[0m\u001b[0mwl\u001b[0m\u001b[0;34m)\u001b[0m \u001b[0;32mfor\u001b[0m \u001b[0mwl\u001b[0m \u001b[0;32min\u001b[0m \u001b[0mrange\u001b[0m\u001b[0;34m(\u001b[0m\u001b[0;36m400\u001b[0m\u001b[0;34m,\u001b[0m\u001b[0;36m700\u001b[0m\u001b[0;34m)\u001b[0m\u001b[0;34m]\u001b[0m\u001b[0;34m\u001b[0m\u001b[0;34m\u001b[0m\u001b[0m\n\u001b[0m",
      "\u001b[0;32m/var/folders/br/_6t379450pj681z8v514zxxh0000gp/T/ipykernel_89083/3464906946.py\u001b[0m in \u001b[0;36m<listcomp>\u001b[0;34m(.0)\u001b[0m\n\u001b[0;32m----> 1\u001b[0;31m \u001b[0mspectrum\u001b[0m \u001b[0;34m=\u001b[0m \u001b[0;34m[\u001b[0m\u001b[0mwavelen2rgb\u001b[0m\u001b[0;34m(\u001b[0m\u001b[0mwl\u001b[0m\u001b[0;34m)\u001b[0m \u001b[0;32mfor\u001b[0m \u001b[0mwl\u001b[0m \u001b[0;32min\u001b[0m \u001b[0mrange\u001b[0m\u001b[0;34m(\u001b[0m\u001b[0;36m400\u001b[0m\u001b[0;34m,\u001b[0m\u001b[0;36m700\u001b[0m\u001b[0;34m)\u001b[0m\u001b[0;34m]\u001b[0m\u001b[0;34m\u001b[0m\u001b[0;34m\u001b[0m\u001b[0m\n\u001b[0m",
      "\u001b[0;31mNameError\u001b[0m: name 'wavelen2rgb' is not defined"
     ]
    }
   ],
   "source": [
    "spectrum = [wavelen2rgb(wl) for wl in range(400,700)]"
   ]
  },
  {
   "cell_type": "code",
   "execution_count": 48,
   "metadata": {},
   "outputs": [
    {
     "ename": "NameError",
     "evalue": "name 'spectrum' is not defined",
     "output_type": "error",
     "traceback": [
      "\u001b[0;31m---------------------------------------------------------------------------\u001b[0m",
      "\u001b[0;31mNameError\u001b[0m                                 Traceback (most recent call last)",
      "\u001b[0;32m/var/folders/br/_6t379450pj681z8v514zxxh0000gp/T/ipykernel_89083/4260860689.py\u001b[0m in \u001b[0;36m<module>\u001b[0;34m\u001b[0m\n\u001b[0;32m----> 1\u001b[0;31m \u001b[0mshow_palette\u001b[0m\u001b[0;34m(\u001b[0m\u001b[0mrgb2hsl\u001b[0m\u001b[0;34m(\u001b[0m\u001b[0mspectrum\u001b[0m\u001b[0;34m)\u001b[0m\u001b[0;34m)\u001b[0m\u001b[0;34m\u001b[0m\u001b[0;34m\u001b[0m\u001b[0m\n\u001b[0m",
      "\u001b[0;31mNameError\u001b[0m: name 'spectrum' is not defined"
     ]
    }
   ],
   "source": [
    "show_palette(rgb2hsl(spectrum))"
   ]
  },
  {
   "cell_type": "code",
   "execution_count": 49,
   "metadata": {},
   "outputs": [],
   "source": [
    "import matplotlib.pyplot as plt "
   ]
  },
  {
   "cell_type": "code",
   "execution_count": 50,
   "metadata": {},
   "outputs": [
    {
     "ename": "NameError",
     "evalue": "name 'spectrum' is not defined",
     "output_type": "error",
     "traceback": [
      "\u001b[0;31m---------------------------------------------------------------------------\u001b[0m",
      "\u001b[0;31mNameError\u001b[0m                                 Traceback (most recent call last)",
      "\u001b[0;32m/var/folders/br/_6t379450pj681z8v514zxxh0000gp/T/ipykernel_89083/500953235.py\u001b[0m in \u001b[0;36m<module>\u001b[0;34m\u001b[0m\n\u001b[0;32m----> 1\u001b[0;31m \u001b[0mplt\u001b[0m\u001b[0;34m.\u001b[0m\u001b[0mplot\u001b[0m\u001b[0;34m(\u001b[0m\u001b[0mspectrum\u001b[0m\u001b[0;34m)\u001b[0m\u001b[0;34m\u001b[0m\u001b[0;34m\u001b[0m\u001b[0m\n\u001b[0m",
      "\u001b[0;31mNameError\u001b[0m: name 'spectrum' is not defined"
     ]
    }
   ],
   "source": [
    "plt.plot(spectrum)"
   ]
  },
  {
   "cell_type": "code",
   "execution_count": 51,
   "metadata": {},
   "outputs": [
    {
     "ename": "ModuleNotFoundError",
     "evalue": "No module named 'colorways.spectrum'",
     "output_type": "error",
     "traceback": [
      "\u001b[0;31m---------------------------------------------------------------------------\u001b[0m",
      "\u001b[0;31mModuleNotFoundError\u001b[0m                       Traceback (most recent call last)",
      "\u001b[0;32m/var/folders/br/_6t379450pj681z8v514zxxh0000gp/T/ipykernel_89083/1036610713.py\u001b[0m in \u001b[0;36m<module>\u001b[0;34m\u001b[0m\n\u001b[0;32m----> 1\u001b[0;31m \u001b[0;32mfrom\u001b[0m \u001b[0mcolorways\u001b[0m\u001b[0;34m.\u001b[0m\u001b[0mspectrum\u001b[0m \u001b[0;32mimport\u001b[0m \u001b[0mwavelen2rgb_alt1\u001b[0m\u001b[0;34m\u001b[0m\u001b[0;34m\u001b[0m\u001b[0m\n\u001b[0m\u001b[1;32m      2\u001b[0m \u001b[0mspec2\u001b[0m \u001b[0;34m=\u001b[0m \u001b[0;34m[\u001b[0m\u001b[0mwavelen2rgb_alt1\u001b[0m\u001b[0;34m(\u001b[0m\u001b[0mi\u001b[0m\u001b[0;34m)\u001b[0m \u001b[0;32mfor\u001b[0m \u001b[0mi\u001b[0m \u001b[0;32min\u001b[0m \u001b[0mrange\u001b[0m\u001b[0;34m(\u001b[0m\u001b[0;36m400\u001b[0m\u001b[0;34m,\u001b[0m \u001b[0;36m700\u001b[0m\u001b[0;34m)\u001b[0m\u001b[0;34m]\u001b[0m\u001b[0;34m\u001b[0m\u001b[0;34m\u001b[0m\u001b[0m\n",
      "\u001b[0;31mModuleNotFoundError\u001b[0m: No module named 'colorways.spectrum'"
     ]
    }
   ],
   "source": [
    "from colorways.spectrum import wavelen2rgb_alt1\n",
    "spec2 = [wavelen2rgb_alt1(i) for i in range(400, 700)]"
   ]
  },
  {
   "cell_type": "code",
   "execution_count": 52,
   "metadata": {},
   "outputs": [
    {
     "ename": "NameError",
     "evalue": "name 'spec2' is not defined",
     "output_type": "error",
     "traceback": [
      "\u001b[0;31m---------------------------------------------------------------------------\u001b[0m",
      "\u001b[0;31mNameError\u001b[0m                                 Traceback (most recent call last)",
      "\u001b[0;32m/var/folders/br/_6t379450pj681z8v514zxxh0000gp/T/ipykernel_89083/999906364.py\u001b[0m in \u001b[0;36m<module>\u001b[0;34m\u001b[0m\n\u001b[0;32m----> 1\u001b[0;31m \u001b[0mshow_palette\u001b[0m\u001b[0;34m(\u001b[0m\u001b[0mrgb2hsl\u001b[0m\u001b[0;34m(\u001b[0m\u001b[0mspec2\u001b[0m\u001b[0;34m)\u001b[0m\u001b[0;34m)\u001b[0m\u001b[0;34m\u001b[0m\u001b[0;34m\u001b[0m\u001b[0m\n\u001b[0m",
      "\u001b[0;31mNameError\u001b[0m: name 'spec2' is not defined"
     ]
    }
   ],
   "source": [
    "show_palette(rgb2hsl(spec2))"
   ]
  },
  {
   "cell_type": "code",
   "execution_count": 53,
   "metadata": {},
   "outputs": [
    {
     "ename": "NameError",
     "evalue": "name 'spec2' is not defined",
     "output_type": "error",
     "traceback": [
      "\u001b[0;31m---------------------------------------------------------------------------\u001b[0m",
      "\u001b[0;31mNameError\u001b[0m                                 Traceback (most recent call last)",
      "\u001b[0;32m/var/folders/br/_6t379450pj681z8v514zxxh0000gp/T/ipykernel_89083/1301171563.py\u001b[0m in \u001b[0;36m<module>\u001b[0;34m\u001b[0m\n\u001b[0;32m----> 1\u001b[0;31m \u001b[0mplt\u001b[0m\u001b[0;34m.\u001b[0m\u001b[0mplot\u001b[0m\u001b[0;34m(\u001b[0m\u001b[0mspec2\u001b[0m\u001b[0;34m)\u001b[0m\u001b[0;34m\u001b[0m\u001b[0;34m\u001b[0m\u001b[0m\n\u001b[0m",
      "\u001b[0;31mNameError\u001b[0m: name 'spec2' is not defined"
     ]
    }
   ],
   "source": [
    "plt.plot(spec2)"
   ]
  },
  {
   "cell_type": "code",
   "execution_count": 54,
   "metadata": {},
   "outputs": [
    {
     "ename": "NameError",
     "evalue": "name 'wavelen2rgb' is not defined",
     "output_type": "error",
     "traceback": [
      "\u001b[0;31m---------------------------------------------------------------------------\u001b[0m",
      "\u001b[0;31mNameError\u001b[0m                                 Traceback (most recent call last)",
      "\u001b[0;32m/var/folders/br/_6t379450pj681z8v514zxxh0000gp/T/ipykernel_89083/1882877247.py\u001b[0m in \u001b[0;36m<module>\u001b[0;34m\u001b[0m\n\u001b[0;32m----> 1\u001b[0;31m \u001b[0mspec3\u001b[0m \u001b[0;34m=\u001b[0m \u001b[0;34m[\u001b[0m \u001b[0mwavelen2rgb\u001b[0m\u001b[0;34m(\u001b[0m\u001b[0mi\u001b[0m\u001b[0;34m)\u001b[0m \u001b[0;32mfor\u001b[0m \u001b[0mi\u001b[0m \u001b[0;32min\u001b[0m \u001b[0mrange\u001b[0m\u001b[0;34m(\u001b[0m\u001b[0;36m400\u001b[0m\u001b[0;34m,\u001b[0m\u001b[0;36m700\u001b[0m\u001b[0;34m)\u001b[0m \u001b[0;34m]\u001b[0m\u001b[0;34m\u001b[0m\u001b[0;34m\u001b[0m\u001b[0m\n\u001b[0m",
      "\u001b[0;32m/var/folders/br/_6t379450pj681z8v514zxxh0000gp/T/ipykernel_89083/1882877247.py\u001b[0m in \u001b[0;36m<listcomp>\u001b[0;34m(.0)\u001b[0m\n\u001b[0;32m----> 1\u001b[0;31m \u001b[0mspec3\u001b[0m \u001b[0;34m=\u001b[0m \u001b[0;34m[\u001b[0m \u001b[0mwavelen2rgb\u001b[0m\u001b[0;34m(\u001b[0m\u001b[0mi\u001b[0m\u001b[0;34m)\u001b[0m \u001b[0;32mfor\u001b[0m \u001b[0mi\u001b[0m \u001b[0;32min\u001b[0m \u001b[0mrange\u001b[0m\u001b[0;34m(\u001b[0m\u001b[0;36m400\u001b[0m\u001b[0;34m,\u001b[0m\u001b[0;36m700\u001b[0m\u001b[0;34m)\u001b[0m \u001b[0;34m]\u001b[0m\u001b[0;34m\u001b[0m\u001b[0;34m\u001b[0m\u001b[0m\n\u001b[0m",
      "\u001b[0;31mNameError\u001b[0m: name 'wavelen2rgb' is not defined"
     ]
    }
   ],
   "source": [
    "spec3 = [ wavelen2rgb(i) for i in range(400,700) ]"
   ]
  },
  {
   "cell_type": "code",
   "execution_count": 55,
   "metadata": {},
   "outputs": [
    {
     "ename": "NameError",
     "evalue": "name 'spec3' is not defined",
     "output_type": "error",
     "traceback": [
      "\u001b[0;31m---------------------------------------------------------------------------\u001b[0m",
      "\u001b[0;31mNameError\u001b[0m                                 Traceback (most recent call last)",
      "\u001b[0;32m/var/folders/br/_6t379450pj681z8v514zxxh0000gp/T/ipykernel_89083/795403331.py\u001b[0m in \u001b[0;36m<module>\u001b[0;34m\u001b[0m\n\u001b[0;32m----> 1\u001b[0;31m \u001b[0mplt\u001b[0m\u001b[0;34m.\u001b[0m\u001b[0mplot\u001b[0m\u001b[0;34m(\u001b[0m\u001b[0mspec3\u001b[0m\u001b[0;34m)\u001b[0m\u001b[0;34m\u001b[0m\u001b[0;34m\u001b[0m\u001b[0m\n\u001b[0m",
      "\u001b[0;31mNameError\u001b[0m: name 'spec3' is not defined"
     ]
    }
   ],
   "source": [
    "plt.plot(spec3)"
   ]
  },
  {
   "cell_type": "code",
   "execution_count": 56,
   "metadata": {},
   "outputs": [
    {
     "ename": "NameError",
     "evalue": "name 'spec3' is not defined",
     "output_type": "error",
     "traceback": [
      "\u001b[0;31m---------------------------------------------------------------------------\u001b[0m",
      "\u001b[0;31mNameError\u001b[0m                                 Traceback (most recent call last)",
      "\u001b[0;32m/var/folders/br/_6t379450pj681z8v514zxxh0000gp/T/ipykernel_89083/4269111238.py\u001b[0m in \u001b[0;36m<module>\u001b[0;34m\u001b[0m\n\u001b[0;32m----> 1\u001b[0;31m \u001b[0mshow_palette\u001b[0m\u001b[0;34m(\u001b[0m\u001b[0mrgb2hsl\u001b[0m\u001b[0;34m(\u001b[0m\u001b[0mspec3\u001b[0m\u001b[0;34m)\u001b[0m\u001b[0;34m)\u001b[0m\u001b[0;34m\u001b[0m\u001b[0;34m\u001b[0m\u001b[0m\n\u001b[0m",
      "\u001b[0;31mNameError\u001b[0m: name 'spec3' is not defined"
     ]
    }
   ],
   "source": [
    "show_palette(rgb2hsl(spec3))"
   ]
  },
  {
   "cell_type": "code",
   "execution_count": 57,
   "metadata": {},
   "outputs": [
    {
     "data": {
      "text/plain": [
       "[5.783387783527508e-05, 0.0, 0.15199936507102862]"
      ]
     },
     "execution_count": 57,
     "metadata": {},
     "output_type": "execute_result"
    }
   ],
   "source": [
    "from colorways.conv import xyz2rgb\n",
    "xyz2rgb([0.342957, 0.106256, 1.900700])"
   ]
  },
  {
   "cell_type": "code",
   "execution_count": 58,
   "metadata": {},
   "outputs": [
    {
     "data": {
      "application/vnd.jupyter.widget-view+json": {
       "model_id": "58f087c18eac4375822fa2e474e8c3d0",
       "version_major": 2,
       "version_minor": 0
      },
      "text/plain": [
       "Canvas(height=100, width=100)"
      ]
     },
     "metadata": {},
     "output_type": "display_data"
    }
   ],
   "source": [
    "show_color(rgb2hex(xyz2rgb([5.783387783527508e-05, 0.0, 0.15199936507102862])))"
   ]
  },
  {
   "cell_type": "code",
   "execution_count": 59,
   "metadata": {},
   "outputs": [
    {
     "data": {
      "text/plain": [
       "[0.005783387783525535, 0.0, 1.0]"
      ]
     },
     "execution_count": 59,
     "metadata": {},
     "output_type": "execute_result"
    }
   ],
   "source": [
    "xyz2rgb([34.2957, 10.6256, 190.0700])"
   ]
  },
  {
   "cell_type": "code",
   "execution_count": 60,
   "metadata": {},
   "outputs": [
    {
     "data": {
      "text/plain": [
       "[34.295715721429005, 10.625604681303608, 190.07008752444244]"
      ]
     },
     "execution_count": 60,
     "metadata": {},
     "output_type": "execute_result"
    }
   ],
   "source": [
    "from colorways.conv import lab2xyz\n",
    "lab2xyz([38.9426, 119.1406, -146.0851])"
   ]
  },
  {
   "cell_type": "code",
   "execution_count": 61,
   "metadata": {},
   "outputs": [
    {
     "ename": "ModuleNotFoundError",
     "evalue": "No module named 'colorways.ciespectwolms'",
     "output_type": "error",
     "traceback": [
      "\u001b[0;31m---------------------------------------------------------------------------\u001b[0m",
      "\u001b[0;31mModuleNotFoundError\u001b[0m                       Traceback (most recent call last)",
      "\u001b[0;32m/var/folders/br/_6t379450pj681z8v514zxxh0000gp/T/ipykernel_89083/2692947525.py\u001b[0m in \u001b[0;36m<module>\u001b[0;34m\u001b[0m\n\u001b[0;32m----> 1\u001b[0;31m \u001b[0;32mimport\u001b[0m \u001b[0mcolorways\u001b[0m\u001b[0;34m.\u001b[0m\u001b[0mciespectwolms\u001b[0m \u001b[0;32mas\u001b[0m \u001b[0mspectwo\u001b[0m\u001b[0;34m\u001b[0m\u001b[0;34m\u001b[0m\u001b[0m\n\u001b[0m",
      "\u001b[0;31mModuleNotFoundError\u001b[0m: No module named 'colorways.ciespectwolms'"
     ]
    }
   ],
   "source": [
    "import colorways.ciespectwolms as spectwo"
   ]
  },
  {
   "cell_type": "code",
   "execution_count": 62,
   "metadata": {},
   "outputs": [
    {
     "ename": "NameError",
     "evalue": "name 'spectwo' is not defined",
     "output_type": "error",
     "traceback": [
      "\u001b[0;31m---------------------------------------------------------------------------\u001b[0m",
      "\u001b[0;31mNameError\u001b[0m                                 Traceback (most recent call last)",
      "\u001b[0;32m/var/folders/br/_6t379450pj681z8v514zxxh0000gp/T/ipykernel_89083/1350171181.py\u001b[0m in \u001b[0;36m<module>\u001b[0;34m\u001b[0m\n\u001b[0;32m----> 1\u001b[0;31m \u001b[0mspec5\u001b[0m \u001b[0;34m=\u001b[0m \u001b[0;34m[\u001b[0m \u001b[0mspectwo\u001b[0m\u001b[0;34m.\u001b[0m\u001b[0mwavelen2rgb\u001b[0m\u001b[0;34m(\u001b[0m\u001b[0mnm\u001b[0m\u001b[0;34m)\u001b[0m \u001b[0;32mfor\u001b[0m \u001b[0mnm\u001b[0m \u001b[0;32min\u001b[0m \u001b[0mrange\u001b[0m\u001b[0;34m(\u001b[0m\u001b[0;36m390\u001b[0m\u001b[0;34m,\u001b[0m\u001b[0;36m800\u001b[0m\u001b[0;34m)\u001b[0m \u001b[0;34m]\u001b[0m\u001b[0;34m\u001b[0m\u001b[0;34m\u001b[0m\u001b[0m\n\u001b[0m",
      "\u001b[0;32m/var/folders/br/_6t379450pj681z8v514zxxh0000gp/T/ipykernel_89083/1350171181.py\u001b[0m in \u001b[0;36m<listcomp>\u001b[0;34m(.0)\u001b[0m\n\u001b[0;32m----> 1\u001b[0;31m \u001b[0mspec5\u001b[0m \u001b[0;34m=\u001b[0m \u001b[0;34m[\u001b[0m \u001b[0mspectwo\u001b[0m\u001b[0;34m.\u001b[0m\u001b[0mwavelen2rgb\u001b[0m\u001b[0;34m(\u001b[0m\u001b[0mnm\u001b[0m\u001b[0;34m)\u001b[0m \u001b[0;32mfor\u001b[0m \u001b[0mnm\u001b[0m \u001b[0;32min\u001b[0m \u001b[0mrange\u001b[0m\u001b[0;34m(\u001b[0m\u001b[0;36m390\u001b[0m\u001b[0;34m,\u001b[0m\u001b[0;36m800\u001b[0m\u001b[0;34m)\u001b[0m \u001b[0;34m]\u001b[0m\u001b[0;34m\u001b[0m\u001b[0;34m\u001b[0m\u001b[0m\n\u001b[0m",
      "\u001b[0;31mNameError\u001b[0m: name 'spectwo' is not defined"
     ]
    }
   ],
   "source": [
    "spec5 = [ spectwo.wavelen2rgb(nm) for nm in range(390,800) ]"
   ]
  },
  {
   "cell_type": "code",
   "execution_count": 63,
   "metadata": {},
   "outputs": [
    {
     "ename": "NameError",
     "evalue": "name 'spec4' is not defined",
     "output_type": "error",
     "traceback": [
      "\u001b[0;31m---------------------------------------------------------------------------\u001b[0m",
      "\u001b[0;31mNameError\u001b[0m                                 Traceback (most recent call last)",
      "\u001b[0;32m/var/folders/br/_6t379450pj681z8v514zxxh0000gp/T/ipykernel_89083/1568897967.py\u001b[0m in \u001b[0;36m<module>\u001b[0;34m\u001b[0m\n\u001b[0;32m----> 1\u001b[0;31m \u001b[0mshow_palette\u001b[0m\u001b[0;34m(\u001b[0m\u001b[0mrgb2hsl\u001b[0m\u001b[0;34m(\u001b[0m\u001b[0mspec4\u001b[0m\u001b[0;34m)\u001b[0m\u001b[0;34m)\u001b[0m\u001b[0;34m\u001b[0m\u001b[0;34m\u001b[0m\u001b[0m\n\u001b[0m",
      "\u001b[0;31mNameError\u001b[0m: name 'spec4' is not defined"
     ]
    }
   ],
   "source": [
    "show_palette(rgb2hsl(spec4))"
   ]
  },
  {
   "cell_type": "code",
   "execution_count": 64,
   "metadata": {},
   "outputs": [
    {
     "ename": "NameError",
     "evalue": "name 'spec5' is not defined",
     "output_type": "error",
     "traceback": [
      "\u001b[0;31m---------------------------------------------------------------------------\u001b[0m",
      "\u001b[0;31mNameError\u001b[0m                                 Traceback (most recent call last)",
      "\u001b[0;32m/var/folders/br/_6t379450pj681z8v514zxxh0000gp/T/ipykernel_89083/2864434027.py\u001b[0m in \u001b[0;36m<module>\u001b[0;34m\u001b[0m\n\u001b[0;32m----> 1\u001b[0;31m \u001b[0mshow_palette\u001b[0m\u001b[0;34m(\u001b[0m\u001b[0mrgb2hsl\u001b[0m\u001b[0;34m(\u001b[0m\u001b[0mspec5\u001b[0m\u001b[0;34m)\u001b[0m\u001b[0;34m)\u001b[0m\u001b[0;34m\u001b[0m\u001b[0;34m\u001b[0m\u001b[0m\n\u001b[0m",
      "\u001b[0;31mNameError\u001b[0m: name 'spec5' is not defined"
     ]
    }
   ],
   "source": [
    "show_palette(rgb2hsl(spec5))"
   ]
  },
  {
   "cell_type": "code",
   "execution_count": 65,
   "metadata": {},
   "outputs": [
    {
     "ename": "ModuleNotFoundError",
     "evalue": "No module named 'colorways.ciespec64'",
     "output_type": "error",
     "traceback": [
      "\u001b[0;31m---------------------------------------------------------------------------\u001b[0m",
      "\u001b[0;31mModuleNotFoundError\u001b[0m                       Traceback (most recent call last)",
      "\u001b[0;32m/var/folders/br/_6t379450pj681z8v514zxxh0000gp/T/ipykernel_89083/4182669653.py\u001b[0m in \u001b[0;36m<module>\u001b[0;34m\u001b[0m\n\u001b[0;32m----> 1\u001b[0;31m \u001b[0;32mimport\u001b[0m \u001b[0mcolorways\u001b[0m\u001b[0;34m.\u001b[0m\u001b[0mciespec64\u001b[0m \u001b[0;32mas\u001b[0m \u001b[0mspec64\u001b[0m\u001b[0;34m\u001b[0m\u001b[0;34m\u001b[0m\u001b[0m\n\u001b[0m",
      "\u001b[0;31mModuleNotFoundError\u001b[0m: No module named 'colorways.ciespec64'"
     ]
    }
   ],
   "source": [
    "import colorways.ciespec64 as spec64"
   ]
  },
  {
   "cell_type": "code",
   "execution_count": 66,
   "metadata": {},
   "outputs": [
    {
     "ename": "NameError",
     "evalue": "name 'spec64' is not defined",
     "output_type": "error",
     "traceback": [
      "\u001b[0;31m---------------------------------------------------------------------------\u001b[0m",
      "\u001b[0;31mNameError\u001b[0m                                 Traceback (most recent call last)",
      "\u001b[0;32m/var/folders/br/_6t379450pj681z8v514zxxh0000gp/T/ipykernel_89083/2836904913.py\u001b[0m in \u001b[0;36m<module>\u001b[0;34m\u001b[0m\n\u001b[0;32m----> 1\u001b[0;31m \u001b[0mspec6\u001b[0m \u001b[0;34m=\u001b[0m \u001b[0;34m[\u001b[0m \u001b[0mspec64\u001b[0m\u001b[0;34m.\u001b[0m\u001b[0mwavelen2rgb\u001b[0m\u001b[0;34m(\u001b[0m\u001b[0mnm\u001b[0m\u001b[0;34m)\u001b[0m \u001b[0;32mfor\u001b[0m \u001b[0mnm\u001b[0m \u001b[0;32min\u001b[0m \u001b[0mrange\u001b[0m\u001b[0;34m(\u001b[0m\u001b[0;36m360\u001b[0m\u001b[0;34m,\u001b[0m\u001b[0;36m830\u001b[0m\u001b[0;34m)\u001b[0m \u001b[0;34m]\u001b[0m\u001b[0;34m\u001b[0m\u001b[0;34m\u001b[0m\u001b[0m\n\u001b[0m",
      "\u001b[0;32m/var/folders/br/_6t379450pj681z8v514zxxh0000gp/T/ipykernel_89083/2836904913.py\u001b[0m in \u001b[0;36m<listcomp>\u001b[0;34m(.0)\u001b[0m\n\u001b[0;32m----> 1\u001b[0;31m \u001b[0mspec6\u001b[0m \u001b[0;34m=\u001b[0m \u001b[0;34m[\u001b[0m \u001b[0mspec64\u001b[0m\u001b[0;34m.\u001b[0m\u001b[0mwavelen2rgb\u001b[0m\u001b[0;34m(\u001b[0m\u001b[0mnm\u001b[0m\u001b[0;34m)\u001b[0m \u001b[0;32mfor\u001b[0m \u001b[0mnm\u001b[0m \u001b[0;32min\u001b[0m \u001b[0mrange\u001b[0m\u001b[0;34m(\u001b[0m\u001b[0;36m360\u001b[0m\u001b[0;34m,\u001b[0m\u001b[0;36m830\u001b[0m\u001b[0;34m)\u001b[0m \u001b[0;34m]\u001b[0m\u001b[0;34m\u001b[0m\u001b[0;34m\u001b[0m\u001b[0m\n\u001b[0m",
      "\u001b[0;31mNameError\u001b[0m: name 'spec64' is not defined"
     ]
    }
   ],
   "source": [
    "spec6 = [ spec64.wavelen2rgb(nm) for nm in range(360,830) ]"
   ]
  },
  {
   "cell_type": "code",
   "execution_count": 67,
   "metadata": {},
   "outputs": [
    {
     "ename": "NameError",
     "evalue": "name 'spec6' is not defined",
     "output_type": "error",
     "traceback": [
      "\u001b[0;31m---------------------------------------------------------------------------\u001b[0m",
      "\u001b[0;31mNameError\u001b[0m                                 Traceback (most recent call last)",
      "\u001b[0;32m/var/folders/br/_6t379450pj681z8v514zxxh0000gp/T/ipykernel_89083/4242064756.py\u001b[0m in \u001b[0;36m<module>\u001b[0;34m\u001b[0m\n\u001b[0;32m----> 1\u001b[0;31m \u001b[0mshow_palette\u001b[0m\u001b[0;34m(\u001b[0m\u001b[0mrgb2hsl\u001b[0m\u001b[0;34m(\u001b[0m\u001b[0mspec6\u001b[0m\u001b[0;34m)\u001b[0m\u001b[0;34m)\u001b[0m\u001b[0;34m\u001b[0m\u001b[0;34m\u001b[0m\u001b[0m\n\u001b[0m",
      "\u001b[0;31mNameError\u001b[0m: name 'spec6' is not defined"
     ]
    }
   ],
   "source": [
    "show_palette(rgb2hsl(spec6))"
   ]
  },
  {
   "cell_type": "code",
   "execution_count": 68,
   "metadata": {},
   "outputs": [
    {
     "ename": "ModuleNotFoundError",
     "evalue": "No module named 'colorways.cietwofine'",
     "output_type": "error",
     "traceback": [
      "\u001b[0;31m---------------------------------------------------------------------------\u001b[0m",
      "\u001b[0;31mModuleNotFoundError\u001b[0m                       Traceback (most recent call last)",
      "\u001b[0;32m/var/folders/br/_6t379450pj681z8v514zxxh0000gp/T/ipykernel_89083/4112735547.py\u001b[0m in \u001b[0;36m<module>\u001b[0;34m\u001b[0m\n\u001b[0;32m----> 1\u001b[0;31m \u001b[0;32mimport\u001b[0m \u001b[0mcolorways\u001b[0m\u001b[0;34m.\u001b[0m\u001b[0mcietwofine\u001b[0m \u001b[0;32mas\u001b[0m \u001b[0mtwofine\u001b[0m\u001b[0;34m\u001b[0m\u001b[0;34m\u001b[0m\u001b[0m\n\u001b[0m",
      "\u001b[0;31mModuleNotFoundError\u001b[0m: No module named 'colorways.cietwofine'"
     ]
    }
   ],
   "source": [
    "import colorways.cietwofine as twofine"
   ]
  },
  {
   "cell_type": "code",
   "execution_count": 69,
   "metadata": {},
   "outputs": [
    {
     "ename": "NameError",
     "evalue": "name 'twofine' is not defined",
     "output_type": "error",
     "traceback": [
      "\u001b[0;31m---------------------------------------------------------------------------\u001b[0m",
      "\u001b[0;31mNameError\u001b[0m                                 Traceback (most recent call last)",
      "\u001b[0;32m/var/folders/br/_6t379450pj681z8v514zxxh0000gp/T/ipykernel_89083/3850515950.py\u001b[0m in \u001b[0;36m<module>\u001b[0;34m\u001b[0m\n\u001b[0;32m----> 1\u001b[0;31m \u001b[0mspec7\u001b[0m \u001b[0;34m=\u001b[0m \u001b[0;34m[\u001b[0m\u001b[0mtwofine\u001b[0m\u001b[0;34m.\u001b[0m\u001b[0mwavelen2rgb\u001b[0m\u001b[0;34m(\u001b[0m\u001b[0mnm\u001b[0m\u001b[0;34m/\u001b[0m\u001b[0;36m10\u001b[0m\u001b[0;34m)\u001b[0m \u001b[0;32mfor\u001b[0m \u001b[0mnm\u001b[0m \u001b[0;32min\u001b[0m \u001b[0mrange\u001b[0m\u001b[0;34m(\u001b[0m\u001b[0;36m3900\u001b[0m\u001b[0;34m,\u001b[0m\u001b[0;36m8300\u001b[0m\u001b[0;34m)\u001b[0m\u001b[0;34m]\u001b[0m\u001b[0;34m\u001b[0m\u001b[0;34m\u001b[0m\u001b[0m\n\u001b[0m",
      "\u001b[0;32m/var/folders/br/_6t379450pj681z8v514zxxh0000gp/T/ipykernel_89083/3850515950.py\u001b[0m in \u001b[0;36m<listcomp>\u001b[0;34m(.0)\u001b[0m\n\u001b[0;32m----> 1\u001b[0;31m \u001b[0mspec7\u001b[0m \u001b[0;34m=\u001b[0m \u001b[0;34m[\u001b[0m\u001b[0mtwofine\u001b[0m\u001b[0;34m.\u001b[0m\u001b[0mwavelen2rgb\u001b[0m\u001b[0;34m(\u001b[0m\u001b[0mnm\u001b[0m\u001b[0;34m/\u001b[0m\u001b[0;36m10\u001b[0m\u001b[0;34m)\u001b[0m \u001b[0;32mfor\u001b[0m \u001b[0mnm\u001b[0m \u001b[0;32min\u001b[0m \u001b[0mrange\u001b[0m\u001b[0;34m(\u001b[0m\u001b[0;36m3900\u001b[0m\u001b[0;34m,\u001b[0m\u001b[0;36m8300\u001b[0m\u001b[0;34m)\u001b[0m\u001b[0;34m]\u001b[0m\u001b[0;34m\u001b[0m\u001b[0;34m\u001b[0m\u001b[0m\n\u001b[0m",
      "\u001b[0;31mNameError\u001b[0m: name 'twofine' is not defined"
     ]
    }
   ],
   "source": [
    "spec7 = [twofine.wavelen2rgb(nm/10) for nm in range(3900,8300)]"
   ]
  },
  {
   "cell_type": "code",
   "execution_count": 70,
   "metadata": {},
   "outputs": [
    {
     "ename": "NameError",
     "evalue": "name 'spec7' is not defined",
     "output_type": "error",
     "traceback": [
      "\u001b[0;31m---------------------------------------------------------------------------\u001b[0m",
      "\u001b[0;31mNameError\u001b[0m                                 Traceback (most recent call last)",
      "\u001b[0;32m/var/folders/br/_6t379450pj681z8v514zxxh0000gp/T/ipykernel_89083/2847082295.py\u001b[0m in \u001b[0;36m<module>\u001b[0;34m\u001b[0m\n\u001b[1;32m      1\u001b[0m show_multi_palette(\n\u001b[0;32m----> 2\u001b[0;31m     \u001b[0mrgb2hsl\u001b[0m\u001b[0;34m(\u001b[0m\u001b[0mspec7\u001b[0m\u001b[0;34m[\u001b[0m\u001b[0;36m0\u001b[0m\u001b[0;34m:\u001b[0m\u001b[0;36m400\u001b[0m\u001b[0;34m]\u001b[0m\u001b[0;34m)\u001b[0m\u001b[0;34m,\u001b[0m\u001b[0;34m\u001b[0m\u001b[0;34m\u001b[0m\u001b[0m\n\u001b[0m\u001b[1;32m      3\u001b[0m     \u001b[0mrgb2hsl\u001b[0m\u001b[0;34m(\u001b[0m\u001b[0mspec7\u001b[0m\u001b[0;34m[\u001b[0m\u001b[0;36m400\u001b[0m\u001b[0;34m:\u001b[0m\u001b[0;36m800\u001b[0m\u001b[0;34m]\u001b[0m\u001b[0;34m)\u001b[0m\u001b[0;34m,\u001b[0m\u001b[0;34m\u001b[0m\u001b[0;34m\u001b[0m\u001b[0m\n\u001b[1;32m      4\u001b[0m     \u001b[0mrgb2hsl\u001b[0m\u001b[0;34m(\u001b[0m\u001b[0mspec7\u001b[0m\u001b[0;34m[\u001b[0m\u001b[0;36m800\u001b[0m\u001b[0;34m:\u001b[0m\u001b[0;36m1200\u001b[0m\u001b[0;34m]\u001b[0m\u001b[0;34m)\u001b[0m\u001b[0;34m,\u001b[0m\u001b[0;34m\u001b[0m\u001b[0;34m\u001b[0m\u001b[0m\n\u001b[1;32m      5\u001b[0m     \u001b[0mrgb2hsl\u001b[0m\u001b[0;34m(\u001b[0m\u001b[0mspec7\u001b[0m\u001b[0;34m[\u001b[0m\u001b[0;36m1200\u001b[0m\u001b[0;34m:\u001b[0m\u001b[0;36m1600\u001b[0m\u001b[0;34m]\u001b[0m\u001b[0;34m)\u001b[0m\u001b[0;34m,\u001b[0m\u001b[0;34m\u001b[0m\u001b[0;34m\u001b[0m\u001b[0m\n",
      "\u001b[0;31mNameError\u001b[0m: name 'spec7' is not defined"
     ]
    }
   ],
   "source": [
    "show_multi_palette(\n",
    "    rgb2hsl(spec7[0:400]),\n",
    "    rgb2hsl(spec7[400:800]),\n",
    "    rgb2hsl(spec7[800:1200]),\n",
    "    rgb2hsl(spec7[1200:1600]),\n",
    "    rgb2hsl(spec7[2000:2400]),\n",
    "    rgb2hsl(spec7[2800:3200]),\n",
    "    rgb2hsl(spec7[3200:3600]),\n",
    ")"
   ]
  },
  {
   "cell_type": "code",
   "execution_count": 71,
   "metadata": {},
   "outputs": [],
   "source": [
    "rwp = wave_palette(300, random_fpoa())"
   ]
  },
  {
   "cell_type": "code",
   "execution_count": 72,
   "metadata": {},
   "outputs": [],
   "source": [
    "from colorways.ryb import * "
   ]
  },
  {
   "cell_type": "code",
   "execution_count": 73,
   "metadata": {},
   "outputs": [],
   "source": [
    "import matplotlib.pyplot as plt"
   ]
  },
  {
   "cell_type": "code",
   "execution_count": 74,
   "metadata": {},
   "outputs": [
    {
     "data": {
      "text/plain": [
       "[<matplotlib.lines.Line2D at 0x7fa784cf1190>]"
      ]
     },
     "execution_count": 74,
     "metadata": {},
     "output_type": "execute_result"
    },
    {
     "data": {
      "image/png": "[encoded data removed]",
      "text/plain": [
       "<Figure size 432x288 with 1 Axes>"
      ]
     },
     "metadata": {
      "needs_background": "light"
     },
     "output_type": "display_data"
    }
   ],
   "source": [
    "rwp = wave_palette(300, random_fpoa())\n",
    "\n",
    "#plt.plot(rwp)\n",
    "plt.plot([c[0] for c in rwp], color='r')\n",
    "plt.plot([c[1] for c in rwp], color='g')\n",
    "plt.plot([c[2] for c in rwp], color='b')"
   ]
  },
  {
   "cell_type": "code",
   "execution_count": 75,
   "metadata": {},
   "outputs": [
    {
     "data": {
      "application/vnd.jupyter.widget-view+json": {
       "model_id": "68dae59ad7564e8c922870780a7b8ba3",
       "version_major": 2,
       "version_minor": 0
      },
      "text/plain": [
       "Canvas(height=200, width=720)"
      ]
     },
     "metadata": {},
     "output_type": "display_data"
    }
   ],
   "source": [
    "show_palette(rgb2hsl(rwp))"
   ]
  },
  {
   "cell_type": "code",
   "execution_count": 76,
   "metadata": {},
   "outputs": [
    {
     "name": "stdout",
     "output_type": "stream",
     "text": [
      "[(7, [1.345, 1.065, 0.745], [0.15915494309189535, 0.13369015219719207, 0.11140846016432673], [1.3399999999999999, 0.25, 0.9], [0, 0, 0]), (100, [0.445, 0.635, 0.855], [0.16233804195373325, 0.1400563499208679, 0.2164507226049777], [1.4100000000000001, 1.03, 1.04], [0, 0, 0]), (32, [0.995, 0.51, 0.54], [0.29602819415092535, 0.1432394487827058, 0.1814366351247607], [-0.10000000000000009, 1.1, 1.27], [0, 0, 0]), (150, [0.98, 0.45, 1.02], [0.03501408748021698, 0.025464790894703257, 0.11140846016432673], [0.10999999999999999, 0.22999999999999998, 0.29000000000000004], [0, 0, 0]), (151, [0.62, 0.225, 0.05], [0.10185916357881303, 0.05729577951308232, 0.09867606471697511], [0.44999999999999996, 0.21999999999999997, 0.29], [0, 0, 0]), (150, [0.8754185416215507, 0.5100647113211614, 0.4971029005983944], [0.2559240781742855, 0.016743159435590394, 0.10816862510094825], [1.1802587048869646, 1.1254781480308427, 1.2701816890002928], [0, 0, 0]), (82, [0.5132522731207945, 0.38391428715046, 0.8694473285978643], [0.29619207280200666, 0.05364102750800341, 0.02669239717698936], [0.9978925557910865, 1.3592034876373653, 1.1211810671295173], [0, 0, 0]), (101, [0.425, 0.6052829839192126, 0.46], [0.16552114081557115, 0.12095775674984047, 0.19416903057211232], [1.32, 0.99, 1.4], [0, 0, 0])]\n"
     ]
    }
   ],
   "source": [
    "from math import pi\n",
    "\n",
    "presets = [\n",
    "            (7, [2.69, 2.13, 1.49], [0.5, 0.42, 0.35], [0.7, -0.5, 0.4], [0.64, 0.75, 0.5]),\n",
    "            (100, [0.89, 1.27, 1.71], [0.51, 0.44, 0.68], [1.05, 0.58, 0.27], [0.36, 0.45, 0.77]),\n",
    "            (32, [1.99, 1.02, 1.08], [0.93, 0.45, 0.57], [-1.78, 0.43, 0.78], [1.68, 0.67, 0.49]),\n",
    "            (150, [1.96, 0.9, 2.04], [0.11, 0.08, 0.35], [-0.3, -0.52, -0.26], [0.41, 0.75, 0.55]),\n",
    "            (151, [1.24, 0.45, 0.1], [0.32, 0.18, 0.31], [-0.15, -0.54, -0.2], [0.6, 0.76, 0.49]),\n",
    "            (150, [1.7508370832431015, 1.0201294226423228, 0.9942058011967888],\n",
    "                  [0.8040092038690752, 0.05260018668073341, 0.3398217579660475],\n",
    "                  [0.5768668741782016, 0.6799773620865546, 0.7205886933736131],\n",
    "                  [0.603391830708763, 0.44550078594428816, 0.5495929956266797]),\n",
    "            (82, [1.026504546241589, 0.76782857430092, 1.7388946571957287],\n",
    "                 [0.9305148399663172, 0.16851825795015152, 0.08385663887793071],\n",
    "                 [0.4562136883485164, 0.7783222857546727, 0.5525876116917988],\n",
    "                 [0.5416788674425701, 0.5808812018826927, 0.5685934554377184]),\n",
    "            (101, [0.85, 1.2105659678384253, 0.92], [0.52, 0.38, 0.61], [0.21, 0.58, 0.92], [1.11, 0.41, 0.48]),\n",
    "        ]\n",
    "new_presets = []\n",
    "for tpl in presets:\n",
    "    n = tpl[0]\n",
    "    (f,p,o,a) = tpl[1:]\n",
    "    o[0] += a[0]\n",
    "    o[1] += a[1]\n",
    "    o[2] += a[2]\n",
    "    a[0] = a[1] = a[2] = 0\n",
    "    f = [ff/2 for ff in f]\n",
    "    p = [pp/pi for pp in p]\n",
    "    new_presets.append(\n",
    "        (n, f, p, o, a)\n",
    "    )\n",
    "    \n",
    "print(new_presets)"
   ]
  },
  {
   "cell_type": "code",
   "execution_count": 77,
   "metadata": {},
   "outputs": [
    {
     "data": {
      "text/plain": [
       "[0.425, 0.6052829839192126, 0.46]"
      ]
     },
     "execution_count": 77,
     "metadata": {},
     "output_type": "execute_result"
    }
   ],
   "source": [
    "[x/2 for x in  [0.85, 1.2105659678384253, 0.92]]"
   ]
  },
  {
   "cell_type": "code",
   "execution_count": 78,
   "metadata": {},
   "outputs": [
    {
     "data": {
      "text/plain": [
       "0.7000000000000001"
      ]
     },
     "execution_count": 78,
     "metadata": {},
     "output_type": "execute_result"
    }
   ],
   "source": [
    "#a\\left(1-x\\right)^{2}+4bx\\left(1-x\\right)\\ +\\ cx^{2}\n",
    "def quadratic(x, a, b, c):\n",
    "    return clamp01(a*(1-x)**2+4*b*x*(1-x)+c*x**2)\n",
    "quadratic(0.5, 1, 0.4, 0.2)"
   ]
  },
  {
   "cell_type": "code",
   "execution_count": 79,
   "metadata": {},
   "outputs": [],
   "source": [
    "from random import random, normalvariate"
   ]
  },
  {
   "cell_type": "code",
   "execution_count": 80,
   "metadata": {},
   "outputs": [],
   "source": [
    "from random import random, normalvariate\n",
    "\n",
    "def quadratic(x, a, b, c):\n",
    "    return clamp01(a*(1-x)**2+4*b*x*(1-x)+c*x**2)\n",
    "\n",
    "def random_quadratic_params():\n",
    "    return ([random(), normalvariate(0.25, 0.5), random()],\n",
    "            [random(), normalvariate(0.25, 0.5), random()],\n",
    "            [random(), normalvariate(0.25, 0.5), random()])\n",
    "\n",
    "def random_quadratic_palette(n):\n",
    "    rabc, gabc, babc = random_quadratic_params()  \n",
    "    return [[quadratic(x/n, *rabc), \n",
    "             quadratic(x/n, *gabc),\n",
    "             quadratic(x/n, *babc)] for x in range(n)]\n",
    "\n",
    "\n"
   ]
  },
  {
   "cell_type": "code",
   "execution_count": 81,
   "metadata": {},
   "outputs": [
    {
     "data": {
      "application/vnd.jupyter.widget-view+json": {
       "model_id": "f3cc7486088e4ff48d52e5af2d29453a",
       "version_major": 2,
       "version_minor": 0
      },
      "text/plain": [
       "Canvas(height=200, width=720)"
      ]
     },
     "metadata": {},
     "output_type": "display_data"
    }
   ],
   "source": [
    "show_palette(rgb2hsl(random_quadratic_palette(100)))"
   ]
  },
  {
   "cell_type": "code",
   "execution_count": 82,
   "metadata": {},
   "outputs": [],
   "source": [
    "def _bez_cubic(t, a, b, c, d):\n",
    "    # a(1-t)^3 + 3bt(1-t)^2 + 3ct^2(1-t) + dt^2\n",
    "    return a*(1-t)**3 + 3*b*t*(1-t)**2 + 3*c*t**2*(1-t) + d*t**2\n",
    "\n",
    "def bezcurve(t, y0, y1, ax, ay, bx, by):\n",
    "    return (_bez_cubic(t, 0, ax, bx, 1), _bez_cubic(t, y0, ay, by, y1))"
   ]
  },
  {
   "cell_type": "code",
   "execution_count": 83,
   "metadata": {},
   "outputs": [
    {
     "data": {
      "text/plain": [
       "(0.4522, 0.33659999999999995)"
      ]
     },
     "execution_count": 83,
     "metadata": {},
     "output_type": "execute_result"
    }
   ],
   "source": [
    "bezcurve(.34,0,0,.5,.5,.5,.5)"
   ]
  },
  {
   "cell_type": "code",
   "execution_count": 84,
   "metadata": {},
   "outputs": [],
   "source": [
    "def secant_method(f, x0, x1, iterations):\n",
    "    \"\"\"Return the root calculated using the secant method.\"\"\"\n",
    "    for i in range(iterations):\n",
    "        x2 = x1 - f(x1) * (x1 - x0) / float(f(x1) - f(x0))\n",
    "        x0, x1 = x1, x2\n",
    "    return x2\n",
    "\n",
    "def caller(x):\n",
    "    return _bez_cubic(x, 0, 0, .5, .5) - 0.4522\n",
    "\n",
    "        "
   ]
  },
  {
   "cell_type": "code",
   "execution_count": 85,
   "metadata": {},
   "outputs": [
    {
     "ename": "ZeroDivisionError",
     "evalue": "float division by zero",
     "output_type": "error",
     "traceback": [
      "\u001b[0;31m---------------------------------------------------------------------------\u001b[0m",
      "\u001b[0;31mZeroDivisionError\u001b[0m                         Traceback (most recent call last)",
      "\u001b[0;32m/var/folders/br/_6t379450pj681z8v514zxxh0000gp/T/ipykernel_89083/2168797754.py\u001b[0m in \u001b[0;36m<module>\u001b[0;34m\u001b[0m\n\u001b[0;32m----> 1\u001b[0;31m \u001b[0msecant_method\u001b[0m\u001b[0;34m(\u001b[0m\u001b[0mcaller\u001b[0m\u001b[0;34m,\u001b[0m \u001b[0;36m0.01\u001b[0m\u001b[0;34m,\u001b[0m \u001b[0;36m0.0400000\u001b[0m\u001b[0;34m,\u001b[0m \u001b[0;36m100\u001b[0m\u001b[0;34m)\u001b[0m\u001b[0;34m\u001b[0m\u001b[0;34m\u001b[0m\u001b[0m\n\u001b[0m",
      "\u001b[0;32m/var/folders/br/_6t379450pj681z8v514zxxh0000gp/T/ipykernel_89083/3794638739.py\u001b[0m in \u001b[0;36msecant_method\u001b[0;34m(f, x0, x1, iterations)\u001b[0m\n\u001b[1;32m      2\u001b[0m     \u001b[0;34m\"\"\"Return the root calculated using the secant method.\"\"\"\u001b[0m\u001b[0;34m\u001b[0m\u001b[0;34m\u001b[0m\u001b[0m\n\u001b[1;32m      3\u001b[0m     \u001b[0;32mfor\u001b[0m \u001b[0mi\u001b[0m \u001b[0;32min\u001b[0m \u001b[0mrange\u001b[0m\u001b[0;34m(\u001b[0m\u001b[0miterations\u001b[0m\u001b[0;34m)\u001b[0m\u001b[0;34m:\u001b[0m\u001b[0;34m\u001b[0m\u001b[0;34m\u001b[0m\u001b[0m\n\u001b[0;32m----> 4\u001b[0;31m         \u001b[0mx2\u001b[0m \u001b[0;34m=\u001b[0m \u001b[0mx1\u001b[0m \u001b[0;34m-\u001b[0m \u001b[0mf\u001b[0m\u001b[0;34m(\u001b[0m\u001b[0mx1\u001b[0m\u001b[0;34m)\u001b[0m \u001b[0;34m*\u001b[0m \u001b[0;34m(\u001b[0m\u001b[0mx1\u001b[0m \u001b[0;34m-\u001b[0m \u001b[0mx0\u001b[0m\u001b[0;34m)\u001b[0m \u001b[0;34m/\u001b[0m \u001b[0mfloat\u001b[0m\u001b[0;34m(\u001b[0m\u001b[0mf\u001b[0m\u001b[0;34m(\u001b[0m\u001b[0mx1\u001b[0m\u001b[0;34m)\u001b[0m \u001b[0;34m-\u001b[0m \u001b[0mf\u001b[0m\u001b[0;34m(\u001b[0m\u001b[0mx0\u001b[0m\u001b[0;34m)\u001b[0m\u001b[0;34m)\u001b[0m\u001b[0;34m\u001b[0m\u001b[0;34m\u001b[0m\u001b[0m\n\u001b[0m\u001b[1;32m      5\u001b[0m         \u001b[0mx0\u001b[0m\u001b[0;34m,\u001b[0m \u001b[0mx1\u001b[0m \u001b[0;34m=\u001b[0m \u001b[0mx1\u001b[0m\u001b[0;34m,\u001b[0m \u001b[0mx2\u001b[0m\u001b[0;34m\u001b[0m\u001b[0;34m\u001b[0m\u001b[0m\n\u001b[1;32m      6\u001b[0m     \u001b[0;32mreturn\u001b[0m \u001b[0mx2\u001b[0m\u001b[0;34m\u001b[0m\u001b[0;34m\u001b[0m\u001b[0m\n",
      "\u001b[0;31mZeroDivisionError\u001b[0m: float division by zero"
     ]
    }
   ],
   "source": [
    "secant_method(caller, 0.01, 0.0400000, 100)"
   ]
  },
  {
   "cell_type": "code",
   "execution_count": 86,
   "metadata": {},
   "outputs": [],
   "source": [
    "def newton(f,Df,x0,epsilon,max_iter):\n",
    "    '''Approximate solution of f(x)=0 by Newton's method.\n",
    "\n",
    "    Parameters\n",
    "    ----------\n",
    "    f : function\n",
    "        Function for which we are searching for a solution f(x)=0.\n",
    "    Df : function\n",
    "        Derivative of f(x).\n",
    "    x0 : number\n",
    "        Initial guess for a solution f(x)=0.\n",
    "    epsilon : number\n",
    "        Stopping criteria is abs(f(x)) < epsilon.\n",
    "    max_iter : integer\n",
    "        Maximum number of iterations of Newton's method.\n",
    "\n",
    "    Returns\n",
    "    -------\n",
    "    xn : number\n",
    "        Implement Newton's method: compute the linear approximation\n",
    "        of f(x) at xn and find x intercept by the formula\n",
    "            x = xn - f(xn)/Df(xn)\n",
    "        Continue until abs(f(xn)) < epsilon and return xn.\n",
    "        If Df(xn) == 0, return None. If the number of iterations\n",
    "        exceeds max_iter, then return None.\n",
    "\n",
    "    Examples\n",
    "    --------\n",
    "    >>> f = lambda x: x**2 - x - 1\n",
    "    >>> Df = lambda x: 2*x - 1\n",
    "    >>> newton(f,Df,1,1e-8,10)\n",
    "    Found solution after 5 iterations.\n",
    "    1.618033988749989\n",
    "    '''\n",
    "    xn = x0\n",
    "    for n in range(0,max_iter):\n",
    "        fxn = f(xn)\n",
    "        if abs(fxn) < epsilon:\n",
    "            print('Found solution after',n,'iterations.')\n",
    "            return xn\n",
    "        Dfxn = Df(xn)\n",
    "        if Dfxn == 0:\n",
    "            print('Zero derivative. No solution found.')\n",
    "            return None\n",
    "        xn = xn - fxn/Dfxn\n",
    "    print('Exceeded maximum iterations. No solution found.')\n",
    "    return None"
   ]
  },
  {
   "cell_type": "code",
   "execution_count": 87,
   "metadata": {},
   "outputs": [],
   "source": [
    "def _cubic(t, a, b, c, d):\n",
    "    # a(1-t)^3 + 3bt(1-t)^2 + 3ct^2(1-t) + dt^3\n",
    "    return a*(1-t)**3 + 3*b*t*(1-t)**2 + 3*c*t**2*(1-t) + d*t**3\n",
    "\n",
    "def random_cubic_params():\n",
    "    return ([random(), random(), random(), random()],\n",
    "            [random(), random(), random(), random()],\n",
    "            [random(), random(), random(), random()])\n",
    "\n",
    "def cubic_palette(n, rabcd, gabcd, babcd):\n",
    "    return [[_cubic(x/n, *rabcd),\n",
    "             _cubic(x/n, *gabcd),\n",
    "             _cubic(x/n, *babcd)] for x in range(n)]\n",
    "\n",
    "def random_cubic_palette(n):\n",
    "    return cubic_palette(n, *random_cubic_params())\n",
    "\n",
    "#def bez_cubic_curve(t, y0, y1, ax, ay, bx, by):\n",
    "#    return (_cubic(t, 0, ax, bx, 1), _cubic(t, y0, by, cy, y1))\n"
   ]
  },
  {
   "cell_type": "code",
   "execution_count": 88,
   "metadata": {},
   "outputs": [],
   "source": [
    "rcp = random_cubic_palette(50)"
   ]
  },
  {
   "cell_type": "code",
   "execution_count": 89,
   "metadata": {},
   "outputs": [
    {
     "data": {
      "application/vnd.jupyter.widget-view+json": {
       "model_id": "86b032895c414ae7b2e49e407fec4163",
       "version_major": 2,
       "version_minor": 0
      },
      "text/plain": [
       "Canvas(height=200, width=720)"
      ]
     },
     "metadata": {},
     "output_type": "display_data"
    }
   ],
   "source": [
    "show_palette(rgb2hsl(rcp))"
   ]
  },
  {
   "cell_type": "code",
   "execution_count": 90,
   "metadata": {},
   "outputs": [],
   "source": [
    "rqp = random_quadratic_palette(50)"
   ]
  },
  {
   "cell_type": "code",
   "execution_count": 91,
   "metadata": {},
   "outputs": [
    {
     "data": {
      "application/vnd.jupyter.widget-view+json": {
       "model_id": "8a647f3bd5c84901adf92f0e51123717",
       "version_major": 2,
       "version_minor": 0
      },
      "text/plain": [
       "Canvas(height=200, width=720)"
      ]
     },
     "metadata": {},
     "output_type": "display_data"
    }
   ],
   "source": [
    "show_palette(rgb2hsl(rqp))"
   ]
  },
  {
   "cell_type": "code",
   "execution_count": null,
   "metadata": {},
   "outputs": [],
   "source": []
  }
 ],
 "metadata": {
  "kernelspec": {
   "display_name": "Python 3 (ipykernel)",
   "language": "python",
   "name": "python3"
  },
  "language_info": {
   "codemirror_mode": {
    "name": "ipython",
    "version": 3
   },
   "file_extension": ".py",
   "mimetype": "text/x-python",
   "name": "python",
   "nbconvert_exporter": "python",
   "pygments_lexer": "ipython3",
   "version": "3.9.7"
  }
 },
 "nbformat": 4,
 "nbformat_minor": 4
}

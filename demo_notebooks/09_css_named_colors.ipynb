{
 "cells": [
  {
   "cell_type": "code",
   "execution_count": 1,
   "metadata": {},
   "outputs": [],
   "source": [
    "# Run some imports and define some helpers.\n",
    "%run init_notebook.py "
   ]
  },
  {
   "cell_type": "code",
   "execution_count": 2,
   "metadata": {},
   "outputs": [],
   "source": [
    "from colorways.css import * \n",
    "import colorways.masterpalette as mp\n"
   ]
  },
  {
   "cell_type": "code",
   "execution_count": 3,
   "metadata": {},
   "outputs": [
    {
     "name": "stdout",
     "output_type": "stream",
     "text": [
      "CSS defines ['gray', 'grey'] as names for #808080\n"
     ]
    },
    {
     "data": {
      "application/vnd.jupyter.widget-view+json": {
       "model_id": "26e98cbf35c14e118cee5092f283b529",
       "version_major": 2,
       "version_minor": 0
      },
      "text/plain": [
       "Canvas(height=200, width=720)"
      ]
     },
     "metadata": {},
     "output_type": "display_data"
    }
   ],
   "source": [
    "# colorways.css provides access to the colors defined by CSS color keywords.\n",
    "# \n",
    "# get_named_color(str) can be used to retrieve a color by name, hexcode, or tuple of bytes.\n",
    "#\n",
    "# The color data is returned as a simple namespace class called 'colorinfo' with the \n",
    "# following attributes: \n",
    "# \n",
    "# keyword: the preferred css keyword used by the module.\n",
    "# name: alias for keyword\n",
    "# key: alias for keyword\n",
    "# keys: a list of all the CSS keywords for this color.\n",
    "# hexcode: the color's CSS 6 digit (#RRGGBB) hexcode.\n",
    "# hex: alias for hexcode.\n",
    "# rgb8: the color's RGB byte representation as a tuple.\n",
    "# rgb: the color's rgb vec3\n",
    "# hsl: the color's hsl vec3\n",
    "# hsv: the color's hsv vec3\n",
    "# hwb: the color's hwb vec3\n",
    "# lab: the color's lab vec.\n",
    "\n",
    "\n",
    "white = get_named_color('#FFFFFF') # Get by hexcode (None returned if not a CSS named color.) \n",
    "turquoise = get_named_color('turquoise') # Get by name (None returned if not a CSS named color.)\n",
    "navajowhite = get_named_color('#FfDeAd') # Case doesn't matter.\n",
    "mediumvioletred = get_named_color('MeDiumVioLeTrEd') # Case doesn't matter.\n",
    "green = get_named_color([0,128,0])\n",
    "gray = get_named_color( (128, 128, 128) )\n",
    "\n",
    "print(f\"CSS defines {gray.keys} as names for {gray.hex}\") \n",
    "\n",
    "show_palette([white.hsl, turquoise.hsl, navajowhite.hsl, mediumvioletred.hsl, green.hsl, gray.hsl])\n",
    "\n"
   ]
  },
  {
   "cell_type": "code",
   "execution_count": 4,
   "metadata": {},
   "outputs": [
    {
     "name": "stdout",
     "output_type": "stream",
     "text": [
      "CSS defines 147 color keywords.\n",
      "CSS defines 'grey'\n",
      "CSS defines 'gray'\n",
      "CSS defines 'fuchsia'\n",
      "CSS does not define 'fuschia'\n"
     ]
    }
   ],
   "source": [
    "# You can get a list of all defined names. These are lowercased.\n",
    "names = color_names_list()\n",
    "print(f\"CSS defines {len(names)} color keywords.\")\n",
    "for name in ('grey', 'gray', 'fuchsia', 'fuschia'):\n",
    "    print(f\"CSS {'defines' if name in names else 'does not define'} '{name}'\")\n"
   ]
  },
  {
   "cell_type": "code",
   "execution_count": 5,
   "metadata": {},
   "outputs": [
    {
     "data": {
      "application/vnd.jupyter.widget-view+json": {
       "model_id": "9648350732674337906b976b8a5ba9c0",
       "version_major": 2,
       "version_minor": 0
      },
      "text/plain": [
       "Canvas(height=200, width=720)"
      ]
     },
     "metadata": {},
     "output_type": "display_data"
    }
   ],
   "source": [
    "# Get all the named colors as a palette in a specified colorspace.\n",
    "css_hsl = all_named_colors() # HSL is the default\n",
    "css_rgb = all_named_colors(get_as='rgb')\n",
    "show_multi_palette(\n",
    "    css_hsl,\n",
    "    rgb2hsl(css_rgb)\n",
    ")"
   ]
  },
  {
   "cell_type": "code",
   "execution_count": 6,
   "metadata": {},
   "outputs": [
    {
     "data": {
      "application/vnd.jupyter.widget-view+json": {
       "model_id": "59c94c61aa114dbd85757df7d346f286",
       "version_major": 2,
       "version_minor": 0
      },
      "text/plain": [
       "Canvas(height=300, width=720)"
      ]
     },
     "metadata": {},
     "output_type": "display_data"
    }
   ],
   "source": [
    "# Here are some different orderings of the palette of CSS named colors.\n",
    "\n",
    "css_mp = mp.MasterPalette(css_hsl)\n",
    "show_multi_palette(\n",
    "    css_mp.get_hsl(order='by-L'),\n",
    "    css_mp.get_hsl(order='by-luma'),\n",
    "    css_mp.get_hsl(order='by-lum'),\n",
    "    css_mp.get_hsl(order='by-val'),\n",
    "    css_mp.get_hsl(order='by-black'),\n",
    "    css_mp.get_hsl(order='by-white'),\n",
    "    css_mp.get_hsl(order='by-hue'),\n",
    "    css_mp.get_hsl(order='by-r'),\n",
    "    css_mp.get_hsl(order='by-g'),\n",
    "    css_mp.get_hsl(order='by-b'),\n",
    "    css_mp.get_hsl(order='by-lsat'),\n",
    "    css_mp.get_hsl(order='by-vsat'),\n",
    "    h=300\n",
    ")"
   ]
  },
  {
   "cell_type": "code",
   "execution_count": 7,
   "metadata": {},
   "outputs": [
    {
     "data": {
      "application/vnd.jupyter.widget-view+json": {
       "model_id": "a3ee4a5d051542e7b934d5b9b1e33d18",
       "version_major": 2,
       "version_minor": 0
      },
      "text/plain": [
       "Canvas(height=100, width=100)"
      ]
     },
     "metadata": {},
     "output_type": "display_data"
    }
   ],
   "source": [
    "# A frequent task with CSS colors is getting the closest named color to some arbitrary \n",
    "# color according to a given distance measure. \n",
    "\n",
    "show_color('#92f8af')"
   ]
  },
  {
   "cell_type": "code",
   "execution_count": 8,
   "metadata": {},
   "outputs": [
    {
     "data": {
      "application/vnd.jupyter.widget-view+json": {
       "model_id": "60b9c53d8d974a4e9d4d280c1db20658",
       "version_major": 2,
       "version_minor": 0
      },
      "text/plain": [
       "Canvas(height=200, width=720)"
      ]
     },
     "metadata": {},
     "output_type": "display_data"
    }
   ],
   "source": [
    "# You can get the closest color by creating an ordering on a MasterPalette of the named\n",
    "# colors. \n",
    "\n",
    "css_mp.create_ordering('de2000-to-92F8AF', mp.new_order_by_dist_closure('#92f8af', ciede2000)) \n",
    "show_palette(css_mp.get_hsl(order='de2000-to-92F8AF'))"
   ]
  },
  {
   "cell_type": "code",
   "execution_count": 9,
   "metadata": {},
   "outputs": [
    {
     "name": "stdout",
     "output_type": "stream",
     "text": [
      "palegreen\n"
     ]
    },
    {
     "data": {
      "application/vnd.jupyter.widget-view+json": {
       "model_id": "84ff39b84ac84e00b30f019f4cdb70df",
       "version_major": 2,
       "version_minor": 0
      },
      "text/plain": [
       "Canvas(height=200, width=720)"
      ]
     },
     "metadata": {},
     "output_type": "display_data"
    }
   ],
   "source": [
    "# The closest color will be at index 0. \n",
    "\n",
    "closest = get_named_color(css_mp.get_rgb8(order='de2000-to-92F8AF')[0])\n",
    "print(closest.name)\n",
    "show_palette([hex2hsl('#92f8af'), closest.hsl])"
   ]
  },
  {
   "cell_type": "code",
   "execution_count": 10,
   "metadata": {},
   "outputs": [
    {
     "name": "stdout",
     "output_type": "stream",
     "text": [
      "aquamarine\n"
     ]
    },
    {
     "data": {
      "application/vnd.jupyter.widget-view+json": {
       "model_id": "85e58a34bbbe447aad9f806fb2e6deb3",
       "version_major": 2,
       "version_minor": 0
      },
      "text/plain": [
       "Canvas(height=200, width=720)"
      ]
     },
     "metadata": {},
     "output_type": "display_data"
    }
   ],
   "source": [
    "# The colorways.css module provides the closest_named_color() utility function\n",
    "# to make this effortless. The default distance measure is CIE DE2000. \n",
    "\n",
    "closest = closest_named_color('#bbffcc')\n",
    "print(closest.name)\n",
    "show_palette([hex2hsl('#bbffcc'), closest.hsl])"
   ]
  },
  {
   "cell_type": "code",
   "execution_count": 11,
   "metadata": {},
   "outputs": [
    {
     "name": "stdout",
     "output_type": "stream",
     "text": [
      "seagreen\n"
     ]
    },
    {
     "data": {
      "application/vnd.jupyter.widget-view+json": {
       "model_id": "bb759cfb2eef4b24abd34e9862c0021d",
       "version_major": 2,
       "version_minor": 0
      },
      "text/plain": [
       "Canvas(height=200, width=720)"
      ]
     },
     "metadata": {},
     "output_type": "display_data"
    }
   ],
   "source": [
    "# You can provide a different function for computing distance. \n",
    "\n",
    "closest = closest_named_color('#bbffcc', fn=hsl_euclidean)\n",
    "print(closest.name)\n",
    "show_palette([hex2hsl('#bbffcc'), closest.hsl])\n"
   ]
  },
  {
   "cell_type": "code",
   "execution_count": null,
   "metadata": {},
   "outputs": [],
   "source": []
  },
  {
   "cell_type": "code",
   "execution_count": null,
   "metadata": {},
   "outputs": [],
   "source": []
  }
 ],
 "metadata": {
  "kernelspec": {
   "display_name": "Python 3 (ipykernel)",
   "language": "python",
   "name": "python3"
  },
  "language_info": {
   "codemirror_mode": {
    "name": "ipython",
    "version": 3
   },
   "file_extension": ".py",
   "mimetype": "text/x-python",
   "name": "python",
   "nbconvert_exporter": "python",
   "pygments_lexer": "ipython3",
   "version": "3.9.7"
  }
 },
 "nbformat": 4,
 "nbformat_minor": 4
}

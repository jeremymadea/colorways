{
 "cells": [
  {
   "cell_type": "code",
   "execution_count": 1,
   "id": "cbcb47f8",
   "metadata": {},
   "outputs": [],
   "source": [
    "%run 'init_notebook.py'\n",
    "from colorways.pals.select import *\n",
    "from colorways.pals.brands import *\n",
    "from colorways.pals.sports import *\n",
    "\n",
    "# The pals.* modules provide predefined palettes. Each of these is an entry in a dictionary. \n"
   ]
  },
  {
   "cell_type": "code",
   "execution_count": 3,
   "id": "97c26f0f",
   "metadata": {},
   "outputs": [
    {
     "data": {
      "application/vnd.jupyter.widget-view+json": {
       "model_id": "f1132b44fe944df383283a7e84d84729",
       "version_major": 2,
       "version_minor": 0
      },
      "text/plain": [
       "Canvas(height=200, width=720)"
      ]
     },
     "metadata": {},
     "output_type": "display_data"
    }
   ],
   "source": [
    "# The select module is currently a hodge podge of utility and brand palettes. \n",
    "# It is meant to eventually hold a selection of verified brand palettes.\n",
    "# Currently it defines around 50-100 palettes.\n",
    "# Dictionaries available in the select module:\n",
    "#\n",
    "#    'colorwheel',\n",
    "#    'tech',\n",
    "#    'service',\n",
    "#    'messaging',\n",
    "#    'social_media',\n",
    "#    'beverage',\n",
    "#    'retail',\n",
    "#    'automobile',\n",
    "#    'restaurant',\n",
    "#    'courier',\n",
    "#    'media',\n",
    "#    'whiskey',\n",
    "#    'beer',\n",
    "#    'misc', \n",
    "\n",
    "show_palette(colorwheel['hxx_degrees']) # This is an hsl palette so no conversion is necessary."
   ]
  },
  {
   "cell_type": "code",
   "execution_count": 11,
   "id": "fae9fde7",
   "metadata": {},
   "outputs": [
    {
     "data": {
      "application/vnd.jupyter.widget-view+json": {
       "model_id": "f32c887c303e417b80f2faf4109c00ea",
       "version_major": 2,
       "version_minor": 0
      },
      "text/plain": [
       "Canvas(height=200, width=720)"
      ]
     },
     "metadata": {},
     "output_type": "display_data"
    }
   ],
   "source": [
    "show_palette(rgb2hsl(beer['samuel-adams'])) # palettes for brands and sports teams and such are RGB. "
   ]
  },
  {
   "cell_type": "code",
   "execution_count": 10,
   "id": "8312c555",
   "metadata": {},
   "outputs": [
    {
     "data": {
      "application/vnd.jupyter.widget-view+json": {
       "model_id": "55915ef6f35249ffaa06828b3073b827",
       "version_major": 2,
       "version_minor": 0
      },
      "text/plain": [
       "Canvas(height=200, width=720)"
      ]
     },
     "metadata": {},
     "output_type": "display_data"
    }
   ],
   "source": [
    "show_palette(rgb2hsl(tech['google'])) "
   ]
  },
  {
   "cell_type": "code",
   "execution_count": 4,
   "id": "cbf2cebb",
   "metadata": {},
   "outputs": [
    {
     "data": {
      "application/vnd.jupyter.widget-view+json": {
       "model_id": "a69ba22ca4cb40779e59341c1ed31e80",
       "version_major": 2,
       "version_minor": 0
      },
      "text/plain": [
       "Canvas(height=200, width=720)"
      ]
     },
     "metadata": {},
     "output_type": "display_data"
    }
   ],
   "source": [
    "# The sports module contains palettes for different sports teams and organizations.\n",
    "# Currently it defines around 200-300 palettes.\n",
    "# Dictionaries available in the sports module:\n",
    "#    'orgs',\n",
    "#    'nfl', # From teamcolorcodes. More likely to be official colors.\n",
    "#    'nba', # From teamcolorcodes. More likely to be official colors.\n",
    "#    'mlb', # From teamcolorcodes. More likely to be official colors.\n",
    "#    'nhl', # From teamcolorcodes. More likely to be official colors.\n",
    "#    'nhl_past',# From teamcolorcodes. More likely to be official colors.\n",
    "#    'nfl_b', # Less preferred.\n",
    "#    'mlb_b', # Less preferred.\n",
    "#    'cfl', \n",
    "#    'xfl',\n",
    "#    'soccer',\n",
    "\n",
    "show_palette(rgb2hsl(nfl['eagles']))"
   ]
  },
  {
   "cell_type": "code",
   "execution_count": 5,
   "id": "e7b3fc48",
   "metadata": {},
   "outputs": [
    {
     "data": {
      "application/vnd.jupyter.widget-view+json": {
       "model_id": "149af5c3028a4fb0be4a79c46e781cb9",
       "version_major": 2,
       "version_minor": 0
      },
      "text/plain": [
       "Canvas(height=200, width=720)"
      ]
     },
     "metadata": {},
     "output_type": "display_data"
    }
   ],
   "source": [
    "show_palette(rgb2hsl(nba['76ers']))"
   ]
  },
  {
   "cell_type": "code",
   "execution_count": 6,
   "id": "e266b79e",
   "metadata": {},
   "outputs": [
    {
     "data": {
      "application/vnd.jupyter.widget-view+json": {
       "model_id": "866d9c4bbedd49498b1d2caaa5c833f0",
       "version_major": 2,
       "version_minor": 0
      },
      "text/plain": [
       "Canvas(height=200, width=720)"
      ]
     },
     "metadata": {},
     "output_type": "display_data"
    }
   ],
   "source": [
    "show_palette(rgb2hsl(mlb['phillies']))"
   ]
  },
  {
   "cell_type": "code",
   "execution_count": 7,
   "id": "3fce49c9",
   "metadata": {},
   "outputs": [
    {
     "data": {
      "application/vnd.jupyter.widget-view+json": {
       "model_id": "270fb1a1c8544b8b806fba4ecb114601",
       "version_major": 2,
       "version_minor": 0
      },
      "text/plain": [
       "Canvas(height=200, width=720)"
      ]
     },
     "metadata": {},
     "output_type": "display_data"
    }
   ],
   "source": [
    "show_palette(rgb2hsl(nhl['flyers']))"
   ]
  },
  {
   "cell_type": "code",
   "execution_count": 8,
   "id": "00b387de",
   "metadata": {},
   "outputs": [
    {
     "data": {
      "application/vnd.jupyter.widget-view+json": {
       "model_id": "b3896c3a5cbe443c9beef5c61b717a9c",
       "version_major": 2,
       "version_minor": 0
      },
      "text/plain": [
       "Canvas(height=200, width=720)"
      ]
     },
     "metadata": {},
     "output_type": "display_data"
    }
   ],
   "source": [
    "\n",
    "\n",
    "show_palette(rgb2hsl(beer['samuel-adams']))"
   ]
  },
  {
   "cell_type": "code",
   "execution_count": 9,
   "id": "e01d565e",
   "metadata": {},
   "outputs": [
    {
     "data": {
      "application/vnd.jupyter.widget-view+json": {
       "model_id": "52bbe78307424bdba64b89d10e721398",
       "version_major": 2,
       "version_minor": 0
      },
      "text/plain": [
       "Canvas(height=200, width=720)"
      ]
     },
     "metadata": {},
     "output_type": "display_data"
    }
   ],
   "source": [
    "show_palette(rgb2hsl(tech['google'])) "
   ]
  },
  {
   "cell_type": "code",
   "execution_count": 17,
   "id": "2e9c1a92",
   "metadata": {},
   "outputs": [
    {
     "data": {
      "application/vnd.jupyter.widget-view+json": {
       "model_id": "7e6b87483d2a49bfbf9403c96939ef29",
       "version_major": 2,
       "version_minor": 0
      },
      "text/plain": [
       "Canvas(height=200, width=720)"
      ]
     },
     "metadata": {},
     "output_type": "display_data"
    }
   ],
   "source": [
    "# The brands module is currently a dumping ground for over 1600 different brand palettes. Most are not verified. \n",
    "# Much reorganization and work is needed on this file. \n",
    "# It currently contains a single dictionary: brand_pal\n",
    "\n",
    "show_palette(rgb2hsl(brand_pal['applebees']))"
   ]
  },
  {
   "cell_type": "code",
   "execution_count": 16,
   "id": "c6727423",
   "metadata": {},
   "outputs": [
    {
     "data": {
      "application/vnd.jupyter.widget-view+json": {
       "model_id": "29f65b00bd0f4777a51e39131fac62a7",
       "version_major": 2,
       "version_minor": 0
      },
      "text/plain": [
       "Canvas(height=200, width=720)"
      ]
     },
     "metadata": {},
     "output_type": "display_data"
    }
   ],
   "source": [
    "show_palette(rgb2hsl(brand_pal['7-eleven']))"
   ]
  },
  {
   "cell_type": "code",
   "execution_count": 19,
   "id": "13d44c86",
   "metadata": {},
   "outputs": [
    {
     "data": {
      "application/vnd.jupyter.widget-view+json": {
       "model_id": "9b3820a5a1254982afd2d4ba72fd2681",
       "version_major": 2,
       "version_minor": 0
      },
      "text/plain": [
       "Canvas(height=200, width=720)"
      ]
     },
     "metadata": {},
     "output_type": "display_data"
    }
   ],
   "source": [
    "# There is still some duplication. This illustrates two palettes for Taco Bell. They aren't the same either.\n",
    "\n",
    "show_multi_palette(rgb2hsl(brand_pal['taco-bell']), rgb2hsl(restaurant['taco-bell']))"
   ]
  },
  {
   "cell_type": "code",
   "execution_count": null,
   "id": "ec7f6974",
   "metadata": {},
   "outputs": [],
   "source": []
  }
 ],
 "metadata": {
  "kernelspec": {
   "display_name": "Python 3 (ipykernel)",
   "language": "python",
   "name": "python3"
  },
  "language_info": {
   "codemirror_mode": {
    "name": "ipython",
    "version": 3
   },
   "file_extension": ".py",
   "mimetype": "text/x-python",
   "name": "python",
   "nbconvert_exporter": "python",
   "pygments_lexer": "ipython3",
   "version": "3.9.7"
  }
 },
 "nbformat": 4,
 "nbformat_minor": 5
}

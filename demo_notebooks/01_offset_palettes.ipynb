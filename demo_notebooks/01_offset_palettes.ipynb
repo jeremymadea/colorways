{
 "cells": [
  {
   "cell_type": "code",
   "execution_count": 1,
   "metadata": {},
   "outputs": [
    {
     "data": {
      "application/vnd.jupyter.widget-view+json": {
       "model_id": "034990771a544651b41b36226ec91adf",
       "version_major": 2,
       "version_minor": 0
      },
      "text/plain": [
       "HBox(children=(Dropdown(description='Mode:', options=(('HSL', 0), ('HSV', 1), ('RGB', 2)), value=0), IntSlider…"
      ]
     },
     "metadata": {},
     "output_type": "display_data"
    },
    {
     "data": {
      "application/vnd.jupyter.widget-view+json": {
       "model_id": "c71d3aed22cd45548c86b3949c47a13f",
       "version_major": 2,
       "version_minor": 0
      },
      "text/plain": [
       "HBox(children=(ColorPicker(value='#234C12', description='Base Color'), FloatSlider(value=0.5, description='Ran…"
      ]
     },
     "metadata": {},
     "output_type": "display_data"
    },
    {
     "data": {
      "application/vnd.jupyter.widget-view+json": {
       "model_id": "f7a5f5b233cd43c1bdfcc7885230a49e",
       "version_major": 2,
       "version_minor": 0
      },
      "text/plain": [
       "Button(description='Randomize', style=ButtonStyle())"
      ]
     },
     "metadata": {},
     "output_type": "display_data"
    },
    {
     "data": {
      "application/vnd.jupyter.widget-view+json": {
       "model_id": "bcfc687e4aa643fdb7da82780760c781",
       "version_major": 2,
       "version_minor": 0
      },
      "text/plain": [
       "Canvas(height=200, width=720)"
      ]
     },
     "metadata": {},
     "output_type": "display_data"
    }
   ],
   "source": [
    "%run '01_OffsetPaletteDemo.py'\n",
    "demo = OffsetPaletteDemo()\n",
    "demo.draw()"
   ]
  },
  {
   "cell_type": "code",
   "execution_count": 3,
   "metadata": {},
   "outputs": [
    {
     "name": "stdout",
     "output_type": "stream",
     "text": [
      "['#737373', '#484848', '#8D8465', '#F2EFEF', '#FCF7F7', '#B79595']\n"
     ]
    }
   ],
   "source": [
    "if demo.mode.value == 0:\n",
    "    print([hsl2hex(c) for c in demo.palette])\n",
    "elif demo.mode.value == 1:\n",
    "    print([hsl2hex(c) for c in demo.palette])\n",
    "elif demo.mode.value == 2:\n",
    "    print([rgb2hex(c) for c in demo.palette])"
   ]
  },
  {
   "cell_type": "code",
   "execution_count": null,
   "metadata": {},
   "outputs": [],
   "source": []
  }
 ],
 "metadata": {
  "kernelspec": {
   "display_name": "Python 3 (ipykernel)",
   "language": "python",
   "name": "python3"
  },
  "language_info": {
   "codemirror_mode": {
    "name": "ipython",
    "version": 3
   },
   "file_extension": ".py",
   "mimetype": "text/x-python",
   "name": "python",
   "nbconvert_exporter": "python",
   "pygments_lexer": "ipython3",
   "version": "3.9.7"
  }
 },
 "nbformat": 4,
 "nbformat_minor": 4
}

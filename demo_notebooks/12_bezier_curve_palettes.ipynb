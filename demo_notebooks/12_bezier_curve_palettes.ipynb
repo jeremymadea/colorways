{
 "cells": [
  {
   "cell_type": "code",
   "execution_count": 1,
   "id": "b5365bd6",
   "metadata": {},
   "outputs": [],
   "source": [
    "%run init_notebook.py "
   ]
  },
  {
   "cell_type": "code",
   "execution_count": 2,
   "id": "ca45c846",
   "metadata": {},
   "outputs": [],
   "source": [
    "from colorways.bezier import *"
   ]
  },
  {
   "cell_type": "code",
   "execution_count": 3,
   "id": "14fdad77",
   "metadata": {},
   "outputs": [
    {
     "data": {
      "application/vnd.jupyter.widget-view+json": {
       "model_id": "0b61178390ea4606bfe82e5094dd2d0e",
       "version_major": 2,
       "version_minor": 0
      },
      "text/plain": [
       "Canvas(height=200, width=720)"
      ]
     },
     "metadata": {},
     "output_type": "display_data"
    }
   ],
   "source": [
    "show_palette(random_quadratic_palette(8))"
   ]
  },
  {
   "cell_type": "code",
   "execution_count": 4,
   "id": "c5f2183e",
   "metadata": {},
   "outputs": [
    {
     "data": {
      "application/vnd.jupyter.widget-view+json": {
       "model_id": "34b7262afd744c06b572dd15e5104684",
       "version_major": 2,
       "version_minor": 0
      },
      "text/plain": [
       "Canvas(height=200, width=720)"
      ]
     },
     "metadata": {},
     "output_type": "display_data"
    }
   ],
   "source": [
    "show_palette(random_cubic_palette(8))"
   ]
  },
  {
   "cell_type": "code",
   "execution_count": 5,
   "id": "20f2d147",
   "metadata": {},
   "outputs": [
    {
     "data": {
      "application/vnd.jupyter.widget-view+json": {
       "model_id": "86a482f6e70d4e1aad09ba1167c843d1",
       "version_major": 2,
       "version_minor": 0
      },
      "text/plain": [
       "Canvas(height=200, width=720)"
      ]
     },
     "metadata": {},
     "output_type": "display_data"
    }
   ],
   "source": [
    "show_palette(quadratic_palette(8, [0,0,0], [.5,.5,.5], [1,1,1]))"
   ]
  },
  {
   "cell_type": "code",
   "execution_count": 6,
   "id": "c0e2db1c",
   "metadata": {},
   "outputs": [
    {
     "data": {
      "application/vnd.jupyter.widget-view+json": {
       "model_id": "d9247a408cd041c8a49fd9a2d2e5196a",
       "version_major": 2,
       "version_minor": 0
      },
      "text/plain": [
       "Canvas(height=200, width=720)"
      ]
     },
     "metadata": {},
     "output_type": "display_data"
    }
   ],
   "source": [
    "show_palette(quadratic_palette(8, [0,0,0], [.5,.1,.25], [1.0,1.0,1.0]))"
   ]
  },
  {
   "cell_type": "code",
   "execution_count": 20,
   "id": "36220eb3",
   "metadata": {},
   "outputs": [
    {
     "data": {
      "application/vnd.jupyter.widget-view+json": {
       "model_id": "97d61cf647fb4eb2866d1f5946e5babd",
       "version_major": 2,
       "version_minor": 0
      },
      "text/plain": [
       "Canvas(height=200, width=720)"
      ]
     },
     "metadata": {},
     "output_type": "display_data"
    }
   ],
   "source": [
    "show_palette(quadratic_palette(100, [0,0,0], [.5,.1,.25], [1.0,1.0,1.0]))"
   ]
  },
  {
   "cell_type": "code",
   "execution_count": 25,
   "id": "89a664dd",
   "metadata": {},
   "outputs": [
    {
     "data": {
      "application/vnd.jupyter.widget-view+json": {
       "model_id": "0611b8574ee442778f046387e24f54ab",
       "version_major": 2,
       "version_minor": 0
      },
      "text/plain": [
       "Canvas(height=200, width=720)"
      ]
     },
     "metadata": {},
     "output_type": "display_data"
    }
   ],
   "source": [
    "show_palette(cubic_palette(100, [0,0,0], [.5,-.1,.25], [.3,.5,.25], [2.0,2.0,1.0]))\n",
    "# Note that point coords don't have to be in the range [0,1]"
   ]
  },
  {
   "cell_type": "code",
   "execution_count": null,
   "id": "09041be0",
   "metadata": {},
   "outputs": [],
   "source": []
  }
 ],
 "metadata": {
  "kernelspec": {
   "display_name": "Python 3 (ipykernel)",
   "language": "python",
   "name": "python3"
  },
  "language_info": {
   "codemirror_mode": {
    "name": "ipython",
    "version": 3
   },
   "file_extension": ".py",
   "mimetype": "text/x-python",
   "name": "python",
   "nbconvert_exporter": "python",
   "pygments_lexer": "ipython3",
   "version": "3.9.7"
  }
 },
 "nbformat": 4,
 "nbformat_minor": 5
}

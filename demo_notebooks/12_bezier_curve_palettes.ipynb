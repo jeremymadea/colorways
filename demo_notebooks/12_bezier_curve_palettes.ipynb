{
 "cells": [
  {
   "cell_type": "code",
   "execution_count": 1,
   "id": "c99d0a70",
   "metadata": {},
   "outputs": [],
   "source": [
    "%run init_notebook.py "
   ]
  },
  {
   "cell_type": "code",
   "execution_count": 2,
   "id": "ef12e6d2",
   "metadata": {},
   "outputs": [],
   "source": [
    "from colorways.bezier import *"
   ]
  },
  {
   "cell_type": "code",
   "execution_count": 3,
   "id": "bb0f6b4e",
   "metadata": {},
   "outputs": [
    {
     "data": {
      "application/vnd.jupyter.widget-view+json": {
       "model_id": "45f9252f859c42659fc31f5ed36c7baa",
       "version_major": 2,
       "version_minor": 0
      },
      "text/plain": [
       "Canvas(height=200, width=720)"
      ]
     },
     "metadata": {},
     "output_type": "display_data"
    }
   ],
   "source": [
    "show_palette(random_quadratic_palette(8))"
   ]
  },
  {
   "cell_type": "code",
   "execution_count": 19,
   "id": "200faa59",
   "metadata": {},
   "outputs": [
    {
     "data": {
      "application/vnd.jupyter.widget-view+json": {
       "model_id": "6ad157241ad14cf7b6e7c70e3ba5e815",
       "version_major": 2,
       "version_minor": 0
      },
      "text/plain": [
       "Canvas(height=200, width=720)"
      ]
     },
     "metadata": {},
     "output_type": "display_data"
    }
   ],
   "source": [
    "show_palette(random_cubic_palette(8))"
   ]
  },
  {
   "cell_type": "code",
   "execution_count": 5,
   "id": "7bfe5e0c",
   "metadata": {},
   "outputs": [
    {
     "data": {
      "application/vnd.jupyter.widget-view+json": {
       "model_id": "ee04f8e14f444eab8e5b44c2f016a33c",
       "version_major": 2,
       "version_minor": 0
      },
      "text/plain": [
       "Canvas(height=200, width=720)"
      ]
     },
     "metadata": {},
     "output_type": "display_data"
    }
   ],
   "source": [
    "show_palette(quadratic_palette(8, [0,.5, 1.0], [0, .5, 1.0], [0, .5, 1.0]))"
   ]
  },
  {
   "cell_type": "code",
   "execution_count": 6,
   "id": "8183e3f4",
   "metadata": {},
   "outputs": [
    {
     "data": {
      "application/vnd.jupyter.widget-view+json": {
       "model_id": "ea9af626fdc24ed987724fcd3eefc918",
       "version_major": 2,
       "version_minor": 0
      },
      "text/plain": [
       "Canvas(height=200, width=720)"
      ]
     },
     "metadata": {},
     "output_type": "display_data"
    }
   ],
   "source": [
    "show_palette(quadratic_palette(8, [0 ,.5, 1.0], [0, .1, 1.0], [0, .25, 1.0]))"
   ]
  },
  {
   "cell_type": "code",
   "execution_count": 7,
   "id": "23f88377",
   "metadata": {},
   "outputs": [
    {
     "data": {
      "application/vnd.jupyter.widget-view+json": {
       "model_id": "178aaca2a269422b9cd381bca5b597e0",
       "version_major": 2,
       "version_minor": 0
      },
      "text/plain": [
       "Canvas(height=200, width=720)"
      ]
     },
     "metadata": {},
     "output_type": "display_data"
    }
   ],
   "source": [
    "show_palette(quadratic_palette(100, [0 ,.5, 1.0], [0, .1, 1.0], [0, .25, 1.0]))"
   ]
  },
  {
   "cell_type": "code",
   "execution_count": null,
   "id": "57f53f72",
   "metadata": {},
   "outputs": [],
   "source": []
  }
 ],
 "metadata": {
  "kernelspec": {
   "display_name": "Python 3 (ipykernel)",
   "language": "python",
   "name": "python3"
  },
  "language_info": {
   "codemirror_mode": {
    "name": "ipython",
    "version": 3
   },
   "file_extension": ".py",
   "mimetype": "text/x-python",
   "name": "python",
   "nbconvert_exporter": "python",
   "pygments_lexer": "ipython3",
   "version": "3.9.7"
  }
 },
 "nbformat": 4,
 "nbformat_minor": 5
}

{
 "cells": [
  {
   "cell_type": "code",
   "execution_count": 13,
   "id": "3c976906",
   "metadata": {
    "scrolled": true
   },
   "outputs": [
    {
     "data": {
      "application/vnd.jupyter.widget-view+json": {
       "model_id": "0d9e95ef6fe143a883527f588ccda2c5",
       "version_major": 2,
       "version_minor": 0
      },
      "text/plain": [
       "HBox(children=(IntSlider(value=2, description='Base Colors', max=4, min=1), Dropdown(description='Mode:', opti…"
      ]
     },
     "metadata": {},
     "output_type": "display_data"
    },
    {
     "data": {
      "application/vnd.jupyter.widget-view+json": {
       "model_id": "dbbe6c640d2f458caadc9294317ff9f9",
       "version_major": 2,
       "version_minor": 0
      },
      "text/plain": [
       "VBox(children=(HBox(children=(ColorPicker(value='#BDF9C2', description='Color 0'),), layout=Layout(visibility=…"
      ]
     },
     "metadata": {},
     "output_type": "display_data"
    },
    {
     "data": {
      "application/vnd.jupyter.widget-view+json": {
       "model_id": "ae7a74da96314cb7906b0272106dda73",
       "version_major": 2,
       "version_minor": 0
      },
      "text/plain": [
       "Canvas(height=200, width=720)"
      ]
     },
     "metadata": {},
     "output_type": "display_data"
    }
   ],
   "source": [
    "%run 'init_notebook.py'\n",
    "%run '13_PermsPaletteDemo.py'\n",
    "demo = PermsPaletteDemo()\n",
    "demo.draw()"
   ]
  },
  {
   "cell_type": "code",
   "execution_count": 15,
   "id": "016767f9",
   "metadata": {},
   "outputs": [
    {
     "name": "stdout",
     "output_type": "stream",
     "text": [
      "64\n"
     ]
    },
    {
     "data": {
      "text/plain": [
       "[[0.7411764705882353, 0.9764705882352941, 0.7607843137254902],\n",
       " [0.7411764705882353, 0.9764705882352941, 0.8823529411764706],\n",
       " [0.7411764705882353, 0.9764705882352941, 0.42745098039215684],\n",
       " [0.7411764705882353, 0.9764705882352941, 0.0],\n",
       " [0.7411764705882353, 0.7411764705882353, 0.7607843137254902],\n",
       " [0.7411764705882353, 0.7411764705882353, 0.8823529411764706],\n",
       " [0.7411764705882353, 0.7411764705882353, 0.42745098039215684],\n",
       " [0.7411764705882353, 0.7411764705882353, 0.0],\n",
       " [0.7411764705882353, 0.4588235294117647, 0.7607843137254902],\n",
       " [0.7411764705882353, 0.4588235294117647, 0.8823529411764706],\n",
       " [0.7411764705882353, 0.4588235294117647, 0.42745098039215684],\n",
       " [0.7411764705882353, 0.4588235294117647, 0.0],\n",
       " [0.7411764705882353, 0.14901960784313725, 0.7607843137254902],\n",
       " [0.7411764705882353, 0.14901960784313725, 0.8823529411764706],\n",
       " [0.7411764705882353, 0.14901960784313725, 0.42745098039215684],\n",
       " [0.7411764705882353, 0.14901960784313725, 0.0],\n",
       " [0.03529411764705882, 0.9764705882352941, 0.7607843137254902],\n",
       " [0.03529411764705882, 0.9764705882352941, 0.8823529411764706],\n",
       " [0.03529411764705882, 0.9764705882352941, 0.42745098039215684],\n",
       " [0.03529411764705882, 0.9764705882352941, 0.0],\n",
       " [0.03529411764705882, 0.7411764705882353, 0.7607843137254902],\n",
       " [0.03529411764705882, 0.7411764705882353, 0.8823529411764706],\n",
       " [0.03529411764705882, 0.7411764705882353, 0.42745098039215684],\n",
       " [0.03529411764705882, 0.7411764705882353, 0.0],\n",
       " [0.03529411764705882, 0.4588235294117647, 0.7607843137254902],\n",
       " [0.03529411764705882, 0.4588235294117647, 0.8823529411764706],\n",
       " [0.03529411764705882, 0.4588235294117647, 0.42745098039215684],\n",
       " [0.03529411764705882, 0.4588235294117647, 0.0],\n",
       " [0.03529411764705882, 0.14901960784313725, 0.7607843137254902],\n",
       " [0.03529411764705882, 0.14901960784313725, 0.8823529411764706],\n",
       " [0.03529411764705882, 0.14901960784313725, 0.42745098039215684],\n",
       " [0.03529411764705882, 0.14901960784313725, 0.0],\n",
       " [0.4, 0.9764705882352941, 0.7607843137254902],\n",
       " [0.4, 0.9764705882352941, 0.8823529411764706],\n",
       " [0.4, 0.9764705882352941, 0.42745098039215684],\n",
       " [0.4, 0.9764705882352941, 0.0],\n",
       " [0.4, 0.7411764705882353, 0.7607843137254902],\n",
       " [0.4, 0.7411764705882353, 0.8823529411764706],\n",
       " [0.4, 0.7411764705882353, 0.42745098039215684],\n",
       " [0.4, 0.7411764705882353, 0.0],\n",
       " [0.4, 0.4588235294117647, 0.7607843137254902],\n",
       " [0.4, 0.4588235294117647, 0.8823529411764706],\n",
       " [0.4, 0.4588235294117647, 0.42745098039215684],\n",
       " [0.4, 0.4588235294117647, 0.0],\n",
       " [0.4, 0.14901960784313725, 0.7607843137254902],\n",
       " [0.4, 0.14901960784313725, 0.8823529411764706],\n",
       " [0.4, 0.14901960784313725, 0.42745098039215684],\n",
       " [0.4, 0.14901960784313725, 0.0],\n",
       " [1.0, 0.9764705882352941, 0.7607843137254902],\n",
       " [1.0, 0.9764705882352941, 0.8823529411764706],\n",
       " [1.0, 0.9764705882352941, 0.42745098039215684],\n",
       " [1.0, 0.9764705882352941, 0.0],\n",
       " [1.0, 0.7411764705882353, 0.7607843137254902],\n",
       " [1.0, 0.7411764705882353, 0.8823529411764706],\n",
       " [1.0, 0.7411764705882353, 0.42745098039215684],\n",
       " [1.0, 0.7411764705882353, 0.0],\n",
       " [1.0, 0.4588235294117647, 0.7607843137254902],\n",
       " [1.0, 0.4588235294117647, 0.8823529411764706],\n",
       " [1.0, 0.4588235294117647, 0.42745098039215684],\n",
       " [1.0, 0.4588235294117647, 0.0],\n",
       " [1.0, 0.14901960784313725, 0.7607843137254902],\n",
       " [1.0, 0.14901960784313725, 0.8823529411764706],\n",
       " [1.0, 0.14901960784313725, 0.42745098039215684],\n",
       " [1.0, 0.14901960784313725, 0.0]]"
      ]
     },
     "execution_count": 15,
     "metadata": {},
     "output_type": "execute_result"
    }
   ],
   "source": [
    "print(len(demo.palette))\n",
    "demo.palette"
   ]
  },
  {
   "cell_type": "code",
   "execution_count": 3,
   "id": "7c03e657",
   "metadata": {},
   "outputs": [
    {
     "data": {
      "application/vnd.jupyter.widget-view+json": {
       "model_id": "589a5f340f5b43f4ab84b5de5c7ef948",
       "version_major": 2,
       "version_minor": 0
      },
      "text/plain": [
       "Canvas(height=200, width=720)"
      ]
     },
     "metadata": {},
     "output_type": "display_data"
    }
   ],
   "source": [
    "basepal = random_uniform_palette(3)\n",
    "show_palette(basepal)"
   ]
  },
  {
   "cell_type": "code",
   "execution_count": 4,
   "id": "f37bb98f",
   "metadata": {},
   "outputs": [
    {
     "data": {
      "application/vnd.jupyter.widget-view+json": {
       "model_id": "0bc9bcbcc6034149956d9ef78504b687",
       "version_major": 2,
       "version_minor": 0
      },
      "text/plain": [
       "Canvas(height=200, width=720)"
      ]
     },
     "metadata": {},
     "output_type": "display_data"
    }
   ],
   "source": [
    "ppal = perms_palette(basepal)\n",
    "show_palette(sort_palette_by_l(ppal))"
   ]
  },
  {
   "cell_type": "code",
   "execution_count": 5,
   "id": "ca75c707",
   "metadata": {},
   "outputs": [
    {
     "data": {
      "application/vnd.jupyter.widget-view+json": {
       "model_id": "54a61d0d09f5445a8f55d57d69b16dc0",
       "version_major": 2,
       "version_minor": 0
      },
      "text/plain": [
       "Canvas(height=200, width=720)"
      ]
     },
     "metadata": {},
     "output_type": "display_data"
    }
   ],
   "source": [
    "show_palette(sort_palette_by_s(rgb2hsl(perms_palette([[0,0,0],[1,1,1]]))))"
   ]
  },
  {
   "cell_type": "code",
   "execution_count": 6,
   "id": "8055aaf0",
   "metadata": {},
   "outputs": [],
   "source": [
    "basepal = [[1,.5,.25]]"
   ]
  },
  {
   "cell_type": "code",
   "execution_count": 7,
   "id": "0cfe060a",
   "metadata": {},
   "outputs": [],
   "source": [
    "px = combo_palette(basepal)"
   ]
  },
  {
   "cell_type": "code",
   "execution_count": 8,
   "id": "15b11565",
   "metadata": {},
   "outputs": [
    {
     "data": {
      "application/vnd.jupyter.widget-view+json": {
       "model_id": "ace8930d00774422b6ca3db63e9efbab",
       "version_major": 2,
       "version_minor": 0
      },
      "text/plain": [
       "Canvas(height=200, width=720)"
      ]
     },
     "metadata": {},
     "output_type": "display_data"
    }
   ],
   "source": [
    "show_palette(rgb2hsl(px))"
   ]
  },
  {
   "cell_type": "code",
   "execution_count": 9,
   "id": "00d1943c",
   "metadata": {},
   "outputs": [
    {
     "data": {
      "text/plain": [
       "[[1, 1, 1],\n",
       " [1, 1, 0.5],\n",
       " [1, 1, 0.25],\n",
       " [1, 0.5, 1],\n",
       " [1, 0.5, 0.5],\n",
       " [1, 0.5, 0.25],\n",
       " [1, 0.25, 1],\n",
       " [1, 0.25, 0.5],\n",
       " [1, 0.25, 0.25],\n",
       " [0.5, 1, 1],\n",
       " [0.5, 1, 0.5],\n",
       " [0.5, 1, 0.25],\n",
       " [0.5, 0.5, 1],\n",
       " [0.5, 0.5, 0.5],\n",
       " [0.5, 0.5, 0.25],\n",
       " [0.5, 0.25, 1],\n",
       " [0.5, 0.25, 0.5],\n",
       " [0.5, 0.25, 0.25],\n",
       " [0.25, 1, 1],\n",
       " [0.25, 1, 0.5],\n",
       " [0.25, 1, 0.25],\n",
       " [0.25, 0.5, 1],\n",
       " [0.25, 0.5, 0.5],\n",
       " [0.25, 0.5, 0.25],\n",
       " [0.25, 0.25, 1],\n",
       " [0.25, 0.25, 0.5],\n",
       " [0.25, 0.25, 0.25]]"
      ]
     },
     "execution_count": 9,
     "metadata": {},
     "output_type": "execute_result"
    }
   ],
   "source": [
    "px"
   ]
  },
  {
   "cell_type": "code",
   "execution_count": 10,
   "id": "e3fe4467",
   "metadata": {},
   "outputs": [
    {
     "data": {
      "text/plain": [
       "27"
      ]
     },
     "execution_count": 10,
     "metadata": {},
     "output_type": "execute_result"
    }
   ],
   "source": [
    "len(px)"
   ]
  },
  {
   "cell_type": "code",
   "execution_count": 11,
   "id": "b083bcdd",
   "metadata": {},
   "outputs": [],
   "source": [
    "px = combo_palette([[0,.125,.25],[.5,.625,.75]])"
   ]
  },
  {
   "cell_type": "code",
   "execution_count": 12,
   "id": "1294eb3e",
   "metadata": {},
   "outputs": [
    {
     "data": {
      "application/vnd.jupyter.widget-view+json": {
       "model_id": "bf9ba535b3ff462290212ab89d6033f8",
       "version_major": 2,
       "version_minor": 0
      },
      "text/plain": [
       "Canvas(height=200, width=720)"
      ]
     },
     "metadata": {},
     "output_type": "display_data"
    }
   ],
   "source": [
    "show_palette(sort_palette_by_l(px))"
   ]
  },
  {
   "cell_type": "code",
   "execution_count": 19,
   "id": "0ce3a6fa",
   "metadata": {},
   "outputs": [
    {
     "data": {
      "application/vnd.jupyter.widget-view+json": {
       "model_id": "7013d1b789134d1e9785ea7529921dc8",
       "version_major": 2,
       "version_minor": 0
      },
      "text/plain": [
       "Canvas(height=200, width=720)"
      ]
     },
     "metadata": {},
     "output_type": "display_data"
    }
   ],
   "source": [
    "show_palette(sort_palette_by_l(rgb2hsl(px))) # RGB"
   ]
  },
  {
   "cell_type": "code",
   "execution_count": null,
   "id": "2c9ef1c8",
   "metadata": {},
   "outputs": [],
   "source": []
  }
 ],
 "metadata": {
  "kernelspec": {
   "display_name": "Python 3 (ipykernel)",
   "language": "python",
   "name": "python3"
  },
  "language_info": {
   "codemirror_mode": {
    "name": "ipython",
    "version": 3
   },
   "file_extension": ".py",
   "mimetype": "text/x-python",
   "name": "python",
   "nbconvert_exporter": "python",
   "pygments_lexer": "ipython3",
   "version": "3.9.7"
  }
 },
 "nbformat": 4,
 "nbformat_minor": 5
}

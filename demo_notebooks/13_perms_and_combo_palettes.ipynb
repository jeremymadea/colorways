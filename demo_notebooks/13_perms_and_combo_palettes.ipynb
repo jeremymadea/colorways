{
 "cells": [
  {
   "cell_type": "code",
   "execution_count": 40,
   "id": "3c976906",
   "metadata": {
    "scrolled": false
   },
   "outputs": [
    {
     "data": {
      "application/vnd.jupyter.widget-view+json": {
       "model_id": "58221803d03f42989cfa588657dd62a5",
       "version_major": 2,
       "version_minor": 0
      },
      "text/plain": [
       "HBox(children=(IntSlider(value=2, description='Base Colors', max=4, min=1), Dropdown(description='Mode:', opti…"
      ]
     },
     "metadata": {},
     "output_type": "display_data"
    },
    {
     "data": {
      "application/vnd.jupyter.widget-view+json": {
       "model_id": "4e4f702acf5e4867bcc4667dcdd25c72",
       "version_major": 2,
       "version_minor": 0
      },
      "text/plain": [
       "VBox(children=(HBox(children=(ColorPicker(value='#15C4CF', description='Color 0'),), layout=Layout(visibility=…"
      ]
     },
     "metadata": {},
     "output_type": "display_data"
    },
    {
     "data": {
      "application/vnd.jupyter.widget-view+json": {
       "model_id": "615fb0d5df77415982690a5ccbe671a7",
       "version_major": 2,
       "version_minor": 0
      },
      "text/plain": [
       "Canvas(height=200, width=720)"
      ]
     },
     "metadata": {},
     "output_type": "display_data"
    }
   ],
   "source": [
    "%run 'init_notebook.py'\n",
    "%run '13_PermsPaletteDemo.py'\n",
    "demo = PermsPaletteDemo()\n",
    "demo.draw()\n"
   ]
  },
  {
   "cell_type": "code",
   "execution_count": 46,
   "id": "016767f9",
   "metadata": {},
   "outputs": [
    {
     "name": "stdout",
     "output_type": "stream",
     "text": [
      "27\n"
     ]
    },
    {
     "data": {
      "application/vnd.jupyter.widget-view+json": {
       "model_id": "11bdaee6461348f098197f8f6697370e",
       "version_major": 2,
       "version_minor": 0
      },
      "text/plain": [
       "Canvas(height=200, width=720)"
      ]
     },
     "metadata": {},
     "output_type": "display_data"
    }
   ],
   "source": [
    "print(len(demo.palette))\n",
    "#show_palette(demo.palette)\n",
    "show_palette(sort_palette_by_l(demo.palette))"
   ]
  },
  {
   "cell_type": "code",
   "execution_count": 23,
   "id": "7c03e657",
   "metadata": {},
   "outputs": [
    {
     "data": {
      "application/vnd.jupyter.widget-view+json": {
       "model_id": "120cc81f54b146988fa0f1f5fab21cdc",
       "version_major": 2,
       "version_minor": 0
      },
      "text/plain": [
       "Canvas(height=200, width=720)"
      ]
     },
     "metadata": {},
     "output_type": "display_data"
    }
   ],
   "source": [
    "basepal = random_uniform_palette(3)\n",
    "show_palette(basepal)"
   ]
  },
  {
   "cell_type": "code",
   "execution_count": 24,
   "id": "f37bb98f",
   "metadata": {},
   "outputs": [
    {
     "data": {
      "application/vnd.jupyter.widget-view+json": {
       "model_id": "f03f599074b347c2a5b205b16a6bdba4",
       "version_major": 2,
       "version_minor": 0
      },
      "text/plain": [
       "Canvas(height=200, width=720)"
      ]
     },
     "metadata": {},
     "output_type": "display_data"
    }
   ],
   "source": [
    "ppal = perms_palette(basepal)\n",
    "show_palette(sort_palette_by_l(ppal))"
   ]
  },
  {
   "cell_type": "code",
   "execution_count": 25,
   "id": "ca75c707",
   "metadata": {},
   "outputs": [
    {
     "data": {
      "application/vnd.jupyter.widget-view+json": {
       "model_id": "ad561a648dcc43508802920faee63851",
       "version_major": 2,
       "version_minor": 0
      },
      "text/plain": [
       "Canvas(height=200, width=720)"
      ]
     },
     "metadata": {},
     "output_type": "display_data"
    }
   ],
   "source": [
    "show_palette(sort_palette_by_s(rgb2hsl(perms_palette([[0,0,0],[1,1,1]]))))"
   ]
  },
  {
   "cell_type": "code",
   "execution_count": 26,
   "id": "8055aaf0",
   "metadata": {},
   "outputs": [],
   "source": [
    "basepal = [[1,.5,.25]]"
   ]
  },
  {
   "cell_type": "code",
   "execution_count": 27,
   "id": "0cfe060a",
   "metadata": {},
   "outputs": [],
   "source": [
    "px = combo_palette(basepal)"
   ]
  },
  {
   "cell_type": "code",
   "execution_count": 28,
   "id": "15b11565",
   "metadata": {},
   "outputs": [
    {
     "data": {
      "application/vnd.jupyter.widget-view+json": {
       "model_id": "4176dd7a93004be4af35ee10751134a7",
       "version_major": 2,
       "version_minor": 0
      },
      "text/plain": [
       "Canvas(height=200, width=720)"
      ]
     },
     "metadata": {},
     "output_type": "display_data"
    }
   ],
   "source": [
    "show_palette(rgb2hsl(px))"
   ]
  },
  {
   "cell_type": "code",
   "execution_count": 29,
   "id": "00d1943c",
   "metadata": {},
   "outputs": [
    {
     "data": {
      "text/plain": [
       "[[1, 1, 1],\n",
       " [1, 1, 0.5],\n",
       " [1, 1, 0.25],\n",
       " [1, 0.5, 1],\n",
       " [1, 0.5, 0.5],\n",
       " [1, 0.5, 0.25],\n",
       " [1, 0.25, 1],\n",
       " [1, 0.25, 0.5],\n",
       " [1, 0.25, 0.25],\n",
       " [0.5, 1, 1],\n",
       " [0.5, 1, 0.5],\n",
       " [0.5, 1, 0.25],\n",
       " [0.5, 0.5, 1],\n",
       " [0.5, 0.5, 0.5],\n",
       " [0.5, 0.5, 0.25],\n",
       " [0.5, 0.25, 1],\n",
       " [0.5, 0.25, 0.5],\n",
       " [0.5, 0.25, 0.25],\n",
       " [0.25, 1, 1],\n",
       " [0.25, 1, 0.5],\n",
       " [0.25, 1, 0.25],\n",
       " [0.25, 0.5, 1],\n",
       " [0.25, 0.5, 0.5],\n",
       " [0.25, 0.5, 0.25],\n",
       " [0.25, 0.25, 1],\n",
       " [0.25, 0.25, 0.5],\n",
       " [0.25, 0.25, 0.25]]"
      ]
     },
     "execution_count": 29,
     "metadata": {},
     "output_type": "execute_result"
    }
   ],
   "source": [
    "px"
   ]
  },
  {
   "cell_type": "code",
   "execution_count": 30,
   "id": "e3fe4467",
   "metadata": {},
   "outputs": [
    {
     "data": {
      "text/plain": [
       "27"
      ]
     },
     "execution_count": 30,
     "metadata": {},
     "output_type": "execute_result"
    }
   ],
   "source": [
    "len(px)"
   ]
  },
  {
   "cell_type": "code",
   "execution_count": 31,
   "id": "b083bcdd",
   "metadata": {},
   "outputs": [],
   "source": [
    "px = combo_palette([[0,.125,.25],[.5,.625,.75]])"
   ]
  },
  {
   "cell_type": "code",
   "execution_count": 32,
   "id": "1294eb3e",
   "metadata": {},
   "outputs": [
    {
     "data": {
      "application/vnd.jupyter.widget-view+json": {
       "model_id": "38d7d76cfe394f4b9ef1c8992a11d4ee",
       "version_major": 2,
       "version_minor": 0
      },
      "text/plain": [
       "Canvas(height=200, width=720)"
      ]
     },
     "metadata": {},
     "output_type": "display_data"
    }
   ],
   "source": [
    "show_palette(sort_palette_by_l(px))"
   ]
  },
  {
   "cell_type": "code",
   "execution_count": 33,
   "id": "0ce3a6fa",
   "metadata": {},
   "outputs": [
    {
     "data": {
      "application/vnd.jupyter.widget-view+json": {
       "model_id": "08b8462f14fc4745baef86d67c43a968",
       "version_major": 2,
       "version_minor": 0
      },
      "text/plain": [
       "Canvas(height=200, width=720)"
      ]
     },
     "metadata": {},
     "output_type": "display_data"
    }
   ],
   "source": [
    "show_palette(sort_palette_by_l(rgb2hsl(px))) # RGB"
   ]
  },
  {
   "cell_type": "code",
   "execution_count": 53,
   "id": "2c9ef1c8",
   "metadata": {},
   "outputs": [
    {
     "data": {
      "application/vnd.jupyter.widget-view+json": {
       "model_id": "79e41e7e23494b3aa41e4768c319bb92",
       "version_major": 2,
       "version_minor": 0
      },
      "text/plain": [
       "Canvas(height=200, width=720)"
      ]
     },
     "metadata": {},
     "output_type": "display_data"
    }
   ],
   "source": [
    "show_palette(rgb2hsl(combo_palette([[0,.3,.7],[.1,.4,.9]])))"
   ]
  },
  {
   "cell_type": "code",
   "execution_count": null,
   "id": "77d05a18",
   "metadata": {},
   "outputs": [],
   "source": []
  }
 ],
 "metadata": {
  "kernelspec": {
   "display_name": "Python 3 (ipykernel)",
   "language": "python",
   "name": "python3"
  },
  "language_info": {
   "codemirror_mode": {
    "name": "ipython",
    "version": 3
   },
   "file_extension": ".py",
   "mimetype": "text/x-python",
   "name": "python",
   "nbconvert_exporter": "python",
   "pygments_lexer": "ipython3",
   "version": "3.9.7"
  }
 },
 "nbformat": 4,
 "nbformat_minor": 5
}

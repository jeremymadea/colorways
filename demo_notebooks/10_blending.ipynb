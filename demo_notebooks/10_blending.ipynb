{
 "cells": [
  {
   "cell_type": "code",
   "execution_count": 1,
   "id": "bb1809c9",
   "metadata": {},
   "outputs": [],
   "source": [
    "%run 'init_notebook.py'"
   ]
  },
  {
   "cell_type": "code",
   "execution_count": 2,
   "id": "9836fc53",
   "metadata": {},
   "outputs": [],
   "source": [
    "from colorways.blend import *"
   ]
  },
  {
   "cell_type": "code",
   "execution_count": 3,
   "id": "219aeeb8",
   "metadata": {},
   "outputs": [],
   "source": [
    "rgb_red = hex2rgb('#ff0000')\n",
    "rgb_grn = hex2rgb('#00ff00')\n",
    "rgb_blu = hex2rgb('#0000ff')\n",
    "rgb_blk = hex2rgb('#000000')\n",
    "rgb_wht = hex2rgb('fffffff')\n",
    "rgb_tst = [hex2rgb(a) for a in ['#D05F8B', '#D0BF5F', '#5FD06A', '#5F63D0', '#D05FB8', '#D0935F', '#80D05F']]"
   ]
  },
  {
   "cell_type": "code",
   "execution_count": 4,
   "id": "45ba6689",
   "metadata": {},
   "outputs": [
    {
     "data": {
      "application/vnd.jupyter.widget-view+json": {
       "model_id": "d18774518f0f44a5bb760869b3e1e1e2",
       "version_major": 2,
       "version_minor": 0
      },
      "text/plain": [
       "Canvas(height=100, width=100)"
      ]
     },
     "metadata": {},
     "output_type": "display_data"
    }
   ],
   "source": [
    "show_rgb(rgb_tst[0]) # base color"
   ]
  },
  {
   "cell_type": "code",
   "execution_count": 5,
   "id": "68fe347d",
   "metadata": {},
   "outputs": [
    {
     "data": {
      "application/vnd.jupyter.widget-view+json": {
       "model_id": "4af51186cb88492b83101af723837cf8",
       "version_major": 2,
       "version_minor": 0
      },
      "text/plain": [
       "Canvas(height=100, width=100)"
      ]
     },
     "metadata": {},
     "output_type": "display_data"
    }
   ],
   "source": [
    "show_rgb(rgb_tst[1]) # blend color"
   ]
  },
  {
   "cell_type": "code",
   "execution_count": 6,
   "id": "6e466462",
   "metadata": {},
   "outputs": [
    {
     "data": {
      "application/vnd.jupyter.widget-view+json": {
       "model_id": "8eff1af368354ffdad5ed17cd92f161a",
       "version_major": 2,
       "version_minor": 0
      },
      "text/plain": [
       "Canvas(height=100, width=100)"
      ]
     },
     "metadata": {},
     "output_type": "display_data"
    }
   ],
   "source": [
    "show_rgb(blend_screen(rgb_tst[0], rgb_tst[1]))"
   ]
  },
  {
   "cell_type": "code",
   "execution_count": 7,
   "id": "ae4a6a48",
   "metadata": {},
   "outputs": [
    {
     "data": {
      "application/vnd.jupyter.widget-view+json": {
       "model_id": "ecc287ed6f30494baf3d9d0b5c9b448f",
       "version_major": 2,
       "version_minor": 0
      },
      "text/plain": [
       "Canvas(height=100, width=100)"
      ]
     },
     "metadata": {},
     "output_type": "display_data"
    }
   ],
   "source": [
    "show_rgb(blend_overlay(rgb_tst[0], rgb_tst[1]))"
   ]
  },
  {
   "cell_type": "code",
   "execution_count": 8,
   "id": "781e678c",
   "metadata": {},
   "outputs": [
    {
     "data": {
      "application/vnd.jupyter.widget-view+json": {
       "model_id": "aee8523e14384c89bcb5c87d9b20dc66",
       "version_major": 2,
       "version_minor": 0
      },
      "text/plain": [
       "Canvas(height=100, width=100)"
      ]
     },
     "metadata": {},
     "output_type": "display_data"
    }
   ],
   "source": [
    "show_rgb(blend_softlight(rgb_tst[0], rgb_tst[1]))"
   ]
  },
  {
   "cell_type": "code",
   "execution_count": 9,
   "id": "2a110e50",
   "metadata": {},
   "outputs": [
    {
     "data": {
      "application/vnd.jupyter.widget-view+json": {
       "model_id": "b778b25c0d8b40bca8e89920e258d02e",
       "version_major": 2,
       "version_minor": 0
      },
      "text/plain": [
       "Canvas(height=100, width=100)"
      ]
     },
     "metadata": {},
     "output_type": "display_data"
    }
   ],
   "source": [
    "show_rgb(blend_softlight_ps(rgb_tst[0], rgb_tst[1]))"
   ]
  },
  {
   "cell_type": "code",
   "execution_count": 10,
   "id": "300b5c85",
   "metadata": {},
   "outputs": [
    {
     "data": {
      "application/vnd.jupyter.widget-view+json": {
       "model_id": "c055403f70be4fb28f0e9d1cd2edc38c",
       "version_major": 2,
       "version_minor": 0
      },
      "text/plain": [
       "Canvas(height=100, width=100)"
      ]
     },
     "metadata": {},
     "output_type": "display_data"
    }
   ],
   "source": [
    "show_rgb(blend_softlight_ill(rgb_tst[0], rgb_tst[1]))"
   ]
  },
  {
   "cell_type": "code",
   "execution_count": 11,
   "id": "91f31d57",
   "metadata": {},
   "outputs": [
    {
     "data": {
      "application/vnd.jupyter.widget-view+json": {
       "model_id": "15d36276eda64800a4187b87d608d248",
       "version_major": 2,
       "version_minor": 0
      },
      "text/plain": [
       "Canvas(height=100, width=100)"
      ]
     },
     "metadata": {},
     "output_type": "display_data"
    }
   ],
   "source": [
    "show_rgb(blend_softlight_peg(rgb_tst[0], rgb_tst[1]))"
   ]
  },
  {
   "cell_type": "code",
   "execution_count": 12,
   "id": "0a68ae3f",
   "metadata": {},
   "outputs": [
    {
     "data": {
      "application/vnd.jupyter.widget-view+json": {
       "model_id": "00d8357361d64d8ab48df1c25586e463",
       "version_major": 2,
       "version_minor": 0
      },
      "text/plain": [
       "Canvas(height=100, width=100)"
      ]
     },
     "metadata": {},
     "output_type": "display_data"
    }
   ],
   "source": [
    "show_rgb(blend_divide(rgb_tst[0], rgb_tst[1]))"
   ]
  },
  {
   "cell_type": "code",
   "execution_count": 13,
   "id": "118924dd",
   "metadata": {},
   "outputs": [
    {
     "data": {
      "application/vnd.jupyter.widget-view+json": {
       "model_id": "6eafafe1cc984637a0732404e640e01d",
       "version_major": 2,
       "version_minor": 0
      },
      "text/plain": [
       "Canvas(height=100, width=100)"
      ]
     },
     "metadata": {},
     "output_type": "display_data"
    }
   ],
   "source": [
    "show_rgb(blend_lighten(rgb_tst[0], rgb_tst[1]))"
   ]
  },
  {
   "cell_type": "code",
   "execution_count": 14,
   "id": "2e63f928",
   "metadata": {},
   "outputs": [
    {
     "data": {
      "application/vnd.jupyter.widget-view+json": {
       "model_id": "401104eb5daf49c8b57be215c2e338a7",
       "version_major": 2,
       "version_minor": 0
      },
      "text/plain": [
       "Canvas(height=100, width=100)"
      ]
     },
     "metadata": {},
     "output_type": "display_data"
    }
   ],
   "source": [
    "show_rgb(blend_darken(rgb_tst[0], rgb_tst[1]))"
   ]
  },
  {
   "cell_type": "code",
   "execution_count": 15,
   "id": "9f6d67b0",
   "metadata": {},
   "outputs": [
    {
     "data": {
      "application/vnd.jupyter.widget-view+json": {
       "model_id": "2c079a06d7474d529ace39c3ebe61812",
       "version_major": 2,
       "version_minor": 0
      },
      "text/plain": [
       "Canvas(height=100, width=100)"
      ]
     },
     "metadata": {},
     "output_type": "display_data"
    }
   ],
   "source": [
    "show_rgb(blend_difference(rgb_tst[0], rgb_tst[1]))"
   ]
  },
  {
   "cell_type": "code",
   "execution_count": 16,
   "id": "ec3095be",
   "metadata": {},
   "outputs": [
    {
     "data": {
      "application/vnd.jupyter.widget-view+json": {
       "model_id": "0781c65646e14ce286c32c591250273f",
       "version_major": 2,
       "version_minor": 0
      },
      "text/plain": [
       "Canvas(height=100, width=100)"
      ]
     },
     "metadata": {},
     "output_type": "display_data"
    }
   ],
   "source": [
    "show_rgb(blend_subtract(rgb_tst[1], rgb_tst[0])) # flipping base/blend colors for this one."
   ]
  },
  {
   "cell_type": "code",
   "execution_count": 17,
   "id": "cf5c7b12",
   "metadata": {},
   "outputs": [
    {
     "data": {
      "application/vnd.jupyter.widget-view+json": {
       "model_id": "83fceb62fc4d4f5aabd7913c22f015bb",
       "version_major": 2,
       "version_minor": 0
      },
      "text/plain": [
       "Canvas(height=100, width=100)"
      ]
     },
     "metadata": {},
     "output_type": "display_data"
    }
   ],
   "source": [
    "show_rgb(blend_plus_darker(rgb_tst[0], rgb_tst[1]))"
   ]
  },
  {
   "cell_type": "code",
   "execution_count": 18,
   "id": "1462b4de",
   "metadata": {},
   "outputs": [
    {
     "data": {
      "application/vnd.jupyter.widget-view+json": {
       "model_id": "8885d69d843a48e683c2e2c5c78cc808",
       "version_major": 2,
       "version_minor": 0
      },
      "text/plain": [
       "Canvas(height=100, width=100)"
      ]
     },
     "metadata": {},
     "output_type": "display_data"
    }
   ],
   "source": [
    "show_rgb(blend_plus_lighter(rgb_tst[0], rgb_tst[1])) # alias of blend_add"
   ]
  },
  {
   "cell_type": "code",
   "execution_count": 19,
   "id": "045d8827",
   "metadata": {},
   "outputs": [
    {
     "data": {
      "application/vnd.jupyter.widget-view+json": {
       "model_id": "88776881dc6748beb84a32988944e8e9",
       "version_major": 2,
       "version_minor": 0
      },
      "text/plain": [
       "Canvas(height=100, width=100)"
      ]
     },
     "metadata": {},
     "output_type": "display_data"
    }
   ],
   "source": [
    "show_rgb(blend_linear_dodge(rgb_tst[0], rgb_tst[1])) # alias of blend_add"
   ]
  },
  {
   "cell_type": "code",
   "execution_count": 20,
   "id": "b9884aa5",
   "metadata": {},
   "outputs": [
    {
     "data": {
      "application/vnd.jupyter.widget-view+json": {
       "model_id": "c30240fa493e4c3b9981334328aef8d5",
       "version_major": 2,
       "version_minor": 0
      },
      "text/plain": [
       "Canvas(height=100, width=100)"
      ]
     },
     "metadata": {},
     "output_type": "display_data"
    }
   ],
   "source": [
    "show_rgb(blend_add(rgb_tst[0], rgb_tst[1]))"
   ]
  },
  {
   "cell_type": "code",
   "execution_count": 21,
   "id": "8d42b82a",
   "metadata": {},
   "outputs": [
    {
     "data": {
      "application/vnd.jupyter.widget-view+json": {
       "model_id": "b3e0ac5bfae84ae2b007a399bafb13f2",
       "version_major": 2,
       "version_minor": 0
      },
      "text/plain": [
       "Canvas(height=100, width=100)"
      ]
     },
     "metadata": {},
     "output_type": "display_data"
    }
   ],
   "source": [
    "show_rgb(blend_average(rgb_tst[0], rgb_tst[1]))"
   ]
  },
  {
   "cell_type": "code",
   "execution_count": 22,
   "id": "09fb2a3d",
   "metadata": {},
   "outputs": [
    {
     "data": {
      "application/vnd.jupyter.widget-view+json": {
       "model_id": "04bc304da1024d2b86b3ce31e7b5ad3e",
       "version_major": 2,
       "version_minor": 0
      },
      "text/plain": [
       "Canvas(height=100, width=100)"
      ]
     },
     "metadata": {},
     "output_type": "display_data"
    }
   ],
   "source": [
    "show_rgb(blend_negate(rgb_tst[0], rgb_tst[1]))"
   ]
  },
  {
   "cell_type": "code",
   "execution_count": 23,
   "id": "62fbd018",
   "metadata": {},
   "outputs": [
    {
     "data": {
      "application/vnd.jupyter.widget-view+json": {
       "model_id": "e7b881eba22642c1a85cf4ef36ff6251",
       "version_major": 2,
       "version_minor": 0
      },
      "text/plain": [
       "Canvas(height=100, width=100)"
      ]
     },
     "metadata": {},
     "output_type": "display_data"
    }
   ],
   "source": [
    "show_rgb(blend_exclude(rgb_tst[0], rgb_tst[1]))"
   ]
  },
  {
   "cell_type": "code",
   "execution_count": 24,
   "id": "6fbfaae4",
   "metadata": {},
   "outputs": [
    {
     "data": {
      "application/vnd.jupyter.widget-view+json": {
       "model_id": "26db6dfa53864c6d9fe2032be256a0e3",
       "version_major": 2,
       "version_minor": 0
      },
      "text/plain": [
       "Canvas(height=100, width=100)"
      ]
     },
     "metadata": {},
     "output_type": "display_data"
    }
   ],
   "source": [
    "show_rgb(blend_hardlight(rgb_tst[0], rgb_tst[1]))"
   ]
  },
  {
   "cell_type": "code",
   "execution_count": 25,
   "id": "6234fd07",
   "metadata": {},
   "outputs": [
    {
     "data": {
      "application/vnd.jupyter.widget-view+json": {
       "model_id": "b28224504000475f828342e322f8f8d1",
       "version_major": 2,
       "version_minor": 0
      },
      "text/plain": [
       "Canvas(height=100, width=100)"
      ]
     },
     "metadata": {},
     "output_type": "display_data"
    }
   ],
   "source": [
    "show_rgb(blend_colorburn(rgb_tst[0], rgb_tst[1]))"
   ]
  },
  {
   "cell_type": "code",
   "execution_count": 26,
   "id": "bdb83a90",
   "metadata": {},
   "outputs": [
    {
     "data": {
      "application/vnd.jupyter.widget-view+json": {
       "model_id": "16e9fe2c40534f7793f97babee2a7bdf",
       "version_major": 2,
       "version_minor": 0
      },
      "text/plain": [
       "Canvas(height=100, width=100)"
      ]
     },
     "metadata": {},
     "output_type": "display_data"
    }
   ],
   "source": [
    "show_rgb(blend_softburn(rgb_tst[0], rgb_tst[1]))"
   ]
  },
  {
   "cell_type": "code",
   "execution_count": 27,
   "id": "c6b3e905",
   "metadata": {},
   "outputs": [
    {
     "data": {
      "application/vnd.jupyter.widget-view+json": {
       "model_id": "a5e6f4cfb8004b1aaa5e9df12b50ea34",
       "version_major": 2,
       "version_minor": 0
      },
      "text/plain": [
       "Canvas(height=100, width=100)"
      ]
     },
     "metadata": {},
     "output_type": "display_data"
    }
   ],
   "source": [
    "show_rgb(blend_colordodge(rgb_tst[0], rgb_tst[1]))"
   ]
  },
  {
   "cell_type": "code",
   "execution_count": 28,
   "id": "4301e839",
   "metadata": {},
   "outputs": [
    {
     "data": {
      "application/vnd.jupyter.widget-view+json": {
       "model_id": "be113c3980344754b9a5d5d3d3a74aab",
       "version_major": 2,
       "version_minor": 0
      },
      "text/plain": [
       "Canvas(height=100, width=100)"
      ]
     },
     "metadata": {},
     "output_type": "display_data"
    }
   ],
   "source": [
    "show_rgb(blend_softdodge(rgb_tst[0], rgb_tst[1]))"
   ]
  },
  {
   "cell_type": "code",
   "execution_count": 29,
   "id": "944b16f8",
   "metadata": {},
   "outputs": [
    {
     "data": {
      "application/vnd.jupyter.widget-view+json": {
       "model_id": "27ab002addc44618963cb44802b74de1",
       "version_major": 2,
       "version_minor": 0
      },
      "text/plain": [
       "Canvas(height=100, width=100)"
      ]
     },
     "metadata": {},
     "output_type": "display_data"
    }
   ],
   "source": [
    "show_rgb(blend_reflect(rgb_tst[0], rgb_tst[1]))"
   ]
  },
  {
   "cell_type": "code",
   "execution_count": 30,
   "id": "2a3eb9ee",
   "metadata": {},
   "outputs": [
    {
     "data": {
      "application/vnd.jupyter.widget-view+json": {
       "model_id": "eb98c01362d1438990f305284f044be2",
       "version_major": 2,
       "version_minor": 0
      },
      "text/plain": [
       "Canvas(height=100, width=100)"
      ]
     },
     "metadata": {},
     "output_type": "display_data"
    }
   ],
   "source": [
    "show_rgb(blend_freeze(rgb_tst[0], rgb_tst[1]))"
   ]
  },
  {
   "cell_type": "code",
   "execution_count": 31,
   "id": "75fd7676",
   "metadata": {},
   "outputs": [
    {
     "data": {
      "application/vnd.jupyter.widget-view+json": {
       "model_id": "838bad6f4807410bbcf83d1698de0bcb",
       "version_major": 2,
       "version_minor": 0
      },
      "text/plain": [
       "Canvas(height=100, width=100)"
      ]
     },
     "metadata": {},
     "output_type": "display_data"
    }
   ],
   "source": [
    "show_rgb(blend_stamp(rgb_tst[0], rgb_tst[1]))"
   ]
  },
  {
   "cell_type": "code",
   "execution_count": 32,
   "id": "9f65e4d0",
   "metadata": {},
   "outputs": [
    {
     "data": {
      "application/vnd.jupyter.widget-view+json": {
       "model_id": "061d5cc3cc1e49dcb10bbf67144507c9",
       "version_major": 2,
       "version_minor": 0
      },
      "text/plain": [
       "Canvas(height=100, width=100)"
      ]
     },
     "metadata": {},
     "output_type": "display_data"
    }
   ],
   "source": [
    "show_rgb(blend_cosine(rgb_tst[0], rgb_tst[1]))"
   ]
  },
  {
   "cell_type": "code",
   "execution_count": 33,
   "id": "1ec73388",
   "metadata": {},
   "outputs": [],
   "source": [
    "base8 = hex2bytes('#D05F8B') \n",
    "blend8 = hex2bytes('#D0BF5F')"
   ]
  },
  {
   "cell_type": "code",
   "execution_count": 34,
   "id": "eb84ca18",
   "metadata": {},
   "outputs": [
    {
     "data": {
      "application/vnd.jupyter.widget-view+json": {
       "model_id": "ccf743f8807f4bfcb717c219151a00a1",
       "version_major": 2,
       "version_minor": 0
      },
      "text/plain": [
       "Canvas(height=100, width=100)"
      ]
     },
     "metadata": {},
     "output_type": "display_data"
    }
   ],
   "source": [
    "show_rgb(bytes2norm(blend_xor_rgb8(base8, blend8)))"
   ]
  },
  {
   "cell_type": "code",
   "execution_count": 35,
   "id": "944bca17",
   "metadata": {},
   "outputs": [
    {
     "data": {
      "application/vnd.jupyter.widget-view+json": {
       "model_id": "9e0b9cb346e142918cfb9bf2b7b78bf8",
       "version_major": 2,
       "version_minor": 0
      },
      "text/plain": [
       "Canvas(height=100, width=100)"
      ]
     },
     "metadata": {},
     "output_type": "display_data"
    }
   ],
   "source": [
    "show_rgb(bytes2norm(blend_and_rgb8(base8, blend8)))"
   ]
  },
  {
   "cell_type": "code",
   "execution_count": 36,
   "id": "1a101dda",
   "metadata": {},
   "outputs": [
    {
     "data": {
      "application/vnd.jupyter.widget-view+json": {
       "model_id": "4bb8c723e860441c89f2e51df2968a1e",
       "version_major": 2,
       "version_minor": 0
      },
      "text/plain": [
       "Canvas(height=100, width=100)"
      ]
     },
     "metadata": {},
     "output_type": "display_data"
    }
   ],
   "source": [
    "show_rgb(bytes2norm(blend_or_rgb8(base8, blend8)))"
   ]
  },
  {
   "cell_type": "code",
   "execution_count": 37,
   "id": "9554344e",
   "metadata": {},
   "outputs": [
    {
     "data": {
      "application/vnd.jupyter.widget-view+json": {
       "model_id": "0e70b63db1304ad2a184226c40334f09",
       "version_major": 2,
       "version_minor": 0
      },
      "text/plain": [
       "Canvas(height=100, width=100)"
      ]
     },
     "metadata": {},
     "output_type": "display_data"
    }
   ],
   "source": [
    "show_rgb(blend_xor(rgb_tst[0], rgb_tst[1]))"
   ]
  },
  {
   "cell_type": "code",
   "execution_count": 38,
   "id": "50d42cb0",
   "metadata": {},
   "outputs": [
    {
     "data": {
      "application/vnd.jupyter.widget-view+json": {
       "model_id": "3b4b05bb7f3c4d09ad7d510c580572eb",
       "version_major": 2,
       "version_minor": 0
      },
      "text/plain": [
       "Canvas(height=100, width=100)"
      ]
     },
     "metadata": {},
     "output_type": "display_data"
    }
   ],
   "source": [
    "show_rgb(blend_and(rgb_tst[0], rgb_tst[1]))"
   ]
  },
  {
   "cell_type": "code",
   "execution_count": 39,
   "id": "5487df1b",
   "metadata": {},
   "outputs": [
    {
     "data": {
      "application/vnd.jupyter.widget-view+json": {
       "model_id": "1311ba4e17a24885932a78ee1cf0775d",
       "version_major": 2,
       "version_minor": 0
      },
      "text/plain": [
       "Canvas(height=100, width=100)"
      ]
     },
     "metadata": {},
     "output_type": "display_data"
    }
   ],
   "source": [
    "show_rgb(blend_or(rgb_tst[0], rgb_tst[1]))"
   ]
  },
  {
   "cell_type": "code",
   "execution_count": null,
   "id": "16f6888c",
   "metadata": {},
   "outputs": [],
   "source": []
  }
 ],
 "metadata": {
  "kernelspec": {
   "display_name": "Python 3 (ipykernel)",
   "language": "python",
   "name": "python3"
  },
  "language_info": {
   "codemirror_mode": {
    "name": "ipython",
    "version": 3
   },
   "file_extension": ".py",
   "mimetype": "text/x-python",
   "name": "python",
   "nbconvert_exporter": "python",
   "pygments_lexer": "ipython3",
   "version": "3.9.7"
  }
 },
 "nbformat": 4,
 "nbformat_minor": 5
}

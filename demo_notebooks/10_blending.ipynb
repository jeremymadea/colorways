{
 "cells": [
  {
   "cell_type": "code",
   "execution_count": 40,
   "id": "bb1809c9",
   "metadata": {},
   "outputs": [],
   "source": [
    "%run 'init_notebook.py'"
   ]
  },
  {
   "cell_type": "code",
   "execution_count": 41,
   "id": "9836fc53",
   "metadata": {},
   "outputs": [],
   "source": [
    "from colorways.blend import *"
   ]
  },
  {
   "cell_type": "code",
   "execution_count": 42,
   "id": "219aeeb8",
   "metadata": {},
   "outputs": [],
   "source": [
    "rgb_red = hex2rgb('#ff0000')\n",
    "rgb_grn = hex2rgb('#00ff00')\n",
    "rgb_blu = hex2rgb('#0000ff')\n",
    "rgb_blk = hex2rgb('#000000')\n",
    "rgb_wht = hex2rgb('fffffff')\n",
    "rgb_tst = [hex2rgb(a) for a in ['#D05F8B', '#D0BF5F', '#5FD06A', '#5F63D0', '#D05FB8', '#D0935F', '#80D05F']]"
   ]
  },
  {
   "cell_type": "code",
   "execution_count": 43,
   "id": "45ba6689",
   "metadata": {},
   "outputs": [
    {
     "data": {
      "application/vnd.jupyter.widget-view+json": {
       "model_id": "3968ac5eb1d34babbff08b984f7af0e0",
       "version_major": 2,
       "version_minor": 0
      },
      "text/plain": [
       "Canvas(height=100, width=100)"
      ]
     },
     "metadata": {},
     "output_type": "display_data"
    }
   ],
   "source": [
    "show_rgb(rgb_tst[0]) # base color"
   ]
  },
  {
   "cell_type": "code",
   "execution_count": 44,
   "id": "68fe347d",
   "metadata": {},
   "outputs": [
    {
     "data": {
      "application/vnd.jupyter.widget-view+json": {
       "model_id": "f16db76a30fe41c5be9ce3aae0fe2e9a",
       "version_major": 2,
       "version_minor": 0
      },
      "text/plain": [
       "Canvas(height=100, width=100)"
      ]
     },
     "metadata": {},
     "output_type": "display_data"
    }
   ],
   "source": [
    "show_rgb(rgb_tst[1]) # blend color"
   ]
  },
  {
   "cell_type": "code",
   "execution_count": 45,
   "id": "6e466462",
   "metadata": {},
   "outputs": [
    {
     "data": {
      "application/vnd.jupyter.widget-view+json": {
       "model_id": "c95f059cbbab45bcbbd86a39feb15734",
       "version_major": 2,
       "version_minor": 0
      },
      "text/plain": [
       "Canvas(height=100, width=100)"
      ]
     },
     "metadata": {},
     "output_type": "display_data"
    }
   ],
   "source": [
    "show_rgb(blend_screen(rgb_tst[0], rgb_tst[1]))"
   ]
  },
  {
   "cell_type": "code",
   "execution_count": 46,
   "id": "ae4a6a48",
   "metadata": {},
   "outputs": [
    {
     "data": {
      "application/vnd.jupyter.widget-view+json": {
       "model_id": "bd8578dcbea348a79a5e70eee87ddd13",
       "version_major": 2,
       "version_minor": 0
      },
      "text/plain": [
       "Canvas(height=100, width=100)"
      ]
     },
     "metadata": {},
     "output_type": "display_data"
    }
   ],
   "source": [
    "show_rgb(blend_overlay(rgb_tst[0], rgb_tst[1]))"
   ]
  },
  {
   "cell_type": "code",
   "execution_count": 47,
   "id": "781e678c",
   "metadata": {},
   "outputs": [
    {
     "data": {
      "application/vnd.jupyter.widget-view+json": {
       "model_id": "d65b58bde95e410da94ee7cdbbbb81c8",
       "version_major": 2,
       "version_minor": 0
      },
      "text/plain": [
       "Canvas(height=100, width=100)"
      ]
     },
     "metadata": {},
     "output_type": "display_data"
    }
   ],
   "source": [
    "show_rgb(blend_softlight(rgb_tst[0], rgb_tst[1]))"
   ]
  },
  {
   "cell_type": "code",
   "execution_count": 48,
   "id": "2a110e50",
   "metadata": {},
   "outputs": [
    {
     "data": {
      "application/vnd.jupyter.widget-view+json": {
       "model_id": "e0ebe1e57dd247d0be857c1badae83de",
       "version_major": 2,
       "version_minor": 0
      },
      "text/plain": [
       "Canvas(height=100, width=100)"
      ]
     },
     "metadata": {},
     "output_type": "display_data"
    }
   ],
   "source": [
    "show_rgb(blend_softlight_ps(rgb_tst[0], rgb_tst[1]))"
   ]
  },
  {
   "cell_type": "code",
   "execution_count": 49,
   "id": "300b5c85",
   "metadata": {},
   "outputs": [
    {
     "data": {
      "application/vnd.jupyter.widget-view+json": {
       "model_id": "81d39695e4404390b1c4436e384af0be",
       "version_major": 2,
       "version_minor": 0
      },
      "text/plain": [
       "Canvas(height=100, width=100)"
      ]
     },
     "metadata": {},
     "output_type": "display_data"
    }
   ],
   "source": [
    "show_rgb(blend_softlight_ill(rgb_tst[0], rgb_tst[1]))"
   ]
  },
  {
   "cell_type": "code",
   "execution_count": 50,
   "id": "91f31d57",
   "metadata": {},
   "outputs": [
    {
     "data": {
      "application/vnd.jupyter.widget-view+json": {
       "model_id": "b9b190e16f804e7ab751137b6252a804",
       "version_major": 2,
       "version_minor": 0
      },
      "text/plain": [
       "Canvas(height=100, width=100)"
      ]
     },
     "metadata": {},
     "output_type": "display_data"
    }
   ],
   "source": [
    "show_rgb(blend_softlight_peg(rgb_tst[0], rgb_tst[1]))"
   ]
  },
  {
   "cell_type": "code",
   "execution_count": 51,
   "id": "0a68ae3f",
   "metadata": {},
   "outputs": [
    {
     "data": {
      "application/vnd.jupyter.widget-view+json": {
       "model_id": "8ba433f1612d4dfba695ce92f35474b6",
       "version_major": 2,
       "version_minor": 0
      },
      "text/plain": [
       "Canvas(height=100, width=100)"
      ]
     },
     "metadata": {},
     "output_type": "display_data"
    }
   ],
   "source": [
    "show_rgb(blend_divide(rgb_tst[0], rgb_tst[1]))"
   ]
  },
  {
   "cell_type": "code",
   "execution_count": 52,
   "id": "118924dd",
   "metadata": {},
   "outputs": [
    {
     "data": {
      "application/vnd.jupyter.widget-view+json": {
       "model_id": "c3bcee2580fa45b1bbc3dc4b20a9ad16",
       "version_major": 2,
       "version_minor": 0
      },
      "text/plain": [
       "Canvas(height=100, width=100)"
      ]
     },
     "metadata": {},
     "output_type": "display_data"
    }
   ],
   "source": [
    "show_rgb(blend_lighten(rgb_tst[0], rgb_tst[1]))"
   ]
  },
  {
   "cell_type": "code",
   "execution_count": 53,
   "id": "2e63f928",
   "metadata": {},
   "outputs": [
    {
     "data": {
      "application/vnd.jupyter.widget-view+json": {
       "model_id": "06cb5dea19454077b96dec2b19a15db0",
       "version_major": 2,
       "version_minor": 0
      },
      "text/plain": [
       "Canvas(height=100, width=100)"
      ]
     },
     "metadata": {},
     "output_type": "display_data"
    }
   ],
   "source": [
    "show_rgb(blend_darken(rgb_tst[0], rgb_tst[1]))"
   ]
  },
  {
   "cell_type": "code",
   "execution_count": 54,
   "id": "9f6d67b0",
   "metadata": {},
   "outputs": [
    {
     "data": {
      "application/vnd.jupyter.widget-view+json": {
       "model_id": "728d7d40a7094e7082523e1b8e831b1a",
       "version_major": 2,
       "version_minor": 0
      },
      "text/plain": [
       "Canvas(height=100, width=100)"
      ]
     },
     "metadata": {},
     "output_type": "display_data"
    }
   ],
   "source": [
    "show_rgb(blend_difference(rgb_tst[0], rgb_tst[1]))"
   ]
  },
  {
   "cell_type": "code",
   "execution_count": 55,
   "id": "ec3095be",
   "metadata": {},
   "outputs": [
    {
     "data": {
      "application/vnd.jupyter.widget-view+json": {
       "model_id": "e75a8e689b86405689fc137487ccfc89",
       "version_major": 2,
       "version_minor": 0
      },
      "text/plain": [
       "Canvas(height=100, width=100)"
      ]
     },
     "metadata": {},
     "output_type": "display_data"
    }
   ],
   "source": [
    "show_rgb(blend_subtract(rgb_tst[1], rgb_tst[0])) # flipping base/blend colors for this one."
   ]
  },
  {
   "cell_type": "code",
   "execution_count": 56,
   "id": "cf5c7b12",
   "metadata": {},
   "outputs": [
    {
     "data": {
      "application/vnd.jupyter.widget-view+json": {
       "model_id": "9bc3e006f1cb404784bb896b24ceed3b",
       "version_major": 2,
       "version_minor": 0
      },
      "text/plain": [
       "Canvas(height=100, width=100)"
      ]
     },
     "metadata": {},
     "output_type": "display_data"
    }
   ],
   "source": [
    "show_rgb(blend_plus_darker(rgb_tst[0], rgb_tst[1]))"
   ]
  },
  {
   "cell_type": "code",
   "execution_count": 57,
   "id": "1462b4de",
   "metadata": {},
   "outputs": [
    {
     "data": {
      "application/vnd.jupyter.widget-view+json": {
       "model_id": "70a03e588ec74fa1b41742ec7db5d9e6",
       "version_major": 2,
       "version_minor": 0
      },
      "text/plain": [
       "Canvas(height=100, width=100)"
      ]
     },
     "metadata": {},
     "output_type": "display_data"
    }
   ],
   "source": [
    "show_rgb(blend_plus_lighter(rgb_tst[0], rgb_tst[1])) # alias of blend_add"
   ]
  },
  {
   "cell_type": "code",
   "execution_count": 58,
   "id": "045d8827",
   "metadata": {},
   "outputs": [
    {
     "data": {
      "application/vnd.jupyter.widget-view+json": {
       "model_id": "6c622d2c1c20467eb5a9ea3038257ebd",
       "version_major": 2,
       "version_minor": 0
      },
      "text/plain": [
       "Canvas(height=100, width=100)"
      ]
     },
     "metadata": {},
     "output_type": "display_data"
    }
   ],
   "source": [
    "show_rgb(blend_linear_dodge(rgb_tst[0], rgb_tst[1])) # alias of blend_add"
   ]
  },
  {
   "cell_type": "code",
   "execution_count": 59,
   "id": "b9884aa5",
   "metadata": {},
   "outputs": [
    {
     "data": {
      "application/vnd.jupyter.widget-view+json": {
       "model_id": "aca9a7e1bb3e47cfa84aeaf7f112d905",
       "version_major": 2,
       "version_minor": 0
      },
      "text/plain": [
       "Canvas(height=100, width=100)"
      ]
     },
     "metadata": {},
     "output_type": "display_data"
    }
   ],
   "source": [
    "show_rgb(blend_add(rgb_tst[0], rgb_tst[1]))"
   ]
  },
  {
   "cell_type": "code",
   "execution_count": 60,
   "id": "8d42b82a",
   "metadata": {},
   "outputs": [
    {
     "data": {
      "application/vnd.jupyter.widget-view+json": {
       "model_id": "4d95ca053a2a4b6585ddcca89c676f69",
       "version_major": 2,
       "version_minor": 0
      },
      "text/plain": [
       "Canvas(height=100, width=100)"
      ]
     },
     "metadata": {},
     "output_type": "display_data"
    }
   ],
   "source": [
    "show_rgb(blend_average(rgb_tst[0], rgb_tst[1]))"
   ]
  },
  {
   "cell_type": "code",
   "execution_count": 61,
   "id": "09fb2a3d",
   "metadata": {},
   "outputs": [
    {
     "data": {
      "application/vnd.jupyter.widget-view+json": {
       "model_id": "5a2c25220cae44bbbd3899ef0cfc27ca",
       "version_major": 2,
       "version_minor": 0
      },
      "text/plain": [
       "Canvas(height=100, width=100)"
      ]
     },
     "metadata": {},
     "output_type": "display_data"
    }
   ],
   "source": [
    "show_rgb(blend_negate(rgb_tst[0], rgb_tst[1]))"
   ]
  },
  {
   "cell_type": "code",
   "execution_count": 62,
   "id": "62fbd018",
   "metadata": {},
   "outputs": [
    {
     "data": {
      "application/vnd.jupyter.widget-view+json": {
       "model_id": "7f994a38b6a0484ebe93b8e0a5f807e4",
       "version_major": 2,
       "version_minor": 0
      },
      "text/plain": [
       "Canvas(height=100, width=100)"
      ]
     },
     "metadata": {},
     "output_type": "display_data"
    }
   ],
   "source": [
    "show_rgb(blend_exclude(rgb_tst[0], rgb_tst[1]))"
   ]
  },
  {
   "cell_type": "code",
   "execution_count": 63,
   "id": "6fbfaae4",
   "metadata": {},
   "outputs": [
    {
     "data": {
      "application/vnd.jupyter.widget-view+json": {
       "model_id": "87a6ec9071074884a5783f4b9bcb9902",
       "version_major": 2,
       "version_minor": 0
      },
      "text/plain": [
       "Canvas(height=100, width=100)"
      ]
     },
     "metadata": {},
     "output_type": "display_data"
    }
   ],
   "source": [
    "show_rgb(blend_hardlight(rgb_tst[0], rgb_tst[1]))"
   ]
  },
  {
   "cell_type": "code",
   "execution_count": 64,
   "id": "6234fd07",
   "metadata": {},
   "outputs": [
    {
     "data": {
      "application/vnd.jupyter.widget-view+json": {
       "model_id": "fb721fc1163d414281b0cd2a0034345a",
       "version_major": 2,
       "version_minor": 0
      },
      "text/plain": [
       "Canvas(height=100, width=100)"
      ]
     },
     "metadata": {},
     "output_type": "display_data"
    }
   ],
   "source": [
    "show_rgb(blend_colorburn(rgb_tst[0], rgb_tst[1]))"
   ]
  },
  {
   "cell_type": "code",
   "execution_count": 65,
   "id": "bdb83a90",
   "metadata": {},
   "outputs": [
    {
     "data": {
      "application/vnd.jupyter.widget-view+json": {
       "model_id": "8125626014004798b4812059d02cfdb5",
       "version_major": 2,
       "version_minor": 0
      },
      "text/plain": [
       "Canvas(height=100, width=100)"
      ]
     },
     "metadata": {},
     "output_type": "display_data"
    }
   ],
   "source": [
    "show_rgb(blend_softburn(rgb_tst[0], rgb_tst[1]))"
   ]
  },
  {
   "cell_type": "code",
   "execution_count": 66,
   "id": "c6b3e905",
   "metadata": {},
   "outputs": [
    {
     "data": {
      "application/vnd.jupyter.widget-view+json": {
       "model_id": "7b93110b59ee4a15b255e75508ac23ce",
       "version_major": 2,
       "version_minor": 0
      },
      "text/plain": [
       "Canvas(height=100, width=100)"
      ]
     },
     "metadata": {},
     "output_type": "display_data"
    }
   ],
   "source": [
    "show_rgb(blend_colordodge(rgb_tst[0], rgb_tst[1]))"
   ]
  },
  {
   "cell_type": "code",
   "execution_count": 67,
   "id": "4301e839",
   "metadata": {},
   "outputs": [
    {
     "data": {
      "application/vnd.jupyter.widget-view+json": {
       "model_id": "100de566e03c4d5a939915a4e945a336",
       "version_major": 2,
       "version_minor": 0
      },
      "text/plain": [
       "Canvas(height=100, width=100)"
      ]
     },
     "metadata": {},
     "output_type": "display_data"
    }
   ],
   "source": [
    "show_rgb(blend_softdodge(rgb_tst[0], rgb_tst[1]))"
   ]
  },
  {
   "cell_type": "code",
   "execution_count": 68,
   "id": "944b16f8",
   "metadata": {},
   "outputs": [
    {
     "data": {
      "application/vnd.jupyter.widget-view+json": {
       "model_id": "9a2a3548a1dd416c8743d61a11552cbf",
       "version_major": 2,
       "version_minor": 0
      },
      "text/plain": [
       "Canvas(height=100, width=100)"
      ]
     },
     "metadata": {},
     "output_type": "display_data"
    }
   ],
   "source": [
    "show_rgb(blend_reflect(rgb_tst[0], rgb_tst[1]))"
   ]
  },
  {
   "cell_type": "code",
   "execution_count": 69,
   "id": "2a3eb9ee",
   "metadata": {},
   "outputs": [
    {
     "data": {
      "application/vnd.jupyter.widget-view+json": {
       "model_id": "0905ba155f6b41009d2820424d3e1fcc",
       "version_major": 2,
       "version_minor": 0
      },
      "text/plain": [
       "Canvas(height=100, width=100)"
      ]
     },
     "metadata": {},
     "output_type": "display_data"
    }
   ],
   "source": [
    "show_rgb(blend_freeze(rgb_tst[0], rgb_tst[1]))"
   ]
  },
  {
   "cell_type": "code",
   "execution_count": 70,
   "id": "75fd7676",
   "metadata": {},
   "outputs": [
    {
     "data": {
      "application/vnd.jupyter.widget-view+json": {
       "model_id": "500c9cada59e49cdb9261661adc43190",
       "version_major": 2,
       "version_minor": 0
      },
      "text/plain": [
       "Canvas(height=100, width=100)"
      ]
     },
     "metadata": {},
     "output_type": "display_data"
    }
   ],
   "source": [
    "show_rgb(blend_stamp(rgb_tst[0], rgb_tst[1]))"
   ]
  },
  {
   "cell_type": "code",
   "execution_count": 71,
   "id": "9f65e4d0",
   "metadata": {},
   "outputs": [
    {
     "data": {
      "application/vnd.jupyter.widget-view+json": {
       "model_id": "5f196a132938496884a5ffa60e120bb3",
       "version_major": 2,
       "version_minor": 0
      },
      "text/plain": [
       "Canvas(height=100, width=100)"
      ]
     },
     "metadata": {},
     "output_type": "display_data"
    }
   ],
   "source": [
    "show_rgb(blend_cosine(rgb_tst[0], rgb_tst[1]))"
   ]
  },
  {
   "cell_type": "code",
   "execution_count": 72,
   "id": "1ec73388",
   "metadata": {},
   "outputs": [],
   "source": [
    "base8 = hex2bytes('#D05F8B') \n",
    "blend8 = hex2bytes('#D0BF5F')"
   ]
  },
  {
   "cell_type": "code",
   "execution_count": 73,
   "id": "eb84ca18",
   "metadata": {},
   "outputs": [
    {
     "data": {
      "application/vnd.jupyter.widget-view+json": {
       "model_id": "4391c002c13142d18f6d3b8c2db1fd95",
       "version_major": 2,
       "version_minor": 0
      },
      "text/plain": [
       "Canvas(height=100, width=100)"
      ]
     },
     "metadata": {},
     "output_type": "display_data"
    }
   ],
   "source": [
    "show_rgb(bytes2norm(blend_xor_rgb8(base8, blend8)))"
   ]
  },
  {
   "cell_type": "code",
   "execution_count": 74,
   "id": "944bca17",
   "metadata": {},
   "outputs": [
    {
     "data": {
      "application/vnd.jupyter.widget-view+json": {
       "model_id": "e4b98cfc218c4e78972dd5a87927b887",
       "version_major": 2,
       "version_minor": 0
      },
      "text/plain": [
       "Canvas(height=100, width=100)"
      ]
     },
     "metadata": {},
     "output_type": "display_data"
    }
   ],
   "source": [
    "show_rgb(bytes2norm(blend_and_rgb8(base8, blend8)))"
   ]
  },
  {
   "cell_type": "code",
   "execution_count": 75,
   "id": "1a101dda",
   "metadata": {},
   "outputs": [
    {
     "data": {
      "application/vnd.jupyter.widget-view+json": {
       "model_id": "c44c73d2e5564f73bf4ef73e684cab2b",
       "version_major": 2,
       "version_minor": 0
      },
      "text/plain": [
       "Canvas(height=100, width=100)"
      ]
     },
     "metadata": {},
     "output_type": "display_data"
    }
   ],
   "source": [
    "show_rgb(bytes2norm(blend_or_rgb8(base8, blend8)))"
   ]
  },
  {
   "cell_type": "code",
   "execution_count": 76,
   "id": "9554344e",
   "metadata": {},
   "outputs": [
    {
     "data": {
      "application/vnd.jupyter.widget-view+json": {
       "model_id": "631299ca91234fddbfe8a72261fb2634",
       "version_major": 2,
       "version_minor": 0
      },
      "text/plain": [
       "Canvas(height=100, width=100)"
      ]
     },
     "metadata": {},
     "output_type": "display_data"
    }
   ],
   "source": [
    "show_rgb(blend_xor(rgb_tst[0], rgb_tst[1]))"
   ]
  },
  {
   "cell_type": "code",
   "execution_count": 77,
   "id": "50d42cb0",
   "metadata": {},
   "outputs": [
    {
     "data": {
      "application/vnd.jupyter.widget-view+json": {
       "model_id": "7245f3200dc1419bb06823f6357851d5",
       "version_major": 2,
       "version_minor": 0
      },
      "text/plain": [
       "Canvas(height=100, width=100)"
      ]
     },
     "metadata": {},
     "output_type": "display_data"
    }
   ],
   "source": [
    "show_rgb(blend_and(rgb_tst[0], rgb_tst[1]))"
   ]
  },
  {
   "cell_type": "code",
   "execution_count": 78,
   "id": "5487df1b",
   "metadata": {},
   "outputs": [
    {
     "data": {
      "application/vnd.jupyter.widget-view+json": {
       "model_id": "4d7092c2ddcd478abebc29a9513db039",
       "version_major": 2,
       "version_minor": 0
      },
      "text/plain": [
       "Canvas(height=100, width=100)"
      ]
     },
     "metadata": {},
     "output_type": "display_data"
    }
   ],
   "source": [
    "show_rgb(blend_or(rgb_tst[0], rgb_tst[1]))"
   ]
  },
  {
   "cell_type": "code",
   "execution_count": 79,
   "id": "16f6888c",
   "metadata": {},
   "outputs": [
    {
     "data": {
      "application/vnd.jupyter.widget-view+json": {
       "model_id": "93abf0f3882b4b86a6fa1ed8b9dd68a0",
       "version_major": 2,
       "version_minor": 0
      },
      "text/plain": [
       "Canvas(height=100, width=100)"
      ]
     },
     "metadata": {},
     "output_type": "display_data"
    }
   ],
   "source": [
    "show_rgb(blend_stamp(rgb_tst[0], rgb_tst[1]))"
   ]
  },
  {
   "cell_type": "code",
   "execution_count": 80,
   "id": "c9894ecc",
   "metadata": {},
   "outputs": [
    {
     "data": {
      "application/vnd.jupyter.widget-view+json": {
       "model_id": "1bb128987874473da17cf3ead45dde66",
       "version_major": 2,
       "version_minor": 0
      },
      "text/plain": [
       "Canvas(height=100, width=100)"
      ]
     },
     "metadata": {},
     "output_type": "display_data"
    }
   ],
   "source": [
    "show_rgb(blend_cosine(rgb_tst[0], rgb_tst[1]))"
   ]
  },
  {
   "cell_type": "code",
   "execution_count": null,
   "id": "efa0c289",
   "metadata": {},
   "outputs": [],
   "source": []
  }
 ],
 "metadata": {
  "kernelspec": {
   "display_name": "Python 3 (ipykernel)",
   "language": "python",
   "name": "python3"
  },
  "language_info": {
   "codemirror_mode": {
    "name": "ipython",
    "version": 3
   },
   "file_extension": ".py",
   "mimetype": "text/x-python",
   "name": "python",
   "nbconvert_exporter": "python",
   "pygments_lexer": "ipython3",
   "version": "3.9.7"
  }
 },
 "nbformat": 4,
 "nbformat_minor": 5
}

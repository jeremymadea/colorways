{
 "cells": [
  {
   "cell_type": "code",
   "execution_count": 1,
   "metadata": {},
   "outputs": [],
   "source": [
    "%run init_notebook.py"
   ]
  },
  {
   "cell_type": "code",
   "execution_count": 2,
   "metadata": {},
   "outputs": [
    {
     "data": {
      "application/vnd.jupyter.widget-view+json": {
       "model_id": "9132c8b2cc104ca3ab26eeed7e42b64f",
       "version_major": 2,
       "version_minor": 0
      },
      "text/plain": [
       "HBox(children=(IntSlider(value=1, description='Segments', max=5, min=1), Dropdown(description='Mode:', options…"
      ]
     },
     "metadata": {},
     "output_type": "display_data"
    },
    {
     "data": {
      "application/vnd.jupyter.widget-view+json": {
       "model_id": "970e2241af4c45858b67c1d0cf7f1fdd",
       "version_major": 2,
       "version_minor": 0
      },
      "text/plain": [
       "VBox(children=(HBox(children=(ColorPicker(value='#4D5DC7', description='Color 0'), ColorPicker(value='#8225B6'…"
      ]
     },
     "metadata": {},
     "output_type": "display_data"
    },
    {
     "data": {
      "application/vnd.jupyter.widget-view+json": {
       "model_id": "3a11e34f11fe4470b53843fd483b2f8f",
       "version_major": 2,
       "version_minor": 0
      },
      "text/plain": [
       "Canvas(height=200, width=720)"
      ]
     },
     "metadata": {},
     "output_type": "display_data"
    }
   ],
   "source": [
    "%run '08_GradientPaletteDemo.py'\n",
    "demo2 = GradientPaletteDemo()\n",
    "demo2.draw() #['#242665', '#49c14d'] ['#001D62', '#8EFEA8']"
   ]
  },
  {
   "cell_type": "code",
   "execution_count": 3,
   "metadata": {},
   "outputs": [
    {
     "data": {
      "application/vnd.jupyter.widget-view+json": {
       "model_id": "12f478c6345940e7aadfc1602eb293de",
       "version_major": 2,
       "version_minor": 0
      },
      "text/plain": [
       "Canvas(height=200, width=720)"
      ]
     },
     "metadata": {},
     "output_type": "display_data"
    }
   ],
   "source": [
    "hexcodes = ['#3B9999', '#215be4', '#8EE8BC', '#001D62', '#8EFEA8', '#C0754E'] \n",
    "# hexcodes = [p.value for p in demo2.colors]\n",
    "colors = [ hex2rgb(c) for c in hexcodes ]\n",
    "n_clrs = [50, 50, 50, 50, 50]\n",
    "\n",
    "pally_hsl =         hue_gradient_palette(rgb2hsl(colors), n_clrs)\n",
    "pally_hsv = hsv2hsl(hue_gradient_palette(rgb2hsv(colors), n_clrs))\n",
    "pally_hwb = hwb2hsl(hue_gradient_palette(rgb2hwb(colors), n_clrs))\n",
    "pally_lab = lab2hsl(gradient_palette(rgb2lab(colors), n_clrs))\n",
    "pally_rgb = rgb2hsl(gradient_palette(colors, n_clrs))\n",
    "\n",
    "show_multi_palette(\n",
    "    pally_hsl, pally_hsv, pally_hwb, pally_rgb, pally_lab\n",
    ")"
   ]
  },
  {
   "cell_type": "code",
   "execution_count": 4,
   "metadata": {},
   "outputs": [
    {
     "name": "stdout",
     "output_type": "stream",
     "text": [
      "['#4D5DC7', '#8225B6', '#BF11CD', '#1C16ED', '#D40EAB', '#99FAEF']\n",
      "[50, 50, 50, 50, 50]\n"
     ]
    }
   ],
   "source": [
    "hexcodes = [p.value for p in demo2.colors]\n",
    "print(hexcodes)\n",
    "print(n_clrs)"
   ]
  },
  {
   "cell_type": "code",
   "execution_count": 5,
   "metadata": {},
   "outputs": [
    {
     "data": {
      "application/vnd.jupyter.widget-view+json": {
       "model_id": "49ae419ca3114d198be0a89829ad7430",
       "version_major": 2,
       "version_minor": 0
      },
      "text/plain": [
       "Canvas(height=200, width=720)"
      ]
     },
     "metadata": {},
     "output_type": "display_data"
    }
   ],
   "source": [
    "# low level linear space utility.\n",
    "r2g_rgb = lspace([1.0,0.0,0.0],[0.0,1.0,0.0],200)\n",
    "show_palette(rgb2hsl(r2g_rgb))"
   ]
  },
  {
   "cell_type": "code",
   "execution_count": 6,
   "metadata": {},
   "outputs": [
    {
     "data": {
      "application/vnd.jupyter.widget-view+json": {
       "model_id": "c1ad5bd893ac49a49d1ac8d36e3d8468",
       "version_major": 2,
       "version_minor": 0
      },
      "text/plain": [
       "Canvas(height=200, width=720)"
      ]
     },
     "metadata": {},
     "output_type": "display_data"
    }
   ],
   "source": [
    "# gradient_palette()\n",
    "\n",
    "r2g_rgb = gradient_palette([[1.0,0.0,0.0],[0.0,1.0,0.0]], 200)\n",
    "show_palette(rgb2hsl(r2g_rgb))"
   ]
  },
  {
   "cell_type": "code",
   "execution_count": 7,
   "metadata": {},
   "outputs": [
    {
     "data": {
      "application/vnd.jupyter.widget-view+json": {
       "model_id": "6cddfa51ae604e928c6465afa2fe6ef5",
       "version_major": 2,
       "version_minor": 0
      },
      "text/plain": [
       "Canvas(height=200, width=720)"
      ]
     },
     "metadata": {},
     "output_type": "display_data"
    }
   ],
   "source": [
    "# Multiple color points\n",
    "r2b2g = gradient_palette([[1.0,0.0,0.0], [0.0,0.0,1.0], [0.0,1.0,0.0]], 100)\n",
    "show_palette(rgb2hsl(r2b2g))"
   ]
  },
  {
   "cell_type": "code",
   "execution_count": 8,
   "metadata": {},
   "outputs": [
    {
     "data": {
      "application/vnd.jupyter.widget-view+json": {
       "model_id": "6b55fdd060874f71b583f6a229c0bfc8",
       "version_major": 2,
       "version_minor": 0
      },
      "text/plain": [
       "Canvas(height=200, width=720)"
      ]
     },
     "metadata": {},
     "output_type": "display_data"
    }
   ],
   "source": [
    "# Multiple color points, specify length of each gradient.\n",
    "r2b2g = gradient_palette([[1.0,0.0,0.0], [0.0,0.0,1.0], [0.0,1.0,0.0]], [50,150])\n",
    "show_palette(rgb2hsl(r2b2g))"
   ]
  },
  {
   "cell_type": "code",
   "execution_count": 9,
   "metadata": {},
   "outputs": [
    {
     "data": {
      "application/vnd.jupyter.widget-view+json": {
       "model_id": "0bc42cfb0d4442de9109952bc2eef83c",
       "version_major": 2,
       "version_minor": 0
      },
      "text/plain": [
       "Canvas(height=200, width=720)"
      ]
     },
     "metadata": {},
     "output_type": "display_data"
    }
   ],
   "source": [
    "hwb_w2b = gradient_palette([[0, 1.0, 0.0], [0, 0.0, 1.0]], 25)\n",
    "rgb_w2b = gradient_palette([[1,1,1],[0,0,0]], 25)\n",
    "lab_w2b = gradient_palette([rgb2lab([1,1,1]),rgb2lab([0,0,0])], 25)\n",
    "show_multi_palette(\n",
    "    hwb2hsl(hwb_w2b),\n",
    "    rgb2hsl(rgb_w2b),\n",
    "    lab2hsl(lab_w2b))"
   ]
  },
  {
   "cell_type": "code",
   "execution_count": 10,
   "metadata": {},
   "outputs": [
    {
     "data": {
      "application/vnd.jupyter.widget-view+json": {
       "model_id": "2f9c195e61dd408a86ddaadef15d3f1a",
       "version_major": 2,
       "version_minor": 0
      },
      "text/plain": [
       "Canvas(height=200, width=720)"
      ]
     },
     "metadata": {},
     "output_type": "display_data"
    }
   ],
   "source": [
    "ptmp = gradient_palette([[0.0, 0.8, 0.0], [0.5, 0.25, 0.2]], 25)\n",
    "show_palette(hwb2hsl(ptmp))"
   ]
  },
  {
   "cell_type": "code",
   "execution_count": 11,
   "metadata": {},
   "outputs": [
    {
     "data": {
      "application/vnd.jupyter.widget-view+json": {
       "model_id": "2276b031164f48c1bb47a6e5a6dee1e2",
       "version_major": 2,
       "version_minor": 0
      },
      "text/plain": [
       "Canvas(height=200, width=720)"
      ]
     },
     "metadata": {},
     "output_type": "display_data"
    }
   ],
   "source": [
    "r2g_rgb = gradient_palette([[1.0,0.0,0.0], [0.0,1.0,0.0]], 200)\n",
    "r2g_lab = gradient_palette([rgb2lab([1.0,0.0,0.0]), rgb2lab([0.0,1.0,0.0])], 200)\n",
    "r2g_hsv = gradient_palette([rgb2hsv([1.0,0.0,0.0]), rgb2hsv([0.0,1.0,0.0])], 200)\n",
    "r2g_hsl = gradient_palette([rgb2hsl([1.0,0.0,0.0]), rgb2hsl([0.0,1.0,0.0])], 200)\n",
    "r2g_hwb = gradient_palette([rgb2hwb([1.0,0.0,0.0]), rgb2hwb([0.0,1.0,0.0])], 200)\n",
    "show_multi_palette( \n",
    "    rgb2hsl(r2g_rgb),\n",
    "    lab2hsl(r2g_lab), \n",
    "    hsv2hsl(r2g_hsv),\n",
    "    r2g_hsl,\n",
    "    hwb2hsl(r2g_hwb), \n",
    ")"
   ]
  },
  {
   "cell_type": "code",
   "execution_count": 12,
   "metadata": {},
   "outputs": [
    {
     "data": {
      "application/vnd.jupyter.widget-view+json": {
       "model_id": "f25e9347467b40439660bf52d0127619",
       "version_major": 2,
       "version_minor": 0
      },
      "text/plain": [
       "Canvas(height=200, width=720)"
      ]
     },
     "metadata": {},
     "output_type": "display_data"
    }
   ],
   "source": [
    "# Linear interpolation in spaces that use hue doesn't necessarily work as desired \n",
    "# because the hue can be interpolated in either direction around the color circle. \n",
    "\n",
    "r2b_rgb = gradient_palette([[1.0,0.0,0.0], [0.0,0.0,1.0]], 200)\n",
    "r2b_lab = gradient_palette([rgb2lab([1.0,0.0,0.0]), rgb2lab([0.0,0.0,1.0])], 200)\n",
    "r2b_hsv = gradient_palette([rgb2hsv([1.0,0.0,0.0]), rgb2hsv([0.0,0.0,1.0])], 200)\n",
    "r2b_hsl = gradient_palette([rgb2hsl([1.0,0.0,0.0]), rgb2hsl([0.0,0.0,1.0])], 200)\n",
    "r2b_hwb = gradient_palette([rgb2hwb([1.0,0.0,0.0]), rgb2hwb([0.0,0.0,1.0])], 200)\n",
    "show_multi_palette( \n",
    "    rgb2hsl(r2b_rgb),\n",
    "    lab2hsl(r2b_lab), \n",
    "    hsv2hsl(r2b_hsv),\n",
    "    r2b_hsl,\n",
    "    hwb2hsl(r2b_hwb), \n",
    ")\n"
   ]
  },
  {
   "cell_type": "code",
   "execution_count": 13,
   "metadata": {},
   "outputs": [
    {
     "data": {
      "application/vnd.jupyter.widget-view+json": {
       "model_id": "aae75e39eaed42978a2beb4ba1452160",
       "version_major": 2,
       "version_minor": 0
      },
      "text/plain": [
       "Canvas(height=200, width=720)"
      ]
     },
     "metadata": {},
     "output_type": "display_data"
    }
   ],
   "source": [
    "# Using hue_gradient_palette interprets the first channel of the given colors as \n",
    "# hues and interpolates along the shortest distance between them on the color\n",
    "# circle. \n",
    "\n",
    "r2b_hsv = hue_gradient_palette([rgb2hsv([1.0,0.0,0.0]), rgb2hsv([0.0,0.0,1.0])], 200)\n",
    "r2b_hsl = hue_gradient_palette([rgb2hsl([1.0,0.0,0.0]), rgb2hsl([0.0,0.0,1.0])], 200)\n",
    "r2b_hwb = hue_gradient_palette([rgb2hwb([1.0,0.0,0.0]), rgb2hwb([0.0,0.0,1.0])], 200)\n",
    "show_multi_palette( \n",
    "    rgb2hsl(r2b_rgb),\n",
    "    lab2hsl(r2b_lab), \n",
    "    hsv2hsl(r2b_hsv),\n",
    "    r2b_hsl,\n",
    "    hwb2hsl(r2b_hwb), \n",
    ")"
   ]
  },
  {
   "cell_type": "code",
   "execution_count": 14,
   "metadata": {},
   "outputs": [
    {
     "data": {
      "application/vnd.jupyter.widget-view+json": {
       "model_id": "27a9e380ec4c42ed95c9e59fe9484fe1",
       "version_major": 2,
       "version_minor": 0
      },
      "text/plain": [
       "Canvas(height=200, width=720)"
      ]
     },
     "metadata": {},
     "output_type": "display_data"
    }
   ],
   "source": [
    "# . . . unless you tell it to go the long way around . . .\n",
    "\n",
    "r2c_rgb = gradient_palette([[1.0,1.0,0.0], [0.0,1.0,1.0]], 200)\n",
    "r2c_lab = gradient_palette([rgb2lab([1.0,1.0,0.0]), rgb2lab([0.0,1.0,1.0])], 200)\n",
    "r2c_hsv = hue_gradient_palette([rgb2hsv([1.0,1.0,0.0]), rgb2hsv([0.0,1.0,1.0])], 200, bigarc=True)\n",
    "r2c_hsl = hue_gradient_palette([rgb2hsl([1.0,1.0,0.0]), rgb2hsl([0.0,1.0,1.0])], 200, bigarc=True)\n",
    "r2c_hwb = hue_gradient_palette([rgb2hwb([1.0,1.0,0.0]), rgb2hwb([0.0,1.0,1.0])], 200, bigarc=True)\n",
    "show_multi_palette( \n",
    "    rgb2hsl(r2c_rgb),\n",
    "    lab2hsl(r2c_lab), \n",
    "    hsv2hsl(r2c_hsv),\n",
    "    r2c_hsl,\n",
    "    hwb2hsl(r2c_hwb), \n",
    ")"
   ]
  },
  {
   "cell_type": "code",
   "execution_count": 15,
   "metadata": {},
   "outputs": [
    {
     "data": {
      "application/vnd.jupyter.widget-view+json": {
       "model_id": "39af3579d329477ea89b5b7554ea8984",
       "version_major": 2,
       "version_minor": 0
      },
      "text/plain": [
       "Canvas(height=200, width=720)"
      ]
     },
     "metadata": {},
     "output_type": "display_data"
    }
   ],
   "source": [
    "# The first argument to gradient_palette() is itself a palette. \n",
    "random_6color_gradient = gradient_palette(random_uniform_palette(6), 40)\n",
    "show_palette(random_6color_gradient)"
   ]
  },
  {
   "cell_type": "code",
   "execution_count": 16,
   "metadata": {},
   "outputs": [
    {
     "data": {
      "application/vnd.jupyter.widget-view+json": {
       "model_id": "033064ceab2f46e4bffed69c391d5a7c",
       "version_major": 2,
       "version_minor": 0
      },
      "text/plain": [
       "Canvas(height=200, width=720)"
      ]
     },
     "metadata": {},
     "output_type": "display_data"
    }
   ],
   "source": [
    "grp = golden_ratio_hsl_palette(3, .8, .6)\n",
    "grg = gradient_palette(hsl2rgb(grp), [50,50])\n",
    "hgp = hue_gradient_palette(grp, 50)\n",
    "show_multi_palette(grp, rgb2hsl(grg), hgp)"
   ]
  },
  {
   "cell_type": "code",
   "execution_count": 17,
   "metadata": {},
   "outputs": [
    {
     "data": {
      "application/vnd.jupyter.widget-view+json": {
       "model_id": "11a8a3b04070467c91b70c93d52a0c32",
       "version_major": 2,
       "version_minor": 0
      },
      "text/plain": [
       "Canvas(height=200, width=720)"
      ]
     },
     "metadata": {},
     "output_type": "display_data"
    }
   ],
   "source": [
    "ptmp1 = random_walk_reflection_palette(10, hsl2rgb(grp[0]), 0.01, 0.15)\n",
    "ptmp2 = gradient_palette(ptmp1, 10 )\n",
    "show_multi_palette(\n",
    "    rgb2hsl(ptmp1), \n",
    "    rgb2hsl(ptmp2))"
   ]
  },
  {
   "cell_type": "code",
   "execution_count": 18,
   "metadata": {},
   "outputs": [
    {
     "data": {
      "application/vnd.jupyter.widget-view+json": {
       "model_id": "e0a0f87cd292408ab2818647e70d4148",
       "version_major": 2,
       "version_minor": 0
      },
      "text/plain": [
       "Canvas(height=200, width=720)"
      ]
     },
     "metadata": {},
     "output_type": "display_data"
    }
   ],
   "source": [
    "#92F8AF\n",
    "#86488F\n",
    "show_palette(rgb2hsl(gradient_palette([hex2rgb('#92F8AF'), hex2rgb('#86488F')],6)))"
   ]
  },
  {
   "cell_type": "code",
   "execution_count": 19,
   "metadata": {},
   "outputs": [
    {
     "data": {
      "application/vnd.jupyter.widget-view+json": {
       "model_id": "592a454151d8465dad3f55dc72e51a31",
       "version_major": 2,
       "version_minor": 0
      },
      "text/plain": [
       "Canvas(height=200, width=720)"
      ]
     },
     "metadata": {},
     "output_type": "display_data"
    }
   ],
   "source": [
    "import colorways.masterpalette as mp\n",
    "master = mp.MasterPalette(ptmp2)\n",
    "show_palette(master.hsl)"
   ]
  },
  {
   "cell_type": "code",
   "execution_count": 20,
   "metadata": {},
   "outputs": [
    {
     "data": {
      "application/vnd.jupyter.widget-view+json": {
       "model_id": "f1823e2219f44559b2dd0876c61cea19",
       "version_major": 2,
       "version_minor": 0
      },
      "text/plain": [
       "Canvas(height=200, width=720)"
      ]
     },
     "metadata": {},
     "output_type": "display_data"
    }
   ],
   "source": [
    "show_palette(master.rgb) # Artificial colorspace shift. (Giving RGB vals to show_palette which wants hsl)"
   ]
  },
  {
   "cell_type": "code",
   "execution_count": 21,
   "metadata": {},
   "outputs": [
    {
     "data": {
      "application/vnd.jupyter.widget-view+json": {
       "model_id": "0212b595b95c4f18819a44db173da3bc",
       "version_major": 2,
       "version_minor": 0
      },
      "text/plain": [
       "Canvas(height=200, width=720)"
      ]
     },
     "metadata": {},
     "output_type": "display_data"
    }
   ],
   "source": [
    "clr1 = hex2rgb('#242665')\n",
    "clr2 = hex2rgb('#49c14d')\n",
    "r2b_rgb = gradient_palette([clr1, clr2], 50)\n",
    "r2b_lab = gradient_palette([rgb2lab(clr1), rgb2lab(clr2)], 50)\n",
    "r2b_hsv = hue_gradient_palette([rgb2hsv(clr1), rgb2hsv(clr2)], 50)\n",
    "r2b_hsl = hue_gradient_palette([rgb2hsl(clr1), rgb2hsl(clr2)], 50)\n",
    "r2b_hwb = hue_gradient_palette([rgb2hwb(clr1), rgb2hwb(clr2)], 50)\n",
    "show_multi_palette( \n",
    "    rgb2hsl(r2b_rgb),\n",
    "    lab2hsl(r2b_lab), \n",
    "    hsv2hsl(r2b_hsv),\n",
    "    r2b_hsl,\n",
    "    hwb2hsl(r2b_hwb), \n",
    ")"
   ]
  },
  {
   "cell_type": "code",
   "execution_count": 30,
   "metadata": {},
   "outputs": [
    {
     "data": {
      "application/vnd.jupyter.widget-view+json": {
       "model_id": "5b56a67080e54fe19ed22d7b1ff92b89",
       "version_major": 2,
       "version_minor": 0
      },
      "text/plain": [
       "Canvas(height=200, width=720)"
      ]
     },
     "metadata": {},
     "output_type": "display_data"
    }
   ],
   "source": [
    "#testhex = ['#3B9999', '#215be4', '#8EE8BC', '#001D62', '#8EFEA8', '#C0754E']\n",
    "\n",
    "testa_hex = ['#242665', '#49c14d']\n",
    "#testb_hex = ['#001D62', '#8EFEA8']\n",
    "testb_hex = ['#001D62', '#8EFFA8']\n",
    "testa_pal = hex2rgb(testa_hex)\n",
    "testb_pal = hex2rgb(testb_hex)\n",
    "testnum = [3]\n",
    "\n",
    "\n",
    "testa_hsv = hue_gradient_palette(rgb2hsv(testa_pal), testnum)\n",
    "testa_hsl = hue_gradient_palette(rgb2hsl(testa_pal), testnum)\n",
    "testa_hwb = hue_gradient_palette(rgb2hwb(testa_pal), testnum)\n",
    "\n",
    "testb_hsv = hue_gradient_palette(rgb2hsv(testb_pal), testnum)\n",
    "testb_hsl = hue_gradient_palette(rgb2hsl(testb_pal), testnum)\n",
    "testb_hwb = hue_gradient_palette(rgb2hwb(testb_pal), testnum)\n",
    "\n",
    "show_multi_palette(  \n",
    "    testa_hsl,\n",
    "    hsv2hsl(testa_hsv),\n",
    "    hwb2hsl(testa_hwb),\n",
    "    testb_hsl,\n",
    "    hsv2hsl(testb_hsv),\n",
    "    hwb2hsl(testb_hwb),\n",
    ")"
   ]
  },
  {
   "cell_type": "code",
   "execution_count": 88,
   "metadata": {},
   "outputs": [
    {
     "name": "stdout",
     "output_type": "stream",
     "text": [
      "['#242665', '#349595', '#49C14D']\n",
      "['#242665', '#369393', '#49C14D']\n",
      "['#242665', '#379393', '#49C14D']\n"
     ]
    }
   ],
   "source": [
    "print(hsl2hex(testa_hsl))\n",
    "print(hsv2hex(testa_hsv))\n",
    "print(hwb2hex(testa_hwb))"
   ]
  },
  {
   "cell_type": "code",
   "execution_count": 87,
   "metadata": {},
   "outputs": [
    {
     "name": "stdout",
     "output_type": "stream",
     "text": [
      "['#001D62', '#00F8EF', '#8EFFA8']\n",
      "['#001D62', '#31B0AC', '#8EFFA8']\n",
      "['#001D62', '#47B0AD', '#8EFFA8']\n"
     ]
    }
   ],
   "source": [
    "print(hsl2hex(testb_hsl))\n",
    "print(hsv2hex(testb_hsv))\n",
    "print(hwb2hex(testb_hwb))"
   ]
  },
  {
   "cell_type": "code",
   "execution_count": null,
   "metadata": {},
   "outputs": [],
   "source": []
  }
 ],
 "metadata": {
  "kernelspec": {
   "display_name": "Python 3 (ipykernel)",
   "language": "python",
   "name": "python3"
  },
  "language_info": {
   "codemirror_mode": {
    "name": "ipython",
    "version": 3
   },
   "file_extension": ".py",
   "mimetype": "text/x-python",
   "name": "python",
   "nbconvert_exporter": "python",
   "pygments_lexer": "ipython3",
   "version": "3.9.7"
  }
 },
 "nbformat": 4,
 "nbformat_minor": 4
}

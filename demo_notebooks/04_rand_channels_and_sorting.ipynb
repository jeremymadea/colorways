{
 "cells": [
  {
   "cell_type": "code",
   "execution_count": 1,
   "metadata": {},
   "outputs": [
    {
     "data": {
      "application/vnd.jupyter.widget-view+json": {
       "model_id": "61aa453ef07b4808b1e8fbd65944f788",
       "version_major": 2,
       "version_minor": 0
      },
      "text/plain": [
       "HBox(children=(VBox(children=(Dropdown(description='Mode:', options=(('HSL', 0), ('HSV', 1), ('RGB', 2)), valu…"
      ]
     },
     "metadata": {},
     "output_type": "display_data"
    },
    {
     "data": {
      "application/vnd.jupyter.widget-view+json": {
       "model_id": "cfeed014c2654cee8db349e67f4cd1d5",
       "version_major": 2,
       "version_minor": 0
      },
      "text/plain": [
       "Button(description='Randomize', style=ButtonStyle())"
      ]
     },
     "metadata": {},
     "output_type": "display_data"
    },
    {
     "data": {
      "application/vnd.jupyter.widget-view+json": {
       "model_id": "d5c5f857de3549cf9369a68bbad72c64",
       "version_major": 2,
       "version_minor": 0
      },
      "text/plain": [
       "Canvas(height=200, width=720)"
      ]
     },
     "metadata": {},
     "output_type": "display_data"
    }
   ],
   "source": [
    "%run '04_RandChannelsDemo.py'\n",
    "demo = RandChannelsDemo()\n",
    "demo.draw()"
   ]
  },
  {
   "cell_type": "code",
   "execution_count": 2,
   "metadata": {},
   "outputs": [
    {
     "name": "stdout",
     "output_type": "stream",
     "text": [
      "['#D096A1', '#10180D', '#152F0E', '#210644', '#C8F9DE', '#CB9B87']\n"
     ]
    }
   ],
   "source": [
    "if demo.mode.value == 0:\n",
    "    print([hsl2hex(c) for c in demo.palette])\n",
    "elif demo.mode.value == 1:\n",
    "    print([hsl2hex(c) for c in demo.palette])\n",
    "elif demo.mode.value == 2:\n",
    "    print([rgb2hex(c) for c in demo.palette])\n",
    "    "
   ]
  },
  {
   "cell_type": "code",
   "execution_count": null,
   "metadata": {},
   "outputs": [],
   "source": []
  }
 ],
 "metadata": {
  "kernelspec": {
   "display_name": "Python 3 (ipykernel)",
   "language": "python",
   "name": "python3"
  },
  "language_info": {
   "codemirror_mode": {
    "name": "ipython",
    "version": 3
   },
   "file_extension": ".py",
   "mimetype": "text/x-python",
   "name": "python",
   "nbconvert_exporter": "python",
   "pygments_lexer": "ipython3",
   "version": "3.9.7"
  }
 },
 "nbformat": 4,
 "nbformat_minor": 4
}

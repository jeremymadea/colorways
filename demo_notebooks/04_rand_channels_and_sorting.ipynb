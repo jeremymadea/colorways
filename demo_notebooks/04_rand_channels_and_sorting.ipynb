{
 "cells": [
  {
   "cell_type": "code",
   "execution_count": 1,
   "metadata": {},
   "outputs": [
    {
     "data": {
      "application/vnd.jupyter.widget-view+json": {
       "model_id": "db9890e9bdcb4bc48b0b7a47afcfecda",
       "version_major": 2,
       "version_minor": 0
      },
      "text/plain": [
       "HBox(children=(VBox(children=(Dropdown(description='Mode:', options=(('HSL', 0), ('HSV', 1), ('RGB', 2)), valu…"
      ]
     },
     "metadata": {},
     "output_type": "display_data"
    },
    {
     "data": {
      "application/vnd.jupyter.widget-view+json": {
       "model_id": "8e589c63bcc3455899be62d0194f41e8",
       "version_major": 2,
       "version_minor": 0
      },
      "text/plain": [
       "Button(description='Randomize', style=ButtonStyle())"
      ]
     },
     "metadata": {},
     "output_type": "display_data"
    },
    {
     "data": {
      "application/vnd.jupyter.widget-view+json": {
       "model_id": "51e1b518c9864f6499f0615abb8fa088",
       "version_major": 2,
       "version_minor": 0
      },
      "text/plain": [
       "Canvas(height=200, width=720)"
      ]
     },
     "metadata": {},
     "output_type": "display_data"
    }
   ],
   "source": [
    "%run 'init_notebook.py'\n",
    "%run '04_RandChannelsDemo.py'\n",
    "demo = RandChannelsDemo()\n",
    "demo.draw()"
   ]
  },
  {
   "cell_type": "code",
   "execution_count": 2,
   "metadata": {},
   "outputs": [
    {
     "name": "stdout",
     "output_type": "stream",
     "text": [
      "['#40BFBF', '#2C2124', '#E8E9DF', '#B08247', '#BD166A', '#1D3E65']\n"
     ]
    }
   ],
   "source": [
    "if demo.mode.value == 0:\n",
    "    print([hsl2hex(c) for c in demo.palette])\n",
    "elif demo.mode.value == 1:\n",
    "    print([hsl2hex(c) for c in demo.palette])\n",
    "elif demo.mode.value == 2:\n",
    "    print([rgb2hex(c) for c in demo.palette])\n",
    "    "
   ]
  },
  {
   "cell_type": "code",
   "execution_count": 3,
   "metadata": {},
   "outputs": [],
   "source": [
    "# channel 1\n",
    "#    randhue_palette(n, base):\n",
    "#    randred_palette = randhue_palette\n",
    "\n",
    "# channel 2\n",
    "#    randsat_palette(n, base):\n",
    "#    randgreen_palette = randsat_palette\n",
    "\n",
    "# channel 3\n",
    "#    randlum_palette(n, base):\n",
    "#    randblue_palette = randlum_palette\n",
    "#    randval_palette = randlum_palette\n",
    "\n",
    "# channels 2,3\n",
    "#    randsatlum_palette(n, base):\n",
    "#    randgreenblue_palette = randsatlum_palette\n",
    "#    randsatval_palette = randsatlum_palette\n",
    "\n",
    "# channels 1,2\n",
    "#    randhuesat_palette(n, base):\n",
    "#    randredgreen_palette = randhuesat_palette\n",
    "\n",
    "# channels 1,3\n",
    "#    randhuelum_palette(n, base):\n",
    "#    randredblue_palette = randhuelum_palette\n",
    "#    randhueval_palette = randhuelum_palette"
   ]
  },
  {
   "cell_type": "code",
   "execution_count": 4,
   "metadata": {},
   "outputs": [
    {
     "data": {
      "application/vnd.jupyter.widget-view+json": {
       "model_id": "7e6393763c0e4e1a8b92a85e193e9605",
       "version_major": 2,
       "version_minor": 0
      },
      "text/plain": [
       "Canvas(height=100, width=100)"
      ]
     },
     "metadata": {},
     "output_type": "display_data"
    }
   ],
   "source": [
    "basehsl = hex2hsl('#40BFBF')\n",
    "show_color('#40BFBF')"
   ]
  },
  {
   "cell_type": "code",
   "execution_count": 5,
   "metadata": {},
   "outputs": [
    {
     "data": {
      "application/vnd.jupyter.widget-view+json": {
       "model_id": "0a489840fa1b495fb042dd9af0798d8e",
       "version_major": 2,
       "version_minor": 0
      },
      "text/plain": [
       "Canvas(height=200, width=720)"
      ]
     },
     "metadata": {},
     "output_type": "display_data"
    }
   ],
   "source": [
    "show_palette(randhue_palette(6, basehsl))"
   ]
  },
  {
   "cell_type": "code",
   "execution_count": null,
   "metadata": {},
   "outputs": [],
   "source": []
  }
 ],
 "metadata": {
  "kernelspec": {
   "display_name": "Python 3 (ipykernel)",
   "language": "python",
   "name": "python3"
  },
  "language_info": {
   "codemirror_mode": {
    "name": "ipython",
    "version": 3
   },
   "file_extension": ".py",
   "mimetype": "text/x-python",
   "name": "python",
   "nbconvert_exporter": "python",
   "pygments_lexer": "ipython3",
   "version": "3.9.7"
  }
 },
 "nbformat": 4,
 "nbformat_minor": 4
}

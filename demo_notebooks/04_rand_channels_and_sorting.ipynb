{
 "cells": [
  {
   "cell_type": "code",
   "execution_count": 1,
   "metadata": {},
   "outputs": [
    {
     "data": {
      "application/vnd.jupyter.widget-view+json": {
       "model_id": "eee0143f8c82484e8a16550e6ae31c7a",
       "version_major": 2,
       "version_minor": 0
      },
      "text/plain": [
       "HBox(children=(VBox(children=(Dropdown(description='Mode:', options=(('HSL', 0), ('HSV', 1), ('RGB', 2)), valu…"
      ]
     },
     "metadata": {},
     "output_type": "display_data"
    },
    {
     "data": {
      "application/vnd.jupyter.widget-view+json": {
       "model_id": "0e265ee5bd4a40d992087c1a004bca6d",
       "version_major": 2,
       "version_minor": 0
      },
      "text/plain": [
       "Button(description='Randomize', style=ButtonStyle())"
      ]
     },
     "metadata": {},
     "output_type": "display_data"
    },
    {
     "data": {
      "application/vnd.jupyter.widget-view+json": {
       "model_id": "0a440de5729347c6a47fd86468ceb485",
       "version_major": 2,
       "version_minor": 0
      },
      "text/plain": [
       "Canvas(height=200, width=720)"
      ]
     },
     "metadata": {},
     "output_type": "display_data"
    }
   ],
   "source": [
    "%run '04_RandChannelsDemo.py'\n",
    "demo = RandChannelsDemo()\n",
    "demo.draw()"
   ]
  },
  {
   "cell_type": "code",
   "execution_count": 2,
   "metadata": {},
   "outputs": [
    {
     "name": "stdout",
     "output_type": "stream",
     "text": [
      "['#40BFBF', '#0C1914', '#6E384E', '#350B28', '#56F6B5', '#242424']\n"
     ]
    }
   ],
   "source": [
    "if demo.mode.value == 0:\n",
    "    print([hsl2hex(c) for c in demo.palette])\n",
    "elif demo.mode.value == 1:\n",
    "    print([hsl2hex(c) for c in demo.palette])\n",
    "elif demo.mode.value == 2:\n",
    "    print([rgb2hex(c) for c in demo.palette])\n",
    "    "
   ]
  },
  {
   "cell_type": "code",
   "execution_count": null,
   "metadata": {},
   "outputs": [],
   "source": []
  }
 ],
 "metadata": {
  "kernelspec": {
   "display_name": "Python 3 (ipykernel)",
   "language": "python",
   "name": "python3"
  },
  "language_info": {
   "codemirror_mode": {
    "name": "ipython",
    "version": 3
   },
   "file_extension": ".py",
   "mimetype": "text/x-python",
   "name": "python",
   "nbconvert_exporter": "python",
   "pygments_lexer": "ipython3",
   "version": "3.9.7"
  }
 },
 "nbformat": 4,
 "nbformat_minor": 4
}

{
 "cells": [
  {
   "cell_type": "code",
   "execution_count": 6,
   "id": "61d1876e",
   "metadata": {},
   "outputs": [],
   "source": [
    "%run 'init_notebook.py'"
   ]
  },
  {
   "cell_type": "code",
   "execution_count": 58,
   "id": "f4f48d22",
   "metadata": {},
   "outputs": [
    {
     "data": {
      "application/vnd.jupyter.widget-view+json": {
       "model_id": "f0bd424e854b462e9db0f389b9abd3a4",
       "version_major": 2,
       "version_minor": 0
      },
      "text/plain": [
       "Canvas(height=200, width=720)"
      ]
     },
     "metadata": {},
     "output_type": "display_data"
    }
   ],
   "source": [
    "basepal = random_uniform_palette(3)\n",
    "show_palette(basepal)"
   ]
  },
  {
   "cell_type": "code",
   "execution_count": 59,
   "id": "c2f20b44",
   "metadata": {},
   "outputs": [
    {
     "data": {
      "application/vnd.jupyter.widget-view+json": {
       "model_id": "b29df20eb29447a8b93bdfa820b871a9",
       "version_major": 2,
       "version_minor": 0
      },
      "text/plain": [
       "Canvas(height=200, width=720)"
      ]
     },
     "metadata": {},
     "output_type": "display_data"
    }
   ],
   "source": [
    "ppal = perms_palette(basepal)\n",
    "show_palette(sort_palette_by_l(ppal))"
   ]
  },
  {
   "cell_type": "code",
   "execution_count": 49,
   "id": "8118adbb",
   "metadata": {},
   "outputs": [
    {
     "data": {
      "text/plain": [
       "27"
      ]
     },
     "execution_count": 49,
     "metadata": {},
     "output_type": "execute_result"
    }
   ],
   "source": [
    "len(ppal)"
   ]
  },
  {
   "cell_type": "code",
   "execution_count": 50,
   "id": "a9587141",
   "metadata": {},
   "outputs": [
    {
     "data": {
      "text/plain": [
       "[[0.5, 0.5, 0.5],\n",
       " [0.5, 0.5, 0.9325893781723573],\n",
       " [0.5, 0.5, 0.48339120385328815],\n",
       " [0.5, 0.4776928747549629, 0.5],\n",
       " [0.5, 0.4776928747549629, 0.9325893781723573],\n",
       " [0.5, 0.4776928747549629, 0.48339120385328815],\n",
       " [0.5, 0.9927293353135174, 0.5],\n",
       " [0.5, 0.9927293353135174, 0.9325893781723573],\n",
       " [0.5, 0.9927293353135174, 0.48339120385328815],\n",
       " [0.23654799495142242, 0.5, 0.5],\n",
       " [0.23654799495142242, 0.5, 0.9325893781723573],\n",
       " [0.23654799495142242, 0.5, 0.48339120385328815],\n",
       " [0.23654799495142242, 0.4776928747549629, 0.5],\n",
       " [0.23654799495142242, 0.4776928747549629, 0.9325893781723573],\n",
       " [0.23654799495142242, 0.4776928747549629, 0.48339120385328815],\n",
       " [0.23654799495142242, 0.9927293353135174, 0.5],\n",
       " [0.23654799495142242, 0.9927293353135174, 0.9325893781723573],\n",
       " [0.23654799495142242, 0.9927293353135174, 0.48339120385328815],\n",
       " [0.4703316535753448, 0.5, 0.5],\n",
       " [0.4703316535753448, 0.5, 0.9325893781723573],\n",
       " [0.4703316535753448, 0.5, 0.48339120385328815],\n",
       " [0.4703316535753448, 0.4776928747549629, 0.5],\n",
       " [0.4703316535753448, 0.4776928747549629, 0.9325893781723573],\n",
       " [0.4703316535753448, 0.4776928747549629, 0.48339120385328815],\n",
       " [0.4703316535753448, 0.9927293353135174, 0.5],\n",
       " [0.4703316535753448, 0.9927293353135174, 0.9325893781723573],\n",
       " [0.4703316535753448, 0.9927293353135174, 0.48339120385328815]]"
      ]
     },
     "execution_count": 50,
     "metadata": {},
     "output_type": "execute_result"
    }
   ],
   "source": [
    "ppal"
   ]
  },
  {
   "cell_type": "code",
   "execution_count": 69,
   "id": "a98ee3e2",
   "metadata": {},
   "outputs": [
    {
     "data": {
      "application/vnd.jupyter.widget-view+json": {
       "model_id": "bed766296d9f48e4a328feb7fd79e469",
       "version_major": 2,
       "version_minor": 0
      },
      "text/plain": [
       "Canvas(height=200, width=720)"
      ]
     },
     "metadata": {},
     "output_type": "display_data"
    }
   ],
   "source": [
    "show_palette(sort_palette_by_s(rgb2hsl(perms_palette([[0,0,0],[1,1,1]]))))"
   ]
  },
  {
   "cell_type": "code",
   "execution_count": null,
   "id": "b57509db",
   "metadata": {},
   "outputs": [],
   "source": []
  }
 ],
 "metadata": {
  "kernelspec": {
   "display_name": "Python 3 (ipykernel)",
   "language": "python",
   "name": "python3"
  },
  "language_info": {
   "codemirror_mode": {
    "name": "ipython",
    "version": 3
   },
   "file_extension": ".py",
   "mimetype": "text/x-python",
   "name": "python",
   "nbconvert_exporter": "python",
   "pygments_lexer": "ipython3",
   "version": "3.9.7"
  }
 },
 "nbformat": 4,
 "nbformat_minor": 5
}

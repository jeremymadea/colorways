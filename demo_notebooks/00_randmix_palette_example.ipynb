{
 "cells": [
  {
   "cell_type": "code",
   "execution_count": 1,
   "metadata": {},
   "outputs": [
    {
     "data": {
      "application/vnd.jupyter.widget-view+json": {
       "model_id": "669ac380124a41f198d867077f102aea",
       "version_major": 2,
       "version_minor": 0
      },
      "text/plain": [
       "HBox(children=(Dropdown(description='Mode:', options=(('HSL', 0), ('HSV', 1), ('RGB', 2)), value=0), IntSlider…"
      ]
     },
     "metadata": {},
     "output_type": "display_data"
    },
    {
     "data": {
      "application/vnd.jupyter.widget-view+json": {
       "model_id": "8960e1e4392c421fba74dbf3e58e2099",
       "version_major": 2,
       "version_minor": 0
      },
      "text/plain": [
       "HBox(children=(ColorPicker(value='#859CE6', description='Base Color'), FloatSlider(value=0.5, description='Wei…"
      ]
     },
     "metadata": {},
     "output_type": "display_data"
    },
    {
     "data": {
      "application/vnd.jupyter.widget-view+json": {
       "model_id": "89de93e8513e4d488ff0cc910f9abaaf",
       "version_major": 2,
       "version_minor": 0
      },
      "text/plain": [
       "Button(description='Randomize', style=ButtonStyle())"
      ]
     },
     "metadata": {},
     "output_type": "display_data"
    },
    {
     "data": {
      "application/vnd.jupyter.widget-view+json": {
       "model_id": "8c29600532be4fb5bf91e8a3d607d477",
       "version_major": 2,
       "version_minor": 0
      },
      "text/plain": [
       "Canvas(height=200, width=720)"
      ]
     },
     "metadata": {},
     "output_type": "display_data"
    }
   ],
   "source": [
    "%run '00_RandmixPaletteDemo.py'\n",
    "demo = RandmixPaletteDemo()\n",
    "demo.draw()"
   ]
  },
  {
   "cell_type": "code",
   "execution_count": 3,
   "metadata": {},
   "outputs": [
    {
     "name": "stdout",
     "output_type": "stream",
     "text": [
      "['#A7BA1F', '#496A7C', '#2A20CA', '#9EBCC7', '#92D07F', '#516693', '#6EBFB3', '#3A3BE4', '#E3E8D7', '#42B78E', '#D0E7CE', '#6267AE', '#959F71', '#59C09A', '#7580B9', '#CAE1F8', '#E5E4D0', '#89D19F', '#B8F5DB', '#1BAFA9', '#EAF0F6', '#80E197', '#829F6E', '#834AE0', '#568ABC', '#94A4D5', '#D2C4E4', '#CFD2BC', '#C2D1A4', '#9FCEC8', '#93AF8B', '#69B76E', '#78E371', '#E8F6D2', '#758DA6', '#45993B', '#F0F5F7', '#88BF92', '#69D6D2', '#546483', '#A7D0EA', '#4DB7BD', '#EEF6FA', '#EDEFF3', '#54704F', '#E7EDD9', '#A6B31C', '#C9CFDE', '#426DB1', '#5484CB', '#E6EAD7', '#C5C5E0', '#EFE7F8', '#6C61E4', '#5DBC55', '#7183AA', '#6D56A9', '#84BA68', '#41CF58', '#2AD1C9', '#8DE068', '#6A59A0', '#6CB952', '#C2E8A8', '#2ED56E', '#AFECF4', '#ADD0EA', '#D3EAB5', '#58DAC9', '#4A4E8D', '#74B84B', '#6B7EA8', '#94DACF', '#7E7FB4', '#99E6B4', '#4E87B2', '#D9EDB9', '#2A9862', '#D8D78C', '#E4EDF1', '#938DB9', '#B7E7F4', '#408247', '#BECFB2', '#90C2AE', '#DDE1EC', '#E0E6A9', '#B3E0AE', '#3E55A6', '#E7E778', '#DDE4F4', '#A8C8AA', '#523C88', '#7B5FC4', '#3380D8', '#45A51E', '#D9EFEB', '#394E94', '#82C330', '#2A5497', '#9ED0AC', '#C9DFA3', '#DED8F0']\n"
     ]
    }
   ],
   "source": [
    "if demo.mode.value == 0:\n",
    "    print([hsl2hex(c) for c in demo.palette])\n",
    "elif demo.mode.value == 1:\n",
    "    print([hsl2hex(c) for c in demo.palette])\n",
    "elif demo.mode.value == 2:\n",
    "    print([rgb2hex(c) for c in demo.palette])"
   ]
  },
  {
   "cell_type": "code",
   "execution_count": null,
   "metadata": {},
   "outputs": [],
   "source": []
  }
 ],
 "metadata": {
  "kernelspec": {
   "display_name": "Python 3 (ipykernel)",
   "language": "python",
   "name": "python3"
  },
  "language_info": {
   "codemirror_mode": {
    "name": "ipython",
    "version": 3
   },
   "file_extension": ".py",
   "mimetype": "text/x-python",
   "name": "python",
   "nbconvert_exporter": "python",
   "pygments_lexer": "ipython3",
   "version": "3.9.7"
  }
 },
 "nbformat": 4,
 "nbformat_minor": 4
}

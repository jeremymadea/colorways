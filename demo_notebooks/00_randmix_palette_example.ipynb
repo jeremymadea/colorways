{
 "cells": [
  {
   "cell_type": "code",
   "execution_count": 1,
   "metadata": {},
   "outputs": [
    {
     "data": {
      "application/vnd.jupyter.widget-view+json": {
       "model_id": "3e26ac26c92444be9c348dc363c9404e",
       "version_major": 2,
       "version_minor": 0
      },
      "text/plain": [
       "HBox(children=(Dropdown(description='Mode:', options=(('HSL', 0), ('HSV', 1), ('RGB', 2)), value=0), IntSlider…"
      ]
     },
     "metadata": {},
     "output_type": "display_data"
    },
    {
     "data": {
      "application/vnd.jupyter.widget-view+json": {
       "model_id": "bcae9bcff354427988cb53d6e5ef5364",
       "version_major": 2,
       "version_minor": 0
      },
      "text/plain": [
       "HBox(children=(ColorPicker(value='#09D4E8', description='Base Color'), FloatSlider(value=0.5, description='Wei…"
      ]
     },
     "metadata": {},
     "output_type": "display_data"
    },
    {
     "data": {
      "application/vnd.jupyter.widget-view+json": {
       "model_id": "0beebef302bb4b8e804f336d9d468606",
       "version_major": 2,
       "version_minor": 0
      },
      "text/plain": [
       "Button(description='Randomize', style=ButtonStyle())"
      ]
     },
     "metadata": {},
     "output_type": "display_data"
    },
    {
     "data": {
      "application/vnd.jupyter.widget-view+json": {
       "model_id": "79fb8e49324a4109adb8be4fd43814f3",
       "version_major": 2,
       "version_minor": 0
      },
      "text/plain": [
       "Canvas(height=200, width=720)"
      ]
     },
     "metadata": {},
     "output_type": "display_data"
    }
   ],
   "source": [
    "%run '00_RandmixPaletteDemo.py'\n",
    "demo = RandmixPaletteDemo()\n",
    "demo.draw()"
   ]
  },
  {
   "cell_type": "code",
   "execution_count": 13,
   "metadata": {},
   "outputs": [
    {
     "name": "stdout",
     "output_type": "stream",
     "text": [
      "['#316854', '#80B350', '#80F99D', '#C1F384', '#90D645', '#9BE65D', '#7DD8F2', '#73DAFB', '#28544F', '#25504F', '#036E24', '#368E58', '#5305A4', '#5B9BBA', '#1B1964', '#067E25', '#5E33CF', '#A4C6E6', '#1D51EB', '#66CD91', '#124C33', '#C364D3', '#17483B', '#7440EA', '#0FB05D', '#45621F', '#BC7FDD', '#4BC8C7', '#23A976', '#6A74ED', '#195C23', '#97BBF8', '#AAD650', '#341851', '#0F32E4', '#8DB504', '#B541E0', '#4C367E', '#3A71A1', '#36806B', '#9CCD3C', '#266A23', '#8DAB4F', '#188868', '#737AF8', '#6351C1', '#3B960C', '#B78FD4', '#5479E4', '#27B762', '#2D5F39', '#9A30BE', '#81F3EA', '#D299FA', '#153DD2', '#595EC6', '#0A2DAF', '#1381BF', '#0BD7AD', '#14A76C', '#5C67D6', '#7DE8D2', '#BCA9EE', '#8F8BCE', '#A5DCEB', '#806EDB', '#620D7B', '#114D3F', '#65C3B7', '#93ED78', '#9BA2FC', '#462657', '#7FFC98', '#2C2EB4', '#DCF491', '#65BB86', '#375826', '#88C69E', '#B3DFB5', '#CE89F5', '#A6B0E4', '#942CC0', '#7C1BAF', '#8FD1ED', '#5B61CB', '#62F467', '#21541C', '#CB67E4', '#81F5A6', '#7AC49C', '#459484', '#54B5FC', '#1A20EF', '#3B570E', '#6A2BE9', '#96E556', '#15AB0E', '#10780D', '#5E98F5', '#8B11DE', '#D578F8', '#6CD410', '#387F6B', '#0F7C74', '#324ACA', '#37587F', '#5BD4EC', '#575AC8', '#A6EFEB', '#6A7BC5', '#36F7C8', '#380864', '#288E25', '#116033', '#592E6D', '#3370D0', '#4C3A7C', '#8787FB', '#136726', '#93E9DC', '#A09FE8', '#8C45E5', '#69A6E6', '#BC88E5', '#53C4F0', '#151672', '#68C0F7', '#A178C3', '#3C992D', '#6A8ABE', '#D0FB8C', '#9D63F3', '#075918', '#B40DF3', '#746CF4', '#93D9D2', '#0FE2AE', '#3A0D65', '#2DD146', '#A8CDEC', '#9045D8', '#97CD78', '#4C8FDC', '#86D9BA', '#CC90DD', '#1B1942', '#532378', '#68DEBF', '#1A515B', '#976CC3', '#266761', '#9CDCE4', '#CD90E2', '#324B13', '#428692', '#418F1C', '#21627F', '#A248BD', '#059E6E', '#556629', '#669F2C', '#045969', '#B8D781', '#179199', '#1F5083', '#2CDBD4', '#92E6E8', '#68A0F8', '#8E85DB', '#2E1949', '#78C0D2', '#4A1A92', '#1F9087', '#5F0E80', '#261351', '#C8F593', '#54B9B3', '#902EB5', '#7A13C4', '#7EF3DE', '#1B613F', '#C84BFC', '#22256F', '#5724DD', '#1CAE39', '#D69BE2', '#1AB16D', '#13C9EA', '#122357', '#90F2B8', '#99F4F3', '#62F5D4', '#176D75', '#A5D0F1', '#B8FA76', '#063958', '#9559F3', '#5886BF', '#92EFA6', '#06C834', '#9DF792', '#C4ED9D', '#1ADC0E', '#684EB6', '#A3E6AB', '#5AFB36', '#952EA2', '#06AFA5', '#5BD7E5', '#55C5E6', '#80A4EA', '#08B5C7', '#6AE7C4', '#77D7CC', '#8D2BCA', '#9BC12A', '#9BCBEA', '#292187', '#6F4AD6', '#25ADA1', '#34F238', '#14196C', '#1F09B0', '#049946', '#9FD740', '#610287', '#889F2E', '#384716', '#2ACDC9', '#0C672D', '#501A57', '#A2DEBC', '#679F49', '#0947E9', '#93F12C', '#3ABF0B', '#307679', '#35E3F0', '#1BA371', '#11BF8C', '#478F97', '#2B7275', '#1341EF', '#0F2ECE', '#35D590', '#A2AFEE', '#335A78', '#401FB3', '#96DA82', '#742FA0']\n"
     ]
    }
   ],
   "source": [
    "if demo.mode.value == 0:\n",
    "    print([hsl2hex(c) for c in demo.palette])\n",
    "elif demo.mode.value == 1:\n",
    "    print([hsl2hex(c) for c in demo.palette])\n",
    "elif demo.mode.value == 2:\n",
    "    print([rgb2hex(c) for c in demo.palette])"
   ]
  },
  {
   "cell_type": "code",
   "execution_count": 12,
   "metadata": {},
   "outputs": [
    {
     "data": {
      "application/vnd.jupyter.widget-view+json": {
       "model_id": "b326e449fdb3499f87bd7ac297d5d8ed",
       "version_major": 2,
       "version_minor": 0
      },
      "text/plain": [
       "Canvas(height=200, width=720)"
      ]
     },
     "metadata": {},
     "output_type": "display_data"
    }
   ],
   "source": [
    "%run 'init_notebook.py'\n",
    "show_palette(sort_palette_by_l(demo.palette))"
   ]
  },
  {
   "cell_type": "code",
   "execution_count": null,
   "metadata": {},
   "outputs": [],
   "source": []
  }
 ],
 "metadata": {
  "kernelspec": {
   "display_name": "Python 3 (ipykernel)",
   "language": "python",
   "name": "python3"
  },
  "language_info": {
   "codemirror_mode": {
    "name": "ipython",
    "version": 3
   },
   "file_extension": ".py",
   "mimetype": "text/x-python",
   "name": "python",
   "nbconvert_exporter": "python",
   "pygments_lexer": "ipython3",
   "version": "3.9.7"
  }
 },
 "nbformat": 4,
 "nbformat_minor": 4
}

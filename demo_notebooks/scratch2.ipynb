{
 "cells": [
  {
   "cell_type": "code",
   "execution_count": 1,
   "metadata": {},
   "outputs": [],
   "source": [
    "from cmath import *"
   ]
  },
  {
   "cell_type": "code",
   "execution_count": 25,
   "metadata": {},
   "outputs": [
    {
     "data": {
      "text/plain": [
       "[(1+0j),\n",
       " (0.8090169943749475+0.5877852522924731j),\n",
       " (0.30901699437494745+0.9510565162951535j),\n",
       " (-0.30901699437494734+0.9510565162951536j),\n",
       " (-0.8090169943749473+0.5877852522924732j),\n",
       " (-1+1.2246467991473532e-16j),\n",
       " (-0.8090169943749475-0.587785252292473j),\n",
       " (-0.30901699437494756-0.9510565162951535j),\n",
       " (0.30901699437494723-0.9510565162951536j),\n",
       " (0.8090169943749473-0.5877852522924732j)]"
      ]
     },
     "execution_count": 25,
     "metadata": {},
     "output_type": "execute_result"
    }
   ],
   "source": [
    "def roots_of_unity(n):\n",
    "    return [ e**((tau*1j*k)/n) for k in range(n) ]\n",
    "\n",
    "n=10\n",
    "roots_of_unity(n)"
   ]
  },
  {
   "cell_type": "code",
   "execution_count": null,
   "metadata": {},
   "outputs": [],
   "source": []
  }
 ],
 "metadata": {
  "kernelspec": {
   "display_name": "Python 3",
   "language": "python",
   "name": "python3"
  },
  "language_info": {
   "codemirror_mode": {
    "name": "ipython",
    "version": 3
   },
   "file_extension": ".py",
   "mimetype": "text/x-python",
   "name": "python",
   "nbconvert_exporter": "python",
   "pygments_lexer": "ipython3",
   "version": "3.6.10"
  }
 },
 "nbformat": 4,
 "nbformat_minor": 4
}

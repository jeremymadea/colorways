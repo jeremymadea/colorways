{
 "cells": [
  {
   "cell_type": "code",
   "execution_count": 1,
   "metadata": {},
   "outputs": [],
   "source": [
    "%run init_notebook.py"
   ]
  },
  {
   "cell_type": "code",
   "execution_count": 2,
   "metadata": {},
   "outputs": [],
   "source": [
    "import colorways.masterpalette as mp"
   ]
  },
  {
   "cell_type": "code",
   "execution_count": 3,
   "metadata": {},
   "outputs": [],
   "source": [
    "# Create a random walk palette in RGB space, convert to HSL, and make a MasterPalette object out of it.\n",
    "palette = mp.MasterPalette(rgb2hsl(random_walk_reflection_palette(100, [0.5, 0, 0.5], 0.05, 0.12)))"
   ]
  },
  {
   "cell_type": "code",
   "execution_count": 4,
   "metadata": {},
   "outputs": [
    {
     "name": "stdout",
     "output_type": "stream",
     "text": [
      "HSL mean saturation: 0.6104424775732179\n",
      "RGB maximum red: 0.975273897592782\n",
      "HSV standard deviation of value:  0.14781066927877834\n",
      "\n",
      "Mean hue:  0.4062735924128666\n"
     ]
    },
    {
     "data": {
      "application/vnd.jupyter.widget-view+json": {
       "model_id": "fe645f8d53794f87b09633b48c4c9758",
       "version_major": 2,
       "version_minor": 0
      },
      "text/plain": [
       "Canvas(height=100, width=100)"
      ]
     },
     "metadata": {},
     "output_type": "display_data"
    }
   ],
   "source": [
    "print(\"HSL mean saturation:\", palette.hsl_mean_s)\n",
    "print(\"RGB maximum red:\", palette.rgb_max_r)\n",
    "print(\"HSV standard deviation of value: \", palette.hsv_std_v)\n",
    "print()\n",
    "print(\"Mean hue: \", palette.mean_hue)\n",
    "show_hsl_color([palette.mean_hue, 1, 0.5])"
   ]
  },
  {
   "cell_type": "code",
   "execution_count": 5,
   "metadata": {},
   "outputs": [
    {
     "data": {
      "application/vnd.jupyter.widget-view+json": {
       "model_id": "43a5fc39cdff42aa8345e3ab3ab5855d",
       "version_major": 2,
       "version_minor": 0
      },
      "text/plain": [
       "Canvas(height=200, width=720)"
      ]
     },
     "metadata": {},
     "output_type": "display_data"
    }
   ],
   "source": [
    "show_palette(palette.hsl)"
   ]
  },
  {
   "cell_type": "code",
   "execution_count": 6,
   "metadata": {},
   "outputs": [
    {
     "data": {
      "application/vnd.jupyter.widget-view+json": {
       "model_id": "d0680375cfde49bebae2b0a4da79cded",
       "version_major": 2,
       "version_minor": 0
      },
      "text/plain": [
       "Canvas(height=200, width=720)"
      ]
     },
     "metadata": {},
     "output_type": "display_data"
    }
   ],
   "source": [
    "show_palette(palette.get_hsl(order='by-hue'))"
   ]
  },
  {
   "cell_type": "code",
   "execution_count": 7,
   "metadata": {},
   "outputs": [
    {
     "data": {
      "application/vnd.jupyter.widget-view+json": {
       "model_id": "65664b7edf484aa4b356f890c190ec0d",
       "version_major": 2,
       "version_minor": 0
      },
      "text/plain": [
       "Canvas(height=200, width=720)"
      ]
     },
     "metadata": {},
     "output_type": "display_data"
    }
   ],
   "source": [
    "show_palette(palette.get_hsl(order='by-lsat'))"
   ]
  },
  {
   "cell_type": "code",
   "execution_count": 8,
   "metadata": {},
   "outputs": [
    {
     "data": {
      "application/vnd.jupyter.widget-view+json": {
       "model_id": "b84f80fe3d184d60b703e4d064003644",
       "version_major": 2,
       "version_minor": 0
      },
      "text/plain": [
       "Canvas(height=200, width=720)"
      ]
     },
     "metadata": {},
     "output_type": "display_data"
    }
   ],
   "source": [
    "show_palette(palette.get_hsl(order='by-vsat'))"
   ]
  },
  {
   "cell_type": "code",
   "execution_count": 9,
   "metadata": {},
   "outputs": [
    {
     "data": {
      "application/vnd.jupyter.widget-view+json": {
       "model_id": "2ec83d9918ab427994827bb0f84155d7",
       "version_major": 2,
       "version_minor": 0
      },
      "text/plain": [
       "Canvas(height=200, width=720)"
      ]
     },
     "metadata": {},
     "output_type": "display_data"
    }
   ],
   "source": [
    "show_palette(palette.get_hsl(order='by-lum'))"
   ]
  },
  {
   "cell_type": "code",
   "execution_count": 10,
   "metadata": {},
   "outputs": [
    {
     "data": {
      "application/vnd.jupyter.widget-view+json": {
       "model_id": "b557c482cda04b4da21b1fff96817c25",
       "version_major": 2,
       "version_minor": 0
      },
      "text/plain": [
       "Canvas(height=200, width=720)"
      ]
     },
     "metadata": {},
     "output_type": "display_data"
    }
   ],
   "source": [
    "show_palette(palette.get_hsl(order='by-val'))"
   ]
  },
  {
   "cell_type": "code",
   "execution_count": 11,
   "metadata": {},
   "outputs": [
    {
     "data": {
      "application/vnd.jupyter.widget-view+json": {
       "model_id": "eec167338973421780e7d2ee0ccb65d6",
       "version_major": 2,
       "version_minor": 0
      },
      "text/plain": [
       "Canvas(height=200, width=720)"
      ]
     },
     "metadata": {},
     "output_type": "display_data"
    }
   ],
   "source": [
    "show_palette(palette.get_hsl(order='by-white'))"
   ]
  },
  {
   "cell_type": "code",
   "execution_count": 12,
   "metadata": {},
   "outputs": [
    {
     "data": {
      "application/vnd.jupyter.widget-view+json": {
       "model_id": "29df273d52954685bac8e221ad8daff9",
       "version_major": 2,
       "version_minor": 0
      },
      "text/plain": [
       "Canvas(height=200, width=720)"
      ]
     },
     "metadata": {},
     "output_type": "display_data"
    }
   ],
   "source": [
    "show_palette(palette.get_hsl(order='by-black'))"
   ]
  },
  {
   "cell_type": "code",
   "execution_count": 13,
   "metadata": {},
   "outputs": [
    {
     "data": {
      "application/vnd.jupyter.widget-view+json": {
       "model_id": "aa2814216e724d058d7fd399f0ecbaec",
       "version_major": 2,
       "version_minor": 0
      },
      "text/plain": [
       "Canvas(height=200, width=720)"
      ]
     },
     "metadata": {},
     "output_type": "display_data"
    }
   ],
   "source": [
    "show_palette(palette.get_hsl(order='by-L'))"
   ]
  },
  {
   "cell_type": "code",
   "execution_count": 14,
   "metadata": {},
   "outputs": [
    {
     "data": {
      "application/vnd.jupyter.widget-view+json": {
       "model_id": "04f83b7d6af2439ca85158ebee071df9",
       "version_major": 2,
       "version_minor": 0
      },
      "text/plain": [
       "Canvas(height=200, width=720)"
      ]
     },
     "metadata": {},
     "output_type": "display_data"
    }
   ],
   "source": [
    "show_palette(palette.get_hsl(order='by-luma'))"
   ]
  },
  {
   "cell_type": "code",
   "execution_count": 15,
   "metadata": {},
   "outputs": [
    {
     "data": {
      "application/vnd.jupyter.widget-view+json": {
       "model_id": "7f24d947187b4b5ca099b9c41064aa47",
       "version_major": 2,
       "version_minor": 0
      },
      "text/plain": [
       "Canvas(height=200, width=720)"
      ]
     },
     "metadata": {},
     "output_type": "display_data"
    }
   ],
   "source": [
    "show_palette(palette.get_hsl(order='by-r'))"
   ]
  },
  {
   "cell_type": "code",
   "execution_count": 16,
   "metadata": {},
   "outputs": [
    {
     "data": {
      "application/vnd.jupyter.widget-view+json": {
       "model_id": "aba82e4cb4b54d429c38d1ba2e829350",
       "version_major": 2,
       "version_minor": 0
      },
      "text/plain": [
       "Canvas(height=200, width=720)"
      ]
     },
     "metadata": {},
     "output_type": "display_data"
    }
   ],
   "source": [
    "show_palette(palette.get_hsl(order='by-g'))"
   ]
  },
  {
   "cell_type": "code",
   "execution_count": 17,
   "metadata": {},
   "outputs": [
    {
     "data": {
      "application/vnd.jupyter.widget-view+json": {
       "model_id": "66e4ff87b33941678c018c4c68fa6cc3",
       "version_major": 2,
       "version_minor": 0
      },
      "text/plain": [
       "Canvas(height=200, width=720)"
      ]
     },
     "metadata": {},
     "output_type": "display_data"
    }
   ],
   "source": [
    "show_palette(palette.get_hsl(order='by-b'))"
   ]
  },
  {
   "cell_type": "code",
   "execution_count": 18,
   "metadata": {},
   "outputs": [
    {
     "data": {
      "application/vnd.jupyter.widget-view+json": {
       "model_id": "8b9e1723cc6543399dea755cb9d67a8f",
       "version_major": 2,
       "version_minor": 0
      },
      "text/plain": [
       "Canvas(height=200, width=720)"
      ]
     },
     "metadata": {},
     "output_type": "display_data"
    }
   ],
   "source": [
    "# Custom ordering\n",
    "\n",
    "def by_rb_diff(mpal, i):\n",
    "    return abs(mpal.rgb[i][0]-mpal.rgb[i][2])\n",
    "\n",
    "palette.create_ordering('by-rb-diff', by_rb_diff)\n",
    "\n",
    "show_palette(palette.get_hsl(order='by-rb-diff'))"
   ]
  },
  {
   "cell_type": "code",
   "execution_count": 19,
   "metadata": {},
   "outputs": [
    {
     "data": {
      "application/vnd.jupyter.widget-view+json": {
       "model_id": "f4a721f2b5b840668239c1d032456a2b",
       "version_major": 2,
       "version_minor": 0
      },
      "text/plain": [
       "Canvas(height=200, width=720)"
      ]
     },
     "metadata": {},
     "output_type": "display_data"
    }
   ],
   "source": [
    "# Custom ordering by distance using new_order_by_dist_closure() helper.\n",
    "\n",
    "palette.create_ordering('de2000-to-8e8e2c', mp.new_order_by_dist_closure('#8E8E2C', ciede2000)) \n",
    "show_palette(palette.get_hsl(order='de2000-to-8e8e2c'))"
   ]
  },
  {
   "cell_type": "code",
   "execution_count": 20,
   "metadata": {},
   "outputs": [
    {
     "data": {
      "application/vnd.jupyter.widget-view+json": {
       "model_id": "1241774e98de43ec9f4a869182dbfb3f",
       "version_major": 2,
       "version_minor": 0
      },
      "text/plain": [
       "Canvas(height=100, width=100)"
      ]
     },
     "metadata": {},
     "output_type": "display_data"
    }
   ],
   "source": [
    "show_color('#8E8E2C')"
   ]
  },
  {
   "cell_type": "code",
   "execution_count": 21,
   "metadata": {},
   "outputs": [
    {
     "data": {
      "application/vnd.jupyter.widget-view+json": {
       "model_id": "40d13c62670d47629f88b7d1acaf580a",
       "version_major": 2,
       "version_minor": 0
      },
      "text/plain": [
       "Canvas(height=200, width=720)"
      ]
     },
     "metadata": {},
     "output_type": "display_data"
    }
   ],
   "source": [
    "palette.create_ordering('cie94-to-yellow', mp.new_order_by_dist_closure('#FFFF00', cie94)) \n",
    "show_palette(palette.get_hsl(order='cie94-to-yellow'))"
   ]
  },
  {
   "cell_type": "code",
   "execution_count": 22,
   "metadata": {},
   "outputs": [
    {
     "data": {
      "application/vnd.jupyter.widget-view+json": {
       "model_id": "93e488a714cc478a8eaea59f42d27723",
       "version_major": 2,
       "version_minor": 0
      },
      "text/plain": [
       "Canvas(height=100, width=100)"
      ]
     },
     "metadata": {},
     "output_type": "display_data"
    }
   ],
   "source": [
    "show_color('#FFFF00')"
   ]
  },
  {
   "cell_type": "code",
   "execution_count": 23,
   "metadata": {},
   "outputs": [
    {
     "data": {
      "application/vnd.jupyter.widget-view+json": {
       "model_id": "a04216840e2540fe8c1512bf2e3d4dcd",
       "version_major": 2,
       "version_minor": 0
      },
      "text/plain": [
       "Canvas(height=200, width=720)"
      ]
     },
     "metadata": {},
     "output_type": "display_data"
    }
   ],
   "source": [
    "palette.create_bin_ordering('by-hue-lum', 3, 'by-hue', 'by-lum')\n",
    "show_palette(palette.get_hsl(order='by-hue-lum'))"
   ]
  },
  {
   "cell_type": "code",
   "execution_count": 24,
   "metadata": {},
   "outputs": [
    {
     "data": {
      "application/vnd.jupyter.widget-view+json": {
       "model_id": "59080e10ad1e4856843cb576819a9352",
       "version_major": 2,
       "version_minor": 0
      },
      "text/plain": [
       "Canvas(height=200, width=720)"
      ]
     },
     "metadata": {},
     "output_type": "display_data"
    }
   ],
   "source": [
    "# Example of modify_palette function. (Procedural API)\n",
    "\n",
    "def shade(x, i, n, maximum=1.0):\n",
    "    return min(maximum, x * (i+1)/n * maximum)\n",
    "\n",
    "p2 = modify_palette(palette.hsl, 2, shade, maximum=0.8)\n",
    "show_palette(p2)"
   ]
  },
  {
   "cell_type": "code",
   "execution_count": 25,
   "metadata": {},
   "outputs": [
    {
     "data": {
      "application/vnd.jupyter.widget-view+json": {
       "model_id": "cf46a32f70164c5d8736d75295b75a29",
       "version_major": 2,
       "version_minor": 0
      },
      "text/plain": [
       "Canvas(height=200, width=720)"
      ]
     },
     "metadata": {},
     "output_type": "display_data"
    }
   ],
   "source": [
    "# MasterPalette's gen() method is a lot more flexible than modify_palette. \n",
    "\n",
    "# The original palette . . . \n",
    "\n",
    "show_palette(palette.hsl)"
   ]
  },
  {
   "cell_type": "code",
   "execution_count": 26,
   "metadata": {},
   "outputs": [
    {
     "data": {
      "application/vnd.jupyter.widget-view+json": {
       "model_id": "8dc2bf45c6f94e54bcf67834eb4b60ca",
       "version_major": 2,
       "version_minor": 0
      },
      "text/plain": [
       "Canvas(height=200, width=720)"
      ]
     },
     "metadata": {},
     "output_type": "display_data"
    }
   ],
   "source": [
    "# HSL with luma substituted for the L channel.\n",
    "ptmp = palette.gen(lambda mp, i: [mp.hsl_h[i], mp.hsl_s[i], mp.luma[i]])\n",
    "show_palette(ptmp)\n"
   ]
  },
  {
   "cell_type": "code",
   "execution_count": 27,
   "metadata": {},
   "outputs": [
    {
     "data": {
      "application/vnd.jupyter.widget-view+json": {
       "model_id": "cfdb088062f14b13b7d02ed41065d77c",
       "version_major": 2,
       "version_minor": 0
      },
      "text/plain": [
       "Canvas(height=200, width=720)"
      ]
     },
     "metadata": {},
     "output_type": "display_data"
    }
   ],
   "source": [
    "# RGB with the R and B channels swapped. \n",
    "\n",
    "ptmp = palette.gen(lambda mp, i: [mp.rgb_b[i], mp.rgb_g[i], mp.rgb_r[i]])\n",
    "show_palette(rgb2hsl(ptmp))"
   ]
  },
  {
   "cell_type": "code",
   "execution_count": 28,
   "metadata": {},
   "outputs": [
    {
     "data": {
      "application/vnd.jupyter.widget-view+json": {
       "model_id": "93b0c02a84294af58377386cb2cdeba9",
       "version_major": 2,
       "version_minor": 0
      },
      "text/plain": [
       "Canvas(height=200, width=720)"
      ]
     },
     "metadata": {},
     "output_type": "display_data"
    }
   ],
   "source": [
    "# RGB - Red channel grayscale\n",
    "\n",
    "ptmp = palette.gen(lambda mp, i: [mp.rgb_r[i]]*3)\n",
    "show_palette(rgb2hsl(ptmp))"
   ]
  },
  {
   "cell_type": "code",
   "execution_count": 29,
   "metadata": {},
   "outputs": [
    {
     "data": {
      "application/vnd.jupyter.widget-view+json": {
       "model_id": "04f872c4c0b14350a3e0daecab05f1d7",
       "version_major": 2,
       "version_minor": 0
      },
      "text/plain": [
       "Canvas(height=200, width=720)"
      ]
     },
     "metadata": {},
     "output_type": "display_data"
    }
   ],
   "source": [
    "# RGB - reduce red by 60%\n",
    "\n",
    "ptmp = palette.gen(lambda mp, i: [mp.rgb[i][0]*.4, mp.rgb[i][1], mp.rgb[i][2]])\n",
    "show_palette(rgb2hsl(ptmp))"
   ]
  },
  {
   "cell_type": "code",
   "execution_count": 30,
   "metadata": {},
   "outputs": [
    {
     "data": {
      "application/vnd.jupyter.widget-view+json": {
       "model_id": "f20a7373e6884f6f82e94bd2557d9881",
       "version_major": 2,
       "version_minor": 0
      },
      "text/plain": [
       "Canvas(height=200, width=720)"
      ]
     },
     "metadata": {},
     "output_type": "display_data"
    }
   ],
   "source": [
    "# RGB - funky - reduce red on one end, blue on the other. Set green to 1 standard deviation \n",
    "# above the average green value throughout.\n",
    "\n",
    "ptmp = palette.gen(lambda mp, i: [mp.rgb_r[i]*i/mp.n, mp.rgb_mean_g+mp.rgb_std_g, mp.rgb_b[i]*(mp.n-i)/mp.n])\n",
    "show_palette(rgb2hsl(ptmp))"
   ]
  },
  {
   "cell_type": "code",
   "execution_count": 31,
   "metadata": {},
   "outputs": [
    {
     "data": {
      "application/vnd.jupyter.widget-view+json": {
       "model_id": "8dc63320e1e14326acb109b296684ab7",
       "version_major": 2,
       "version_minor": 0
      },
      "text/plain": [
       "Canvas(height=200, width=720)"
      ]
     },
     "metadata": {},
     "output_type": "display_data"
    }
   ],
   "source": [
    "# When the function passed to gen() returns None, nothing is appended to the generated palette.\n",
    "# Here are the colors from the master palette whose sat value is at least 1/2 a standard deviation \n",
    "# above the average saturation. \n",
    "\n",
    "ptmp = palette.gen(lambda mp, i: None if mp.hsl_s[i]<(mp.hsl_mean_s + .5*mp.hsl_std_s) else list(mp.hsl[i]))\n",
    "show_palette(ptmp)\n",
    "#p3"
   ]
  },
  {
   "cell_type": "code",
   "execution_count": 32,
   "metadata": {},
   "outputs": [
    {
     "data": {
      "application/vnd.jupyter.widget-view+json": {
       "model_id": "62a6c101230949d5b1923855f57bf2fd",
       "version_major": 2,
       "version_minor": 0
      },
      "text/plain": [
       "Canvas(height=200, width=720)"
      ]
     },
     "metadata": {},
     "output_type": "display_data"
    }
   ],
   "source": [
    "# When the function passed to gen() returns a tuple (or a set) the contents are iterated\n",
    "# and appended to the generated palette. \n",
    "\n",
    "\n",
    "# The original palette again . . . \n",
    "\n",
    "show_palette(palette.hsl)\n",
    "\n",
    "\n"
   ]
  },
  {
   "cell_type": "code",
   "execution_count": 33,
   "metadata": {},
   "outputs": [
    {
     "data": {
      "application/vnd.jupyter.widget-view+json": {
       "model_id": "28646479e36c44c08f88ca1e53ca039e",
       "version_major": 2,
       "version_minor": 0
      },
      "text/plain": [
       "Canvas(height=200, width=720)"
      ]
     },
     "metadata": {},
     "output_type": "display_data"
    }
   ],
   "source": [
    "# This generated palette generates two new neighbors for each palette color, each a\n",
    "# blend of 2/3 the original color and 1/3 the current neighbor. \n",
    "\n",
    "ptmp = palette.gen(lambda mp, i: (\n",
    "    mix_vec3(mp.rgb[i], mp.rgb[i-1], .333), \n",
    "    list(mp.rgb[i]), \n",
    "    mix_vec3(mp.rgb[i], mp.rgb[(i+1)%mp.n], .333)))\n",
    "\n",
    "# Comparing the two . . . \n",
    "show_multi_palette(palette.hsl, rgb2hsl(ptmp))"
   ]
  },
  {
   "cell_type": "code",
   "execution_count": 34,
   "metadata": {},
   "outputs": [
    {
     "name": "stdout",
     "output_type": "stream",
     "text": [
      "0.9278\n",
      "0.2848\n"
     ]
    },
    {
     "data": {
      "text/plain": [
       "2.9205495818399045"
      ]
     },
     "execution_count": 34,
     "metadata": {},
     "output_type": "execute_result"
    }
   ],
   "source": [
    "# Web Color Accessibility Guidelines WCAG 2.0  \n",
    "print(wcag_rel_lum(hex2rgb('#FFFF00')))\n",
    "print(wcag_rel_lum(hex2rgb('#FF00FF')))\n",
    "wcag_contrast_ratio(hex2rgb('#FFFF00'), hex2rgb('#FF00FF'))"
   ]
  },
  {
   "cell_type": "code",
   "execution_count": null,
   "metadata": {},
   "outputs": [],
   "source": [
    "\n",
    "# HWB support added.\n",
    "\n",
    "\n",
    "show_palette(rgb2hsl(hwb2rgb(rgb2hwb(ptmp))))"
   ]
  },
  {
   "cell_type": "code",
   "execution_count": 37,
   "metadata": {},
   "outputs": [
    {
     "data": {
      "text/plain": [
       "[0.6773683576460361, -2.220446049250313e-16, 0.3738369996060048]"
      ]
     },
     "execution_count": 37,
     "metadata": {},
     "output_type": "execute_result"
    }
   ],
   "source": [
    "hwb2hsv([0.6773683576460361, 0.5010261441468378, 0.8392000631972196])"
   ]
  },
  {
   "cell_type": "code",
   "execution_count": 38,
   "metadata": {},
   "outputs": [
    {
     "data": {
      "application/vnd.jupyter.widget-view+json": {
       "model_id": "e05c9c8f92d1429d9fe1d87c5f3a573b",
       "version_major": 2,
       "version_minor": 0
      },
      "text/plain": [
       "Canvas(height=200, width=720)"
      ]
     },
     "metadata": {},
     "output_type": "display_data"
    }
   ],
   "source": [
    "# Interpret ptmp as HWB\n",
    "show_palette(hwb2hsl(ptmp))"
   ]
  },
  {
   "cell_type": "code",
   "execution_count": 39,
   "metadata": {},
   "outputs": [
    {
     "data": {
      "application/vnd.jupyter.widget-view+json": {
       "model_id": "cc4f76e0c1764483816de11feffd22df",
       "version_major": 2,
       "version_minor": 0
      },
      "text/plain": [
       "Canvas(height=100, width=100)"
      ]
     },
     "metadata": {},
     "output_type": "display_data"
    }
   ],
   "source": [
    "\n",
    "\n",
    "# HWB \n",
    "show_hwb_color([0.5, 0.5, 0.2])\n"
   ]
  },
  {
   "cell_type": "code",
   "execution_count": 40,
   "metadata": {},
   "outputs": [
    {
     "data": {
      "application/vnd.jupyter.widget-view+json": {
       "model_id": "2a3a5c0fe4004e6f895d2ab0979eeae5",
       "version_major": 2,
       "version_minor": 0
      },
      "text/plain": [
       "Canvas(height=200, width=720)"
      ]
     },
     "metadata": {},
     "output_type": "display_data"
    }
   ],
   "source": [
    "# Create random walk palette and show in HWB, RGB, and HSV spaces. \n",
    "ptmp = random_walk_reflection_palette(50, [0.5, 0.5, 0.2], 0.01, 0.04)\n",
    "show_multi_palette(hwb2hsl(ptmp), \n",
    "                   rgb2hsl(ptmp),\n",
    "                   hsv2hsl(ptmp))"
   ]
  },
  {
   "cell_type": "code",
   "execution_count": 41,
   "metadata": {},
   "outputs": [
    {
     "data": {
      "application/vnd.jupyter.widget-view+json": {
       "model_id": "99d64c19e28248348becd423e9fbdc29",
       "version_major": 2,
       "version_minor": 0
      },
      "text/plain": [
       "Canvas(height=200, width=720)"
      ]
     },
     "metadata": {},
     "output_type": "display_data"
    }
   ],
   "source": [
    "# Swap the black and white channels in HWB. \n",
    "show_multi_palette(hwb2hsl(ptmp), \n",
    "                   hwb2hsl([ [v[0],v[2],v[1]] for v in ptmp]))"
   ]
  },
  {
   "cell_type": "code",
   "execution_count": 42,
   "metadata": {},
   "outputs": [
    {
     "data": {
      "application/vnd.jupyter.widget-view+json": {
       "model_id": "17f532cc0f114b47998002af1f876d87",
       "version_major": 2,
       "version_minor": 0
      },
      "text/plain": [
       "Canvas(height=200, width=720)"
      ]
     },
     "metadata": {},
     "output_type": "display_data"
    }
   ],
   "source": [
    "\n",
    "show_multi_palette(\n",
    "    hwb2hsl(palette.hwb), \n",
    "    rgb2hsl(palette.rgb),\n",
    "    hsv2hsl(palette.hsv),\n",
    "    palette.hsl)"
   ]
  },
  {
   "cell_type": "code",
   "execution_count": null,
   "metadata": {},
   "outputs": [],
   "source": []
  }
 ],
 "metadata": {
  "kernelspec": {
   "display_name": "Python 3 (ipykernel)",
   "language": "python",
   "name": "python3"
  },
  "language_info": {
   "codemirror_mode": {
    "name": "ipython",
    "version": 3
   },
   "file_extension": ".py",
   "mimetype": "text/x-python",
   "name": "python",
   "nbconvert_exporter": "python",
   "pygments_lexer": "ipython3",
   "version": "3.9.7"
  }
 },
 "nbformat": 4,
 "nbformat_minor": 4
}

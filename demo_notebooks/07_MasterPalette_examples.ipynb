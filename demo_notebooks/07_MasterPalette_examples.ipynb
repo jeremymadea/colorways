{
 "cells": [
  {
   "cell_type": "code",
   "execution_count": 1,
   "metadata": {},
   "outputs": [],
   "source": [
    "%run init_notebook.py"
   ]
  },
  {
   "cell_type": "code",
   "execution_count": 2,
   "metadata": {},
   "outputs": [],
   "source": [
    "import colorways.masterpalette as mp"
   ]
  },
  {
   "cell_type": "code",
   "execution_count": 3,
   "metadata": {},
   "outputs": [],
   "source": [
    "# Create a random walk palette in RGB space, convert to HSL, and make a MasterPalette object out of it.\n",
    "palette = mp.MasterPalette(rgb2hsl(random_walk_reflection_palette(100, [0.5, 0, 0.5], 0.05, 0.12)))"
   ]
  },
  {
   "cell_type": "code",
   "execution_count": 4,
   "metadata": {},
   "outputs": [
    {
     "name": "stdout",
     "output_type": "stream",
     "text": [
      "HSL mean saturation: 0.7389470482606274\n",
      "RGB maximum red: 0.6194600877438499\n",
      "HSV standard deviation of value:  0.07056459195099353\n",
      "\n",
      "Mean hue:  0.8367648037068203\n"
     ]
    },
    {
     "data": {
      "application/vnd.jupyter.widget-view+json": {
       "model_id": "743addb1b1854443af429317c2037aaf",
       "version_major": 2,
       "version_minor": 0
      },
      "text/plain": [
       "Canvas(height=100, width=100)"
      ]
     },
     "metadata": {},
     "output_type": "display_data"
    }
   ],
   "source": [
    "# The MasterPalette class makes statistics about the palette available. \n",
    "# \n",
    "# List of all available statistics:\n",
    "#\n",
    "# mean_hue_dist, mean_hue, \n",
    "# hsl_mean_s, hsl_std_s, hsl_min_s, hsl_max_s, hsl_mean_l, hsl_std_l, hsl_min_l, hsl_max_l, \n",
    "# hsv_mean_s, hsv_std_s, hsv_min_s, hsv_max_s, hsv_mean_v, hsv_std_v, hsv_min_v, hsv_max_v, \n",
    "# rgb_mean_r, rgb_std_r, rgb_min_r, rgb_max_r, rgb_mean_g, rgb_std_g, rgb_min_g, rgb_max_g, \n",
    "# rgb_mean_b, rgb_std_b, rgb_min_b, rgb_max_b, \n",
    "# hwb_mean_w, hwb_std_w, hwb_min_w, hwb_max_w, hwb_mean_b, hwb_std_b, hwb_min_b, hwb_max_b, \n",
    "# luma_mean, luma_std, luma_min, luma_max\n",
    "                                                                       \n",
    "\n",
    "print(\"HSL mean saturation:\", palette.hsl_mean_s)\n",
    "print(\"RGB maximum red:\", palette.rgb_max_r)\n",
    "print(\"HSV standard deviation of value: \", palette.hsv_std_v)\n",
    "print()\n",
    "print(\"Mean hue: \", palette.mean_hue)\n",
    "show_hsl([palette.mean_hue, 1, 0.5])"
   ]
  },
  {
   "cell_type": "code",
   "execution_count": 5,
   "metadata": {},
   "outputs": [
    {
     "data": {
      "application/vnd.jupyter.widget-view+json": {
       "model_id": "67bcc7e873b245288266f0923dedd008",
       "version_major": 2,
       "version_minor": 0
      },
      "text/plain": [
       "Canvas(height=200, width=720)"
      ]
     },
     "metadata": {},
     "output_type": "display_data"
    }
   ],
   "source": [
    "show_palette(palette.hsl)"
   ]
  },
  {
   "cell_type": "code",
   "execution_count": 6,
   "metadata": {},
   "outputs": [
    {
     "data": {
      "application/vnd.jupyter.widget-view+json": {
       "model_id": "ce4704af80cc4a23ad69cf9c6dfb7349",
       "version_major": 2,
       "version_minor": 0
      },
      "text/plain": [
       "Canvas(height=200, width=720)"
      ]
     },
     "metadata": {},
     "output_type": "display_data"
    }
   ],
   "source": [
    "show_palette(palette) # The default is HSL. "
   ]
  },
  {
   "cell_type": "code",
   "execution_count": 7,
   "metadata": {},
   "outputs": [
    {
     "data": {
      "application/vnd.jupyter.widget-view+json": {
       "model_id": "c1de84fc7d6340d6bcf27a2c5b34b92e",
       "version_major": 2,
       "version_minor": 0
      },
      "text/plain": [
       "Canvas(height=200, width=720)"
      ]
     },
     "metadata": {},
     "output_type": "display_data"
    }
   ],
   "source": [
    "show_palette(palette.get_hsl(order='by-hue')) # Order by hue"
   ]
  },
  {
   "cell_type": "code",
   "execution_count": 8,
   "metadata": {},
   "outputs": [
    {
     "data": {
      "application/vnd.jupyter.widget-view+json": {
       "model_id": "238b0c2375fb48d39812373067a0ba13",
       "version_major": 2,
       "version_minor": 0
      },
      "text/plain": [
       "Canvas(height=200, width=720)"
      ]
     },
     "metadata": {},
     "output_type": "display_data"
    }
   ],
   "source": [
    "show_palette(palette.get_hsl(order='by-lsat')) # Order by HSL's saturation value."
   ]
  },
  {
   "cell_type": "code",
   "execution_count": 9,
   "metadata": {},
   "outputs": [
    {
     "data": {
      "application/vnd.jupyter.widget-view+json": {
       "model_id": "341a60c299d448ef8f164db90d48450d",
       "version_major": 2,
       "version_minor": 0
      },
      "text/plain": [
       "Canvas(height=200, width=720)"
      ]
     },
     "metadata": {},
     "output_type": "display_data"
    }
   ],
   "source": [
    "show_palette(palette.get_hsl(order='by-vsat')) # Order by HSV's saturation value."
   ]
  },
  {
   "cell_type": "code",
   "execution_count": 10,
   "metadata": {},
   "outputs": [
    {
     "data": {
      "application/vnd.jupyter.widget-view+json": {
       "model_id": "36c08481639f415288a428ad9f3e26fb",
       "version_major": 2,
       "version_minor": 0
      },
      "text/plain": [
       "Canvas(height=200, width=720)"
      ]
     },
     "metadata": {},
     "output_type": "display_data"
    }
   ],
   "source": [
    "show_palette(palette.get_hsl(order='by-lum')) # Order by HSL's L value. "
   ]
  },
  {
   "cell_type": "code",
   "execution_count": 11,
   "metadata": {},
   "outputs": [
    {
     "data": {
      "application/vnd.jupyter.widget-view+json": {
       "model_id": "eccd1ff5eecd4d38b88dab8306b8a29f",
       "version_major": 2,
       "version_minor": 0
      },
      "text/plain": [
       "Canvas(height=200, width=720)"
      ]
     },
     "metadata": {},
     "output_type": "display_data"
    }
   ],
   "source": [
    "show_palette(palette.get_hsl(order='by-val')) # Order by HSV's V value."
   ]
  },
  {
   "cell_type": "code",
   "execution_count": 12,
   "metadata": {},
   "outputs": [
    {
     "data": {
      "application/vnd.jupyter.widget-view+json": {
       "model_id": "6a8cb1a0e142468bbf6ecd3f349c090e",
       "version_major": 2,
       "version_minor": 0
      },
      "text/plain": [
       "Canvas(height=200, width=720)"
      ]
     },
     "metadata": {},
     "output_type": "display_data"
    }
   ],
   "source": [
    "show_palette(palette.get_hsl(order='by-white')) # Order by HWB's White value"
   ]
  },
  {
   "cell_type": "code",
   "execution_count": 13,
   "metadata": {},
   "outputs": [
    {
     "data": {
      "application/vnd.jupyter.widget-view+json": {
       "model_id": "901c057f66774622bb5a37b02c201ee2",
       "version_major": 2,
       "version_minor": 0
      },
      "text/plain": [
       "Canvas(height=200, width=720)"
      ]
     },
     "metadata": {},
     "output_type": "display_data"
    }
   ],
   "source": [
    "show_palette(palette.get_hsl(order='by-black')) # Order by HWB's Black value."
   ]
  },
  {
   "cell_type": "code",
   "execution_count": 14,
   "metadata": {},
   "outputs": [
    {
     "data": {
      "application/vnd.jupyter.widget-view+json": {
       "model_id": "1238b43cae1941b38223b53eafe09e46",
       "version_major": 2,
       "version_minor": 0
      },
      "text/plain": [
       "Canvas(height=200, width=720)"
      ]
     },
     "metadata": {},
     "output_type": "display_data"
    }
   ],
   "source": [
    "show_palette(palette.get_hsl(order='by-L')) # Order by L*a*b's L value."
   ]
  },
  {
   "cell_type": "code",
   "execution_count": 15,
   "metadata": {},
   "outputs": [
    {
     "data": {
      "application/vnd.jupyter.widget-view+json": {
       "model_id": "1c45d7211f9747d7b18cd1a2b2737efa",
       "version_major": 2,
       "version_minor": 0
      },
      "text/plain": [
       "Canvas(height=200, width=720)"
      ]
     },
     "metadata": {},
     "output_type": "display_data"
    }
   ],
   "source": [
    "show_palette(palette.get_hsl(order='by-luma')) # Order by luma (using default y601 coefficients)"
   ]
  },
  {
   "cell_type": "code",
   "execution_count": 16,
   "metadata": {},
   "outputs": [
    {
     "data": {
      "application/vnd.jupyter.widget-view+json": {
       "model_id": "25cdc2f19e344bd2b2f3e07810807c86",
       "version_major": 2,
       "version_minor": 0
      },
      "text/plain": [
       "Canvas(height=200, width=720)"
      ]
     },
     "metadata": {},
     "output_type": "display_data"
    }
   ],
   "source": [
    "show_palette(palette.get_hsl(order='by-r')) # RGB red channel"
   ]
  },
  {
   "cell_type": "code",
   "execution_count": 17,
   "metadata": {},
   "outputs": [
    {
     "data": {
      "application/vnd.jupyter.widget-view+json": {
       "model_id": "77c4f12e0e75487687dfcaa15a5ced40",
       "version_major": 2,
       "version_minor": 0
      },
      "text/plain": [
       "Canvas(height=200, width=720)"
      ]
     },
     "metadata": {},
     "output_type": "display_data"
    }
   ],
   "source": [
    "show_palette(palette.get_hsl(order='by-g')) # RGB green channel"
   ]
  },
  {
   "cell_type": "code",
   "execution_count": 18,
   "metadata": {},
   "outputs": [
    {
     "data": {
      "application/vnd.jupyter.widget-view+json": {
       "model_id": "804b64255ec94115884b65d2245b2f20",
       "version_major": 2,
       "version_minor": 0
      },
      "text/plain": [
       "Canvas(height=200, width=720)"
      ]
     },
     "metadata": {},
     "output_type": "display_data"
    }
   ],
   "source": [
    "show_palette(palette.get_hsl(order='by-b')) # RGB blue channel"
   ]
  },
  {
   "cell_type": "code",
   "execution_count": 19,
   "metadata": {},
   "outputs": [
    {
     "data": {
      "application/vnd.jupyter.widget-view+json": {
       "model_id": "40729bea85984efc8f6d02308f60acc8",
       "version_major": 2,
       "version_minor": 0
      },
      "text/plain": [
       "Canvas(height=200, width=720)"
      ]
     },
     "metadata": {},
     "output_type": "display_data"
    }
   ],
   "source": [
    "# Custom ordering\n",
    "\n",
    "def by_rb_diff(mpal, i):\n",
    "    return abs(mpal.rgb[i][0]-mpal.rgb[i][2])\n",
    "\n",
    "palette.create_ordering('by-rb-diff', by_rb_diff)\n",
    "\n",
    "show_palette(palette.get_hsl(order='by-rb-diff'))"
   ]
  },
  {
   "cell_type": "code",
   "execution_count": 20,
   "metadata": {},
   "outputs": [
    {
     "data": {
      "application/vnd.jupyter.widget-view+json": {
       "model_id": "66980b7866d845b299942809db376a6d",
       "version_major": 2,
       "version_minor": 0
      },
      "text/plain": [
       "Canvas(height=200, width=720)"
      ]
     },
     "metadata": {},
     "output_type": "display_data"
    }
   ],
   "source": [
    "# Custom ordering by distance using new_order_by_dist_closure() helper.\n",
    "\n",
    "palette.create_ordering('de2000-to-8e8e2c', mp.new_order_by_dist_closure('#8E8E2C', ciede2000)) \n",
    "show_palette(palette.get_hsl(order='de2000-to-8e8e2c'))"
   ]
  },
  {
   "cell_type": "code",
   "execution_count": 21,
   "metadata": {},
   "outputs": [
    {
     "data": {
      "application/vnd.jupyter.widget-view+json": {
       "model_id": "3e85a21ea8ac4d5a9e108a5d54da6194",
       "version_major": 2,
       "version_minor": 0
      },
      "text/plain": [
       "Canvas(height=100, width=100)"
      ]
     },
     "metadata": {},
     "output_type": "display_data"
    }
   ],
   "source": [
    "show_color('#8E8E2C')"
   ]
  },
  {
   "cell_type": "code",
   "execution_count": 22,
   "metadata": {},
   "outputs": [
    {
     "data": {
      "application/vnd.jupyter.widget-view+json": {
       "model_id": "12daa26b2ba34da8a6d77e6761f67430",
       "version_major": 2,
       "version_minor": 0
      },
      "text/plain": [
       "Canvas(height=200, width=720)"
      ]
     },
     "metadata": {},
     "output_type": "display_data"
    }
   ],
   "source": [
    "palette.create_ordering('cie94-to-yellow', mp.new_order_by_dist_closure('#FFFF00', cie94)) \n",
    "show_palette(palette.get_hsl(order='cie94-to-yellow'))"
   ]
  },
  {
   "cell_type": "code",
   "execution_count": 23,
   "metadata": {},
   "outputs": [
    {
     "data": {
      "application/vnd.jupyter.widget-view+json": {
       "model_id": "d9b9c8556af94e9da56b667fa40ce51d",
       "version_major": 2,
       "version_minor": 0
      },
      "text/plain": [
       "Canvas(height=100, width=100)"
      ]
     },
     "metadata": {},
     "output_type": "display_data"
    }
   ],
   "source": [
    "show_color('#FFFF00')"
   ]
  },
  {
   "cell_type": "code",
   "execution_count": 24,
   "metadata": {},
   "outputs": [
    {
     "data": {
      "application/vnd.jupyter.widget-view+json": {
       "model_id": "d3dd879182ac44549abedfbfb1817f90",
       "version_major": 2,
       "version_minor": 0
      },
      "text/plain": [
       "Canvas(height=200, width=720)"
      ]
     },
     "metadata": {},
     "output_type": "display_data"
    }
   ],
   "source": [
    "palette.create_bin_ordering('by-hue-lum', 3, 'by-hue', 'by-lum')\n",
    "show_palette(palette.get_hsl(order='by-hue-lum'))"
   ]
  },
  {
   "cell_type": "code",
   "execution_count": 25,
   "metadata": {},
   "outputs": [
    {
     "data": {
      "application/vnd.jupyter.widget-view+json": {
       "model_id": "c15abc4fea32434e9f0d36cd5e1b257a",
       "version_major": 2,
       "version_minor": 0
      },
      "text/plain": [
       "Canvas(height=200, width=720)"
      ]
     },
     "metadata": {},
     "output_type": "display_data"
    }
   ],
   "source": [
    "# Example of modify_palette function. (Procedural API)\n",
    "\n",
    "def shade(x, i, n, maximum=1.0):\n",
    "    return min(maximum, x * (i+1)/n * maximum)\n",
    "\n",
    "p2 = modify_palette(palette.hsl, 2, shade, maximum=0.8)\n",
    "show_palette(p2)"
   ]
  },
  {
   "cell_type": "code",
   "execution_count": 26,
   "metadata": {},
   "outputs": [
    {
     "data": {
      "application/vnd.jupyter.widget-view+json": {
       "model_id": "b9ef38b074594c44b863f1ba77678629",
       "version_major": 2,
       "version_minor": 0
      },
      "text/plain": [
       "Canvas(height=200, width=720)"
      ]
     },
     "metadata": {},
     "output_type": "display_data"
    }
   ],
   "source": [
    "# MasterPalette's gen() method is a lot more flexible than modify_palette. \n",
    "\n",
    "# The original palette . . . \n",
    "\n",
    "show_palette(palette.hsl)"
   ]
  },
  {
   "cell_type": "code",
   "execution_count": 27,
   "metadata": {},
   "outputs": [
    {
     "data": {
      "application/vnd.jupyter.widget-view+json": {
       "model_id": "9c559ca702054b8b8ed140a4412e6097",
       "version_major": 2,
       "version_minor": 0
      },
      "text/plain": [
       "Canvas(height=200, width=720)"
      ]
     },
     "metadata": {},
     "output_type": "display_data"
    }
   ],
   "source": [
    "# HSL with luma substituted for the L channel.\n",
    "ptmp = palette.gen(lambda mp, i: [mp.hsl_h[i], mp.hsl_s[i], mp.luma[i]])\n",
    "show_palette(ptmp)\n"
   ]
  },
  {
   "cell_type": "code",
   "execution_count": 28,
   "metadata": {},
   "outputs": [
    {
     "data": {
      "application/vnd.jupyter.widget-view+json": {
       "model_id": "820e5f407aaf4945aa7c63f1e1f54632",
       "version_major": 2,
       "version_minor": 0
      },
      "text/plain": [
       "Canvas(height=200, width=720)"
      ]
     },
     "metadata": {},
     "output_type": "display_data"
    }
   ],
   "source": [
    "# RGB with the R and B channels swapped. \n",
    "\n",
    "ptmp = palette.gen(lambda mp, i: [mp.rgb_b[i], mp.rgb_g[i], mp.rgb_r[i]])\n",
    "show_palette(rgb2hsl(ptmp))"
   ]
  },
  {
   "cell_type": "code",
   "execution_count": 29,
   "metadata": {},
   "outputs": [
    {
     "data": {
      "application/vnd.jupyter.widget-view+json": {
       "model_id": "89922449b2c5433d9415863db827c667",
       "version_major": 2,
       "version_minor": 0
      },
      "text/plain": [
       "Canvas(height=200, width=720)"
      ]
     },
     "metadata": {},
     "output_type": "display_data"
    }
   ],
   "source": [
    "# RGB - Red channel grayscale\n",
    "\n",
    "ptmp = palette.gen(lambda mp, i: [mp.rgb_r[i]]*3)\n",
    "show_palette(rgb2hsl(ptmp))"
   ]
  },
  {
   "cell_type": "code",
   "execution_count": 30,
   "metadata": {},
   "outputs": [
    {
     "data": {
      "application/vnd.jupyter.widget-view+json": {
       "model_id": "2a47dae6a0f2464fa2d292044c0fe56a",
       "version_major": 2,
       "version_minor": 0
      },
      "text/plain": [
       "Canvas(height=200, width=720)"
      ]
     },
     "metadata": {},
     "output_type": "display_data"
    }
   ],
   "source": [
    "# RGB - reduce red by 60%\n",
    "\n",
    "ptmp = palette.gen(lambda mp, i: [mp.rgb[i][0]*.4, mp.rgb[i][1], mp.rgb[i][2]])\n",
    "show_palette(rgb2hsl(ptmp))"
   ]
  },
  {
   "cell_type": "code",
   "execution_count": 31,
   "metadata": {},
   "outputs": [
    {
     "data": {
      "application/vnd.jupyter.widget-view+json": {
       "model_id": "c4a606fe481e4c989dbb5a50035340bf",
       "version_major": 2,
       "version_minor": 0
      },
      "text/plain": [
       "Canvas(height=200, width=720)"
      ]
     },
     "metadata": {},
     "output_type": "display_data"
    }
   ],
   "source": [
    "# RGB - funky - reduce red on one end, blue on the other. Set green to 1 standard deviation \n",
    "# above the average green value throughout.\n",
    "\n",
    "ptmp = palette.gen(lambda mp, i: [mp.rgb_r[i]*i/mp.n, mp.rgb_mean_g+mp.rgb_std_g, mp.rgb_b[i]*(mp.n-i)/mp.n])\n",
    "show_palette(rgb2hsl(ptmp))"
   ]
  },
  {
   "cell_type": "code",
   "execution_count": 32,
   "metadata": {},
   "outputs": [
    {
     "data": {
      "application/vnd.jupyter.widget-view+json": {
       "model_id": "b0f2b62163c147218d544bbe2f697a3e",
       "version_major": 2,
       "version_minor": 0
      },
      "text/plain": [
       "Canvas(height=200, width=720)"
      ]
     },
     "metadata": {},
     "output_type": "display_data"
    }
   ],
   "source": [
    "# When the function passed to gen() returns None, nothing is appended to the generated palette.\n",
    "# Here are the colors from the master palette whose sat value is at least 1/2 a standard deviation \n",
    "# above the average saturation. \n",
    "\n",
    "ptmp = palette.gen(lambda mp, i: None if mp.hsl_s[i]<(mp.hsl_mean_s + .5*mp.hsl_std_s) else list(mp.hsl[i]))\n",
    "show_palette(ptmp)\n",
    "#p3"
   ]
  },
  {
   "cell_type": "code",
   "execution_count": 33,
   "metadata": {},
   "outputs": [
    {
     "data": {
      "application/vnd.jupyter.widget-view+json": {
       "model_id": "0b931068eda24d9db5b3c674cc9109e6",
       "version_major": 2,
       "version_minor": 0
      },
      "text/plain": [
       "Canvas(height=200, width=720)"
      ]
     },
     "metadata": {},
     "output_type": "display_data"
    }
   ],
   "source": [
    "# When the function passed to gen() returns a tuple (or a set) the contents are iterated\n",
    "# and appended to the generated palette. \n",
    "\n",
    "\n",
    "# The original palette again . . . \n",
    "\n",
    "show_palette(palette.hsl)\n",
    "\n",
    "\n"
   ]
  },
  {
   "cell_type": "code",
   "execution_count": 34,
   "metadata": {},
   "outputs": [
    {
     "data": {
      "application/vnd.jupyter.widget-view+json": {
       "model_id": "0a46ee50f5414801abfa520f206f10d0",
       "version_major": 2,
       "version_minor": 0
      },
      "text/plain": [
       "Canvas(height=200, width=720)"
      ]
     },
     "metadata": {},
     "output_type": "display_data"
    }
   ],
   "source": [
    "# This generated palette generates two new neighbors for each palette color, each a\n",
    "# blend of 2/3 the original color and 1/3 the current neighbor. \n",
    "\n",
    "ptmp = palette.gen(lambda mp, i: (\n",
    "    mix_vec3(mp.rgb[i], mp.rgb[i-1], .333), \n",
    "    list(mp.rgb[i]), \n",
    "    mix_vec3(mp.rgb[i], mp.rgb[(i+1)%mp.n], .333)))\n",
    "\n",
    "# Comparing the two . . . \n",
    "show_multi_palette(palette.hsl, rgb2hsl(ptmp))"
   ]
  },
  {
   "cell_type": "code",
   "execution_count": 35,
   "metadata": {},
   "outputs": [
    {
     "name": "stdout",
     "output_type": "stream",
     "text": [
      "0.9278\n",
      "0.2848\n"
     ]
    },
    {
     "data": {
      "text/plain": [
       "2.9205495818399045"
      ]
     },
     "execution_count": 35,
     "metadata": {},
     "output_type": "execute_result"
    }
   ],
   "source": [
    "# Web Color Accessibility Guidelines WCAG 2.0  \n",
    "print(wcag_rel_lum(hex2rgb('#FFFF00')))\n",
    "print(wcag_rel_lum(hex2rgb('#FF00FF')))\n",
    "wcag_contrast_ratio(hex2rgb('#FFFF00'), hex2rgb('#FF00FF'))"
   ]
  },
  {
   "cell_type": "code",
   "execution_count": 36,
   "metadata": {},
   "outputs": [
    {
     "data": {
      "application/vnd.jupyter.widget-view+json": {
       "model_id": "4015e3af6061478d8b5b742ca4a6b40c",
       "version_major": 2,
       "version_minor": 0
      },
      "text/plain": [
       "Canvas(height=200, width=720)"
      ]
     },
     "metadata": {},
     "output_type": "display_data"
    }
   ],
   "source": [
    "\n",
    "# HWB support added.\n",
    "\n",
    "\n",
    "show_palette(rgb2hsl(hwb2rgb(rgb2hwb(ptmp))))"
   ]
  },
  {
   "cell_type": "code",
   "execution_count": 37,
   "metadata": {},
   "outputs": [
    {
     "data": {
      "text/plain": [
       "[0.6773683576460361, -2.220446049250313e-16, 0.3738369996060048]"
      ]
     },
     "execution_count": 37,
     "metadata": {},
     "output_type": "execute_result"
    }
   ],
   "source": [
    "hwb2hsv([0.6773683576460361, 0.5010261441468378, 0.8392000631972196])"
   ]
  },
  {
   "cell_type": "code",
   "execution_count": 38,
   "metadata": {},
   "outputs": [
    {
     "data": {
      "application/vnd.jupyter.widget-view+json": {
       "model_id": "668c0af78b804f898319a4d7b4dd4313",
       "version_major": 2,
       "version_minor": 0
      },
      "text/plain": [
       "Canvas(height=200, width=720)"
      ]
     },
     "metadata": {},
     "output_type": "display_data"
    }
   ],
   "source": [
    "# Interpret ptmp as HWB\n",
    "show_palette(hwb2hsl(ptmp))"
   ]
  },
  {
   "cell_type": "code",
   "execution_count": 39,
   "metadata": {},
   "outputs": [
    {
     "data": {
      "application/vnd.jupyter.widget-view+json": {
       "model_id": "2c56a5b9145840c89d0788d8f6c16507",
       "version_major": 2,
       "version_minor": 0
      },
      "text/plain": [
       "Canvas(height=100, width=100)"
      ]
     },
     "metadata": {},
     "output_type": "display_data"
    }
   ],
   "source": [
    "# HWB \n",
    "show_hwb([0.5, 0.5, 0.2])\n"
   ]
  },
  {
   "cell_type": "code",
   "execution_count": 40,
   "metadata": {},
   "outputs": [
    {
     "data": {
      "application/vnd.jupyter.widget-view+json": {
       "model_id": "ec42b21e319f42bf9bee5d6640de3065",
       "version_major": 2,
       "version_minor": 0
      },
      "text/plain": [
       "Canvas(height=200, width=720)"
      ]
     },
     "metadata": {},
     "output_type": "display_data"
    }
   ],
   "source": [
    "# Create random walk palette and show in HWB, RGB, and HSV spaces. \n",
    "ptmp = random_walk_reflection_palette(50, [0.5, 0.5, 0.2], 0.01, 0.04)\n",
    "show_multi_palette(hwb2hsl(ptmp), \n",
    "                   rgb2hsl(ptmp),\n",
    "                   hsv2hsl(ptmp))"
   ]
  },
  {
   "cell_type": "code",
   "execution_count": 41,
   "metadata": {},
   "outputs": [
    {
     "data": {
      "application/vnd.jupyter.widget-view+json": {
       "model_id": "71076854b61144a485a5dc762d6d125f",
       "version_major": 2,
       "version_minor": 0
      },
      "text/plain": [
       "Canvas(height=200, width=720)"
      ]
     },
     "metadata": {},
     "output_type": "display_data"
    }
   ],
   "source": [
    "# Swap the black and white channels in HWB. \n",
    "show_multi_palette(hwb2hsl(ptmp), \n",
    "                   hwb2hsl([ [v[0],v[2],v[1]] for v in ptmp]))"
   ]
  },
  {
   "cell_type": "code",
   "execution_count": 42,
   "metadata": {},
   "outputs": [
    {
     "data": {
      "application/vnd.jupyter.widget-view+json": {
       "model_id": "7bba013b809e4848aec1b5d78576b4a5",
       "version_major": 2,
       "version_minor": 0
      },
      "text/plain": [
       "Canvas(height=200, width=720)"
      ]
     },
     "metadata": {},
     "output_type": "display_data"
    }
   ],
   "source": [
    "\n",
    "show_multi_palette(\n",
    "    hwb2hsl(palette.hwb), \n",
    "    rgb2hsl(palette.rgb),\n",
    "    hsv2hsl(palette.hsv),\n",
    "    palette.hsl)"
   ]
  },
  {
   "cell_type": "code",
   "execution_count": null,
   "metadata": {},
   "outputs": [],
   "source": []
  }
 ],
 "metadata": {
  "kernelspec": {
   "display_name": "Python 3 (ipykernel)",
   "language": "python",
   "name": "python3"
  },
  "language_info": {
   "codemirror_mode": {
    "name": "ipython",
    "version": 3
   },
   "file_extension": ".py",
   "mimetype": "text/x-python",
   "name": "python",
   "nbconvert_exporter": "python",
   "pygments_lexer": "ipython3",
   "version": "3.9.7"
  }
 },
 "nbformat": 4,
 "nbformat_minor": 4
}
